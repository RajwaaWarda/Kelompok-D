{
  "nbformat": 4,
  "nbformat_minor": 0,
  "metadata": {
    "colab": {
      "provenance": [],
      "include_colab_link": true
    },
    "kernelspec": {
      "name": "python3",
      "display_name": "Python 3"
    },
    "language_info": {
      "name": "python"
    }
  },
  "cells": [
    {
      "cell_type": "markdown",
      "metadata": {
        "id": "view-in-github",
        "colab_type": "text"
      },
      "source": [
        "<a href=\"https://colab.research.google.com/github/RajwaaWarda/Kelompok-D/blob/main/Case_Study_02_Data_Mining_Group_D.ipynb\" target=\"_parent\"><img src=\"https://colab.research.google.com/assets/colab-badge.svg\" alt=\"Open In Colab\"/></a>"
      ]
    },
    {
      "cell_type": "markdown",
      "source": [
        "<h1><center>MixITup Ice Cream</center></h1>\n",
        "\n",
        "MixITup adalah perusahan yang bergerak di bidang usaha Ice Cream, Boba Drinks, dan Desserts (snacks). Saat ini MixITup memiliki 3 cabang di Jakarta, Depok, dan Tangerang. Rencananya MixITup ingin memperluas bisnisnya ke kota lain dan melakukan massive marketing.\n",
        "\n",
        "Melalui data pelanggan yang berhasil dikumpulkan, akan dilakukan proses Data Mining lalu mendapatkan informasi/insight dan saran/rekomendasi/strategi ke perusahaan.\n",
        "\n",
        "Salah satu teknik yang bisa dilakukan adalah dengan melakukan **segmentasi pelanggan**. Yaitu dengan mengelompokkan pelanggan-pelanggan yang ada berdasarkan kesamaan karakter dari pelanggan tersebut. Untuk melakukan hal tersebut akan digunakan teknik *unsupervised machine learning*.\n",
        "\n",
        "*Salah satu teknik yang dapat digunakan adalah pengaplikasian machine learning menggunakan algoritma K-Prototypes. Algoritma K-Prototypes merupakan gabungan dari K-Means dan juga K-Modes yang dapat digunakan untuk melakukan segmentasi dengan data.*"
      ],
      "metadata": {
        "id": "aOV_fqB17va2"
      }
    },
    {
      "cell_type": "markdown",
      "source": [
        "# Import Library"
      ],
      "metadata": {
        "id": "yoUxdxsTK5Uu"
      }
    },
    {
      "cell_type": "code",
      "execution_count": 1,
      "metadata": {
        "id": "Mw69xyryJ9IQ"
      },
      "outputs": [],
      "source": [
        "import pandas as pd\n",
        "import matplotlib.pyplot as plt\n",
        "import seaborn as sns\n",
        "from sklearn.preprocessing import StandardScaler\n",
        "from sklearn.preprocessing import LabelEncoder\n",
        "import numpy as np"
      ]
    },
    {
      "cell_type": "code",
      "source": [
        "import warnings; warnings.simplefilter('ignore')"
      ],
      "metadata": {
        "id": "Ri3FLK4u4-Sk"
      },
      "execution_count": 2,
      "outputs": []
    },
    {
      "cell_type": "code",
      "source": [
        "!pip install kmodes"
      ],
      "metadata": {
        "id": "P-QrOrcbrltm",
        "colab": {
          "base_uri": "https://localhost:8080/"
        },
        "outputId": "2d937e3d-0447-4033-dc9c-649a99981f6d"
      },
      "execution_count": 3,
      "outputs": [
        {
          "output_type": "stream",
          "name": "stdout",
          "text": [
            "Collecting kmodes\n",
            "  Downloading kmodes-0.12.2-py2.py3-none-any.whl.metadata (8.1 kB)\n",
            "Requirement already satisfied: numpy>=1.10.4 in /usr/local/lib/python3.10/dist-packages (from kmodes) (1.26.4)\n",
            "Requirement already satisfied: scikit-learn>=0.22.0 in /usr/local/lib/python3.10/dist-packages (from kmodes) (1.5.2)\n",
            "Requirement already satisfied: scipy>=0.13.3 in /usr/local/lib/python3.10/dist-packages (from kmodes) (1.13.1)\n",
            "Requirement already satisfied: joblib>=0.11 in /usr/local/lib/python3.10/dist-packages (from kmodes) (1.4.2)\n",
            "Requirement already satisfied: threadpoolctl>=3.1.0 in /usr/local/lib/python3.10/dist-packages (from scikit-learn>=0.22.0->kmodes) (3.5.0)\n",
            "Downloading kmodes-0.12.2-py2.py3-none-any.whl (20 kB)\n",
            "Installing collected packages: kmodes\n",
            "Successfully installed kmodes-0.12.2\n"
          ]
        }
      ]
    },
    {
      "cell_type": "code",
      "source": [
        "from kmodes.kmodes import KModes\n",
        "from kmodes.kprototypes import KPrototypes"
      ],
      "metadata": {
        "id": "uFIS_mVyrhD_"
      },
      "execution_count": 4,
      "outputs": []
    },
    {
      "cell_type": "code",
      "source": [
        "import pickle"
      ],
      "metadata": {
        "id": "g2J6J4mfxCx0"
      },
      "execution_count": 5,
      "outputs": []
    },
    {
      "cell_type": "markdown",
      "source": [
        "Masalah ini akan dapat diselesakan dengan bantuan beberapa library sebagai berikut:\n",
        "\n",
        "\n",
        "*   **Pandas**, digunakan untuk melakukan pemroresan analisis data\n",
        "*   **Matplotlib**, digunakan sebagai dasar untuk melakukan visualisasi data\n",
        "\n",
        "*   **Seaborn**, digunakan di atas matplotlib untuk melakukan visualisasi data yang lebih menarik\n",
        "*   **Scikit - Learn**, digunakan untuk mempersiapkan data sebelum dilakukan permodelan\n",
        "\n",
        "\n",
        "\n"
      ],
      "metadata": {
        "id": "_Drga5zLBi-y"
      }
    },
    {
      "cell_type": "markdown",
      "source": [
        "# Load Data"
      ],
      "metadata": {
        "id": "_XJjY1U5K9Hg"
      }
    },
    {
      "cell_type": "markdown",
      "source": [
        "Langkah pertama yang perlu dilakukan adalah membaca data tersebut yang semula adalah *textfile* menjadi pandas dataframe. Menggunakan fungsi ***read_csv*** yang ada di pandas untuk memasukkan data."
      ],
      "metadata": {
        "id": "a7kEgkRDDcfM"
      }
    },
    {
      "cell_type": "code",
      "source": [
        "# URL raw dari file CSV\n",
        "url = 'https://raw.githubusercontent.com/RajwaaWarda/Kelompok-D/refs/heads/main/Case-Study-02-MixITup%20-%20Data.csv'\n",
        "# Membaca data dari file CSV\n",
        "mit = pd.read_csv(url)\n",
        "\n",
        "# Menampilkan beberapa baris pertama dari DataFrame\n",
        "print(mit.head())"
      ],
      "metadata": {
        "id": "nwpt9V7kMN3f",
        "colab": {
          "base_uri": "https://localhost:8080/"
        },
        "outputId": "1f0d42cd-7fdd-4827-d4e9-12b62091a65e"
      },
      "execution_count": 6,
      "outputs": [
        {
          "output_type": "stream",
          "name": "stdout",
          "text": [
            "    ID Jenis Kelamin Umur Pendapatan-per-bulan  skor-pengeluaran Menikah  \\\n",
            "0  101        Wanita   49         Rp13.114.754                52       1   \n",
            "1  102        Wanita   32         Rp33.606.557                86       1   \n",
            "2  103          Pria   51         Rp15.983.606                41       1   \n",
            "3  104          Pria   19         Rp12.704.918                55       0   \n",
            "4  105        Wanita   38         Rp20.081.967                42       1   \n",
            "\n",
            "      Kota  Promo HariFav  FavFlavor  \n",
            "0  Jakarta    1.0   Sabtu          2  \n",
            "1    Depok    1.0  Minggu          6  \n",
            "2  Jakarta    2.0  Minggu          3  \n",
            "3  Jakarta    1.0    Rabu          7  \n",
            "4  Jakarta    2.0   Senin          8  \n"
          ]
        }
      ]
    },
    {
      "cell_type": "markdown",
      "source": [
        "# Data Understanding"
      ],
      "metadata": {
        "id": "gwiarkViLGtt"
      }
    },
    {
      "cell_type": "code",
      "source": [
        "print(mit['Promo'].unique())  # Untuk satu kolom"
      ],
      "metadata": {
        "id": "KTPvxfd96aHN",
        "colab": {
          "base_uri": "https://localhost:8080/"
        },
        "outputId": "53b3ccca-f60d-4fa8-8c06-012184b26c2d"
      },
      "execution_count": 7,
      "outputs": [
        {
          "output_type": "stream",
          "name": "stdout",
          "text": [
            "[ 1.  2.  0. nan  3.  5.]\n"
          ]
        }
      ]
    },
    {
      "cell_type": "code",
      "source": [
        "mit['Promo'].value_counts()"
      ],
      "metadata": {
        "id": "g6JhMajatc9r",
        "colab": {
          "base_uri": "https://localhost:8080/",
          "height": 272
        },
        "outputId": "8e1fb344-43b7-4230-9edc-42657f74c0f6"
      },
      "execution_count": 8,
      "outputs": [
        {
          "output_type": "execute_result",
          "data": {
            "text/plain": [
              "Promo\n",
              "1.0    86\n",
              "3.0    50\n",
              "2.0    43\n",
              "0.0    14\n",
              "5.0     1\n",
              "Name: count, dtype: int64"
            ],
            "text/html": [
              "<div>\n",
              "<style scoped>\n",
              "    .dataframe tbody tr th:only-of-type {\n",
              "        vertical-align: middle;\n",
              "    }\n",
              "\n",
              "    .dataframe tbody tr th {\n",
              "        vertical-align: top;\n",
              "    }\n",
              "\n",
              "    .dataframe thead th {\n",
              "        text-align: right;\n",
              "    }\n",
              "</style>\n",
              "<table border=\"1\" class=\"dataframe\">\n",
              "  <thead>\n",
              "    <tr style=\"text-align: right;\">\n",
              "      <th></th>\n",
              "      <th>count</th>\n",
              "    </tr>\n",
              "    <tr>\n",
              "      <th>Promo</th>\n",
              "      <th></th>\n",
              "    </tr>\n",
              "  </thead>\n",
              "  <tbody>\n",
              "    <tr>\n",
              "      <th>1.0</th>\n",
              "      <td>86</td>\n",
              "    </tr>\n",
              "    <tr>\n",
              "      <th>3.0</th>\n",
              "      <td>50</td>\n",
              "    </tr>\n",
              "    <tr>\n",
              "      <th>2.0</th>\n",
              "      <td>43</td>\n",
              "    </tr>\n",
              "    <tr>\n",
              "      <th>0.0</th>\n",
              "      <td>14</td>\n",
              "    </tr>\n",
              "    <tr>\n",
              "      <th>5.0</th>\n",
              "      <td>1</td>\n",
              "    </tr>\n",
              "  </tbody>\n",
              "</table>\n",
              "</div><br><label><b>dtype:</b> int64</label>"
            ]
          },
          "metadata": {},
          "execution_count": 8
        }
      ]
    },
    {
      "cell_type": "code",
      "source": [
        "# Mengganti nilai 5 dengan 3\n",
        "mit['Promo'] = mit['Promo'].replace(5, 3)\n",
        "\n",
        "# Memeriksa hasil perubahan\n",
        "print(mit['Promo'].unique())\n"
      ],
      "metadata": {
        "id": "dWnj5arJ_IKB",
        "colab": {
          "base_uri": "https://localhost:8080/"
        },
        "outputId": "e63a1053-e3f1-492f-d8af-629508a2fdb0"
      },
      "execution_count": 9,
      "outputs": [
        {
          "output_type": "stream",
          "name": "stdout",
          "text": [
            "[ 1.  2.  0. nan  3.]\n"
          ]
        }
      ]
    },
    {
      "cell_type": "code",
      "source": [
        "mit['Umur'] = mit['Umur'].replace({\"'\": \" \"}, regex=True)\n",
        "print(mit['Umur'].unique())  # Untuk satu kolom"
      ],
      "metadata": {
        "id": "wgfIxdUAliAB",
        "colab": {
          "base_uri": "https://localhost:8080/"
        },
        "outputId": "5e7dbc40-e1dc-4bf0-94d3-4430305c7ccb"
      },
      "execution_count": 10,
      "outputs": [
        {
          "output_type": "stream",
          "name": "stdout",
          "text": [
            "['49' '32' '51' '19' '38' '33' '27' '24' '21' '31' '36' '46' '60' '58'\n",
            " '47' '45' '22' '18' '59' '44' '39' '35' '20' '30' '23' '48' '37' '40'\n",
            " '34' '41' '53' '54' '28' '55' '25' '50' '42' '29' '43' '52' '2' '35 '\n",
            " '56' '26' '57']\n"
          ]
        }
      ]
    },
    {
      "cell_type": "code",
      "source": [
        "print(mit['Umur'].unique())  # Untuk satu kolom"
      ],
      "metadata": {
        "id": "o8-Q9N0p-1aE",
        "colab": {
          "base_uri": "https://localhost:8080/"
        },
        "outputId": "e26d5062-1a61-4af5-cac3-22f1f539d625"
      },
      "execution_count": 11,
      "outputs": [
        {
          "output_type": "stream",
          "name": "stdout",
          "text": [
            "['49' '32' '51' '19' '38' '33' '27' '24' '21' '31' '36' '46' '60' '58'\n",
            " '47' '45' '22' '18' '59' '44' '39' '35' '20' '30' '23' '48' '37' '40'\n",
            " '34' '41' '53' '54' '28' '55' '25' '50' '42' '29' '43' '52' '2' '35 '\n",
            " '56' '26' '57']\n"
          ]
        }
      ]
    },
    {
      "cell_type": "code",
      "source": [
        "# Convert the 'Umur' column to string type before applying .str.strip()\n",
        "mit['Umur'] = mit['Umur'].astype(str).str.strip()\n",
        "\n",
        "# Mengganti nilai '2' dengan NaN\n",
        "mit['Umur'] = mit['Umur'].replace('2', np.nan)\n",
        "\n",
        "# Menghapus baris yang memiliki NaN di kolom 'Umur'\n",
        "mit.dropna(subset=['Umur'], inplace=True)\n",
        "\n",
        "# Melihat hasil perubahan\n",
        "print(mit['Umur'].unique())"
      ],
      "metadata": {
        "id": "LB__CJNfwLLM",
        "colab": {
          "base_uri": "https://localhost:8080/"
        },
        "outputId": "831a1844-e411-4cf4-d3a6-b86d41ea915e"
      },
      "execution_count": 12,
      "outputs": [
        {
          "output_type": "stream",
          "name": "stdout",
          "text": [
            "['49' '32' '51' '19' '38' '33' '27' '24' '21' '31' '36' '46' '60' '58'\n",
            " '47' '45' '22' '18' '59' '44' '39' '35' '20' '30' '23' '48' '37' '40'\n",
            " '34' '41' '53' '54' '28' '55' '25' '50' '42' '29' '43' '52' '56' '26'\n",
            " '57']\n"
          ]
        }
      ]
    },
    {
      "cell_type": "code",
      "source": [
        "print(mit['Jenis Kelamin'].unique())  # Untuk satu kolom"
      ],
      "metadata": {
        "id": "ER3cIQNghH8d",
        "colab": {
          "base_uri": "https://localhost:8080/"
        },
        "outputId": "469ce8c7-27ff-4e0e-fc6a-ce235a82323e"
      },
      "execution_count": 13,
      "outputs": [
        {
          "output_type": "stream",
          "name": "stdout",
          "text": [
            "['Wanita' 'Pria' nan '-']\n"
          ]
        }
      ]
    },
    {
      "cell_type": "code",
      "source": [
        "mit['Jenis Kelamin'].value_counts()"
      ],
      "metadata": {
        "id": "Xrhjo20s4sj_",
        "colab": {
          "base_uri": "https://localhost:8080/",
          "height": 210
        },
        "outputId": "df305ae7-0ebd-4a32-bf54-80f547d52268"
      },
      "execution_count": 14,
      "outputs": [
        {
          "output_type": "execute_result",
          "data": {
            "text/plain": [
              "Jenis Kelamin\n",
              "Wanita    109\n",
              "Pria       85\n",
              "-           1\n",
              "Name: count, dtype: int64"
            ],
            "text/html": [
              "<div>\n",
              "<style scoped>\n",
              "    .dataframe tbody tr th:only-of-type {\n",
              "        vertical-align: middle;\n",
              "    }\n",
              "\n",
              "    .dataframe tbody tr th {\n",
              "        vertical-align: top;\n",
              "    }\n",
              "\n",
              "    .dataframe thead th {\n",
              "        text-align: right;\n",
              "    }\n",
              "</style>\n",
              "<table border=\"1\" class=\"dataframe\">\n",
              "  <thead>\n",
              "    <tr style=\"text-align: right;\">\n",
              "      <th></th>\n",
              "      <th>count</th>\n",
              "    </tr>\n",
              "    <tr>\n",
              "      <th>Jenis Kelamin</th>\n",
              "      <th></th>\n",
              "    </tr>\n",
              "  </thead>\n",
              "  <tbody>\n",
              "    <tr>\n",
              "      <th>Wanita</th>\n",
              "      <td>109</td>\n",
              "    </tr>\n",
              "    <tr>\n",
              "      <th>Pria</th>\n",
              "      <td>85</td>\n",
              "    </tr>\n",
              "    <tr>\n",
              "      <th>-</th>\n",
              "      <td>1</td>\n",
              "    </tr>\n",
              "  </tbody>\n",
              "</table>\n",
              "</div><br><label><b>dtype:</b> int64</label>"
            ]
          },
          "metadata": {},
          "execution_count": 14
        }
      ]
    },
    {
      "cell_type": "code",
      "source": [
        "# Mengganti '-' dengan NaN\n",
        "mit['Jenis Kelamin'] = mit['Jenis Kelamin'].replace('-', np.nan)\n",
        "# Melihat hasil perubahan\n",
        "print(mit['Jenis Kelamin'].unique())\n"
      ],
      "metadata": {
        "id": "FRo2-53rsR9z",
        "colab": {
          "base_uri": "https://localhost:8080/"
        },
        "outputId": "8c58e349-2e89-4797-f3b6-33188c0e87fa"
      },
      "execution_count": 15,
      "outputs": [
        {
          "output_type": "stream",
          "name": "stdout",
          "text": [
            "['Wanita' 'Pria' nan]\n"
          ]
        }
      ]
    },
    {
      "cell_type": "code",
      "source": [
        "print(mit['Pendapatan-per-bulan'].unique())  # Untuk satu kolom"
      ],
      "metadata": {
        "id": "oxCvt5RMhNhH",
        "colab": {
          "base_uri": "https://localhost:8080/"
        },
        "outputId": "1bb8a104-59cb-42ed-ab34-14cd9113622a"
      },
      "execution_count": 16,
      "outputs": [
        {
          "output_type": "stream",
          "name": "stdout",
          "text": [
            "['Rp13.114.754' 'Rp33.606.557' 'Rp15.983.606' 'Rp12.704.918'\n",
            " 'Rp20.081.967' 'Rp29.098.360' 'Rp21.311.475' 'Rp2.049.180' 'Rp13.524.590'\n",
            " 'Rp19.262.295' 'Rp11.475.409' 'Rp29.508.196' 'Rp34.016.393' 'Rp6.147.540'\n",
            " 'Rp11.885.245' 'Rp25.819.672' 'Rp25.000.000' 'Rp5.327.868' 'Rp9.836.065'\n",
            " 'Rp23.770.491' 'Rp22.950.819' 'Rp1.229.508' 'Rp9.016.393' 'Rp9.426.229'\n",
            " 'Rp29.918.032' 'Rp28.688.524' 'Rp27.049.180' 'Rp18.442.622'\n",
            " 'Rp19.672.131' 'Rp11.065.573' 'Rp36.065.573' 'Rp20.491.803'\n",
            " 'Rp17.622.950' 'Rp409.836' 'Rp25.409.836' 'Rp1.639.344' 'Rp5.737.704'\n",
            " 'Rp34.426.229' 'Rp10.245.901' 'Rp50.000.000' 'Rp14.344.262'\n",
            " 'Rp35.245.901' 'Rp7.377.049' 'Rp45.491.803' 'Rp40.163.934' 'Rp17.213.114'\n",
            " 'Rp23.360.655' 'Rp7.786.885' 'Rp18.852.459' 'Rp22.131.147' 'Rp3.688.524'\n",
            " 'Rp2.459.016' 'Rp3.278.688' 'Rp24.180.327' 'Rp22.540.983' 'Rp819.672'\n",
            " 'Rp13.934.426' 'Rp26.229.508' 'Rp31.967.213' 'Rp24.590.163'\n",
            " 'Rp18.032.786' 'Rp43.032.786' 'Rp0' 'Rp4.098.360']\n"
          ]
        }
      ]
    },
    {
      "cell_type": "code",
      "source": [
        "print(mit['skor-pengeluaran'].unique())  # Untuk satu kolom"
      ],
      "metadata": {
        "id": "XDhkKhn6hXAT",
        "colab": {
          "base_uri": "https://localhost:8080/"
        },
        "outputId": "4150bd1a-a7ba-4be6-d77e-171affa9c656"
      },
      "execution_count": 17,
      "outputs": [
        {
          "output_type": "stream",
          "name": "stdout",
          "text": [
            "[ 52  86  41  55  42  95  56  77  47  54  92  15   4  50  16  87  32  28\n",
            "  79  59  60   7  75  57   6  73  69  40   5  89  49  13  88  48  10  36\n",
            "   3  31  39  46  83  68  14  24  65  91  61  90  58  93  34  44  17  53\n",
            "  97  27  11  43  22  18  35  99  66  29   9  45  23  82 101  51  20  72\n",
            "  71   1  81  98  26  76  78  63  74  85  12   8  94]\n"
          ]
        }
      ]
    },
    {
      "cell_type": "code",
      "source": [
        "# Mengganti nilai 101 dengan 100\n",
        "mit['skor-pengeluaran'] = mit['skor-pengeluaran'].replace(101, 100)\n",
        "\n",
        "# Memeriksa hasil perubahan\n",
        "print(mit['skor-pengeluaran'].unique())\n"
      ],
      "metadata": {
        "id": "FzJJzalZvlLT",
        "colab": {
          "base_uri": "https://localhost:8080/"
        },
        "outputId": "e2340abb-caf7-4004-84fc-23fcae720437"
      },
      "execution_count": 18,
      "outputs": [
        {
          "output_type": "stream",
          "name": "stdout",
          "text": [
            "[ 52  86  41  55  42  95  56  77  47  54  92  15   4  50  16  87  32  28\n",
            "  79  59  60   7  75  57   6  73  69  40   5  89  49  13  88  48  10  36\n",
            "   3  31  39  46  83  68  14  24  65  91  61  90  58  93  34  44  17  53\n",
            "  97  27  11  43  22  18  35  99  66  29   9  45  23  82 100  51  20  72\n",
            "  71   1  81  98  26  76  78  63  74  85  12   8  94]\n"
          ]
        }
      ]
    },
    {
      "cell_type": "code",
      "source": [
        "print(mit['Menikah'].unique())  # Untuk satu kolom"
      ],
      "metadata": {
        "id": "EnV4DOgyhfOq",
        "colab": {
          "base_uri": "https://localhost:8080/"
        },
        "outputId": "4fe66eee-928e-45a5-8f3d-07ea163dce38"
      },
      "execution_count": 19,
      "outputs": [
        {
          "output_type": "stream",
          "name": "stdout",
          "text": [
            "['1' '0' nan ' ' '-']\n"
          ]
        }
      ]
    },
    {
      "cell_type": "code",
      "source": [
        "# Mengganti ' ' dan '-' dengan NaN\n",
        "mit['Menikah'] = mit['Menikah'].replace(' ', np.nan)\n",
        "mit['Menikah'] = mit['Menikah'].replace('-', np.nan)\n",
        "# Melihat hasil perubahan\n",
        "print(mit['Menikah'].unique())\n"
      ],
      "metadata": {
        "id": "2gSozeM7vsHe",
        "colab": {
          "base_uri": "https://localhost:8080/"
        },
        "outputId": "aa394374-2076-42d5-c25f-d1de7bf0ddb8"
      },
      "execution_count": 20,
      "outputs": [
        {
          "output_type": "stream",
          "name": "stdout",
          "text": [
            "['1' '0' nan]\n"
          ]
        }
      ]
    },
    {
      "cell_type": "code",
      "source": [
        "print(mit['HariFav'].unique())  # Untuk satu kolom"
      ],
      "metadata": {
        "id": "MKBgNts3hl3J",
        "colab": {
          "base_uri": "https://localhost:8080/"
        },
        "outputId": "ebca2347-c137-4898-e0e6-f214b8350593"
      },
      "execution_count": 21,
      "outputs": [
        {
          "output_type": "stream",
          "name": "stdout",
          "text": [
            "['Sabtu' 'Minggu' 'Rabu' 'Senin' 'Selasa' 'Jumat' 'Kamis']\n"
          ]
        }
      ]
    },
    {
      "cell_type": "code",
      "source": [
        "print(mit['Kota'].unique())  # Untuk satu kolom"
      ],
      "metadata": {
        "id": "oiLfwnPdhmAt",
        "colab": {
          "base_uri": "https://localhost:8080/"
        },
        "outputId": "982c6f13-cd5a-479c-f6d6-06689e7269d5"
      },
      "execution_count": 22,
      "outputs": [
        {
          "output_type": "stream",
          "name": "stdout",
          "text": [
            "['Jakarta' 'Depok' 'Tangerang' 'JJakarta']\n"
          ]
        }
      ]
    },
    {
      "cell_type": "code",
      "source": [
        "mit['Kota'].value_counts()"
      ],
      "metadata": {
        "id": "xjc9_mcr5Lwm",
        "colab": {
          "base_uri": "https://localhost:8080/",
          "height": 241
        },
        "outputId": "e5e207d1-7748-482a-acd4-596faf5243b9"
      },
      "execution_count": 23,
      "outputs": [
        {
          "output_type": "execute_result",
          "data": {
            "text/plain": [
              "Kota\n",
              "Jakarta      86\n",
              "Depok        59\n",
              "Tangerang    53\n",
              "JJakarta      1\n",
              "Name: count, dtype: int64"
            ],
            "text/html": [
              "<div>\n",
              "<style scoped>\n",
              "    .dataframe tbody tr th:only-of-type {\n",
              "        vertical-align: middle;\n",
              "    }\n",
              "\n",
              "    .dataframe tbody tr th {\n",
              "        vertical-align: top;\n",
              "    }\n",
              "\n",
              "    .dataframe thead th {\n",
              "        text-align: right;\n",
              "    }\n",
              "</style>\n",
              "<table border=\"1\" class=\"dataframe\">\n",
              "  <thead>\n",
              "    <tr style=\"text-align: right;\">\n",
              "      <th></th>\n",
              "      <th>count</th>\n",
              "    </tr>\n",
              "    <tr>\n",
              "      <th>Kota</th>\n",
              "      <th></th>\n",
              "    </tr>\n",
              "  </thead>\n",
              "  <tbody>\n",
              "    <tr>\n",
              "      <th>Jakarta</th>\n",
              "      <td>86</td>\n",
              "    </tr>\n",
              "    <tr>\n",
              "      <th>Depok</th>\n",
              "      <td>59</td>\n",
              "    </tr>\n",
              "    <tr>\n",
              "      <th>Tangerang</th>\n",
              "      <td>53</td>\n",
              "    </tr>\n",
              "    <tr>\n",
              "      <th>JJakarta</th>\n",
              "      <td>1</td>\n",
              "    </tr>\n",
              "  </tbody>\n",
              "</table>\n",
              "</div><br><label><b>dtype:</b> int64</label>"
            ]
          },
          "metadata": {},
          "execution_count": 23
        }
      ]
    },
    {
      "cell_type": "code",
      "source": [
        "# Mengganti 'JJakarta' dengan 'Jakarta' menggunakan str.replace\n",
        "mit['Kota'] = mit['Kota'].replace('JJakarta', 'Jakarta')\n",
        "\n",
        "# Memeriksa hasil perubahan\n",
        "print(mit['Kota'].unique())\n"
      ],
      "metadata": {
        "id": "HiP1ykGiw90_",
        "colab": {
          "base_uri": "https://localhost:8080/"
        },
        "outputId": "593d5026-95b0-453a-f540-2b20808b573d"
      },
      "execution_count": 24,
      "outputs": [
        {
          "output_type": "stream",
          "name": "stdout",
          "text": [
            "['Jakarta' 'Depok' 'Tangerang']\n"
          ]
        }
      ]
    },
    {
      "cell_type": "code",
      "source": [
        "print(mit['FavFlavor'].unique())  # Untuk satu kolom"
      ],
      "metadata": {
        "id": "juog9FiqhmI6",
        "colab": {
          "base_uri": "https://localhost:8080/"
        },
        "outputId": "be9f1fc8-3ea7-47f3-ef0b-07ce586042fe"
      },
      "execution_count": 25,
      "outputs": [
        {
          "output_type": "stream",
          "name": "stdout",
          "text": [
            "[2 6 3 7 8 0 5 4 1 9]\n"
          ]
        }
      ]
    },
    {
      "cell_type": "code",
      "source": [
        "mit['FavFlavor'].value_counts()\n"
      ],
      "metadata": {
        "id": "_KThRRcH5Qc0",
        "colab": {
          "base_uri": "https://localhost:8080/",
          "height": 429
        },
        "outputId": "1aa2f244-832a-4b20-a6f8-cf46b16bc985"
      },
      "execution_count": 26,
      "outputs": [
        {
          "output_type": "execute_result",
          "data": {
            "text/plain": [
              "FavFlavor\n",
              "0    39\n",
              "2    20\n",
              "6    20\n",
              "3    20\n",
              "7    20\n",
              "5    20\n",
              "4    20\n",
              "1    20\n",
              "8    19\n",
              "9     1\n",
              "Name: count, dtype: int64"
            ],
            "text/html": [
              "<div>\n",
              "<style scoped>\n",
              "    .dataframe tbody tr th:only-of-type {\n",
              "        vertical-align: middle;\n",
              "    }\n",
              "\n",
              "    .dataframe tbody tr th {\n",
              "        vertical-align: top;\n",
              "    }\n",
              "\n",
              "    .dataframe thead th {\n",
              "        text-align: right;\n",
              "    }\n",
              "</style>\n",
              "<table border=\"1\" class=\"dataframe\">\n",
              "  <thead>\n",
              "    <tr style=\"text-align: right;\">\n",
              "      <th></th>\n",
              "      <th>count</th>\n",
              "    </tr>\n",
              "    <tr>\n",
              "      <th>FavFlavor</th>\n",
              "      <th></th>\n",
              "    </tr>\n",
              "  </thead>\n",
              "  <tbody>\n",
              "    <tr>\n",
              "      <th>0</th>\n",
              "      <td>39</td>\n",
              "    </tr>\n",
              "    <tr>\n",
              "      <th>2</th>\n",
              "      <td>20</td>\n",
              "    </tr>\n",
              "    <tr>\n",
              "      <th>6</th>\n",
              "      <td>20</td>\n",
              "    </tr>\n",
              "    <tr>\n",
              "      <th>3</th>\n",
              "      <td>20</td>\n",
              "    </tr>\n",
              "    <tr>\n",
              "      <th>7</th>\n",
              "      <td>20</td>\n",
              "    </tr>\n",
              "    <tr>\n",
              "      <th>5</th>\n",
              "      <td>20</td>\n",
              "    </tr>\n",
              "    <tr>\n",
              "      <th>4</th>\n",
              "      <td>20</td>\n",
              "    </tr>\n",
              "    <tr>\n",
              "      <th>1</th>\n",
              "      <td>20</td>\n",
              "    </tr>\n",
              "    <tr>\n",
              "      <th>8</th>\n",
              "      <td>19</td>\n",
              "    </tr>\n",
              "    <tr>\n",
              "      <th>9</th>\n",
              "      <td>1</td>\n",
              "    </tr>\n",
              "  </tbody>\n",
              "</table>\n",
              "</div><br><label><b>dtype:</b> int64</label>"
            ]
          },
          "metadata": {},
          "execution_count": 26
        }
      ]
    },
    {
      "cell_type": "code",
      "source": [
        "# Mengganti nilai 9 dengan 8\n",
        "mit['FavFlavor'] = mit['FavFlavor'].replace(9, 8)\n",
        "\n",
        "# Memeriksa hasil perubahan\n",
        "print(mit['FavFlavor'].unique())\n"
      ],
      "metadata": {
        "id": "svCCV8ybxMMx",
        "colab": {
          "base_uri": "https://localhost:8080/"
        },
        "outputId": "14b8bbbe-369d-4035-a6ac-855916666d58"
      },
      "execution_count": 27,
      "outputs": [
        {
          "output_type": "stream",
          "name": "stdout",
          "text": [
            "[2 6 3 7 8 0 5 4 1]\n"
          ]
        }
      ]
    },
    {
      "cell_type": "code",
      "source": [
        "mit.drop('ID', axis = 1, inplace = True)"
      ],
      "metadata": {
        "id": "OUtKmIKtvVXY"
      },
      "execution_count": 28,
      "outputs": []
    },
    {
      "cell_type": "code",
      "source": [
        "mit.info()"
      ],
      "metadata": {
        "id": "tFyfr5utUgv8",
        "colab": {
          "base_uri": "https://localhost:8080/"
        },
        "outputId": "b7f68e3f-7039-499d-b614-f642ad583275"
      },
      "execution_count": 29,
      "outputs": [
        {
          "output_type": "stream",
          "name": "stdout",
          "text": [
            "<class 'pandas.core.frame.DataFrame'>\n",
            "Index: 199 entries, 0 to 199\n",
            "Data columns (total 9 columns):\n",
            " #   Column                Non-Null Count  Dtype  \n",
            "---  ------                --------------  -----  \n",
            " 0   Jenis Kelamin         194 non-null    object \n",
            " 1   Umur                  199 non-null    object \n",
            " 2   Pendapatan-per-bulan  199 non-null    object \n",
            " 3   skor-pengeluaran      199 non-null    int64  \n",
            " 4   Menikah               185 non-null    object \n",
            " 5   Kota                  199 non-null    object \n",
            " 6   Promo                 193 non-null    float64\n",
            " 7   HariFav               199 non-null    object \n",
            " 8   FavFlavor             199 non-null    int64  \n",
            "dtypes: float64(1), int64(2), object(6)\n",
            "memory usage: 15.5+ KB\n"
          ]
        }
      ]
    },
    {
      "cell_type": "code",
      "source": [
        "mit.shape"
      ],
      "metadata": {
        "id": "x0Uu9bY3Uh_J",
        "colab": {
          "base_uri": "https://localhost:8080/"
        },
        "outputId": "5205b361-25e9-4c0f-ae35-e80d95ef9809"
      },
      "execution_count": 30,
      "outputs": [
        {
          "output_type": "execute_result",
          "data": {
            "text/plain": [
              "(199, 9)"
            ]
          },
          "metadata": {},
          "execution_count": 30
        }
      ]
    },
    {
      "cell_type": "code",
      "source": [
        "mit.isnull().sum()"
      ],
      "metadata": {
        "id": "cVFm436gAA1A",
        "colab": {
          "base_uri": "https://localhost:8080/",
          "height": 366
        },
        "outputId": "fb2abb28-0cc1-4397-f1c6-3d839213fc8a"
      },
      "execution_count": 31,
      "outputs": [
        {
          "output_type": "execute_result",
          "data": {
            "text/plain": [
              "Jenis Kelamin            5\n",
              "Umur                     0\n",
              "Pendapatan-per-bulan     0\n",
              "skor-pengeluaran         0\n",
              "Menikah                 14\n",
              "Kota                     0\n",
              "Promo                    6\n",
              "HariFav                  0\n",
              "FavFlavor                0\n",
              "dtype: int64"
            ],
            "text/html": [
              "<div>\n",
              "<style scoped>\n",
              "    .dataframe tbody tr th:only-of-type {\n",
              "        vertical-align: middle;\n",
              "    }\n",
              "\n",
              "    .dataframe tbody tr th {\n",
              "        vertical-align: top;\n",
              "    }\n",
              "\n",
              "    .dataframe thead th {\n",
              "        text-align: right;\n",
              "    }\n",
              "</style>\n",
              "<table border=\"1\" class=\"dataframe\">\n",
              "  <thead>\n",
              "    <tr style=\"text-align: right;\">\n",
              "      <th></th>\n",
              "      <th>0</th>\n",
              "    </tr>\n",
              "  </thead>\n",
              "  <tbody>\n",
              "    <tr>\n",
              "      <th>Jenis Kelamin</th>\n",
              "      <td>5</td>\n",
              "    </tr>\n",
              "    <tr>\n",
              "      <th>Umur</th>\n",
              "      <td>0</td>\n",
              "    </tr>\n",
              "    <tr>\n",
              "      <th>Pendapatan-per-bulan</th>\n",
              "      <td>0</td>\n",
              "    </tr>\n",
              "    <tr>\n",
              "      <th>skor-pengeluaran</th>\n",
              "      <td>0</td>\n",
              "    </tr>\n",
              "    <tr>\n",
              "      <th>Menikah</th>\n",
              "      <td>14</td>\n",
              "    </tr>\n",
              "    <tr>\n",
              "      <th>Kota</th>\n",
              "      <td>0</td>\n",
              "    </tr>\n",
              "    <tr>\n",
              "      <th>Promo</th>\n",
              "      <td>6</td>\n",
              "    </tr>\n",
              "    <tr>\n",
              "      <th>HariFav</th>\n",
              "      <td>0</td>\n",
              "    </tr>\n",
              "    <tr>\n",
              "      <th>FavFlavor</th>\n",
              "      <td>0</td>\n",
              "    </tr>\n",
              "  </tbody>\n",
              "</table>\n",
              "</div><br><label><b>dtype:</b> int64</label>"
            ]
          },
          "metadata": {},
          "execution_count": 31
        }
      ]
    },
    {
      "cell_type": "code",
      "source": [
        "mit['Jenis Kelamin'] = mit['Jenis Kelamin'].astype('category')\n",
        "mit['Menikah'] = mit['Menikah'].astype('category')\n",
        "mit['Kota'] = mit['Kota'].astype('category')\n",
        "mit['Promo'] = mit['Promo'].astype('category')\n",
        "mit['HariFav'] = mit['HariFav'].astype('category')\n",
        "mit['FavFlavor'] = mit['FavFlavor'].astype('category')\n",
        "# Menghapus simbol 'Rp' dan titik pada kolom 'Pendapatan-per-bulan', lalu mengonversi ke tipe integer\n",
        "mit['Pendapatan-per-bulan'] = mit['Pendapatan-per-bulan'].str.replace('Rp', '', regex=False)\n",
        "mit['Pendapatan-per-bulan'] = mit['Pendapatan-per-bulan'].str.replace('.', '', regex=False)\n",
        "mit['Pendapatan-per-bulan'] = mit['Pendapatan-per-bulan'].astype('int')\n",
        "mit['Umur'] = mit['Umur'].astype('int')"
      ],
      "metadata": {
        "id": "T5a9OzYoYeR0"
      },
      "execution_count": 32,
      "outputs": []
    },
    {
      "cell_type": "code",
      "source": [
        "mit.info()"
      ],
      "metadata": {
        "id": "Dz3Y3W-_8xFl",
        "colab": {
          "base_uri": "https://localhost:8080/"
        },
        "outputId": "59936e46-1218-4b97-ca3c-118557073518"
      },
      "execution_count": 33,
      "outputs": [
        {
          "output_type": "stream",
          "name": "stdout",
          "text": [
            "<class 'pandas.core.frame.DataFrame'>\n",
            "Index: 199 entries, 0 to 199\n",
            "Data columns (total 9 columns):\n",
            " #   Column                Non-Null Count  Dtype   \n",
            "---  ------                --------------  -----   \n",
            " 0   Jenis Kelamin         194 non-null    category\n",
            " 1   Umur                  199 non-null    int64   \n",
            " 2   Pendapatan-per-bulan  199 non-null    int64   \n",
            " 3   skor-pengeluaran      199 non-null    int64   \n",
            " 4   Menikah               185 non-null    category\n",
            " 5   Kota                  199 non-null    category\n",
            " 6   Promo                 193 non-null    category\n",
            " 7   HariFav               199 non-null    category\n",
            " 8   FavFlavor             199 non-null    category\n",
            "dtypes: category(6), int64(3)\n",
            "memory usage: 8.7 KB\n"
          ]
        }
      ]
    },
    {
      "cell_type": "code",
      "source": [
        "mit.corr(numeric_only=True)"
      ],
      "metadata": {
        "id": "0mefAIYJRosA",
        "colab": {
          "base_uri": "https://localhost:8080/",
          "height": 143
        },
        "outputId": "bbdd6300-3096-4881-dae8-da03a6358838"
      },
      "execution_count": 34,
      "outputs": [
        {
          "output_type": "execute_result",
          "data": {
            "text/plain": [
              "                          Umur  Pendapatan-per-bulan  skor-pengeluaran\n",
              "Umur                  1.000000              0.034652         -0.348655\n",
              "Pendapatan-per-bulan  0.034652              1.000000          0.009489\n",
              "skor-pengeluaran     -0.348655              0.009489          1.000000"
            ],
            "text/html": [
              "\n",
              "  <div id=\"df-3659ef1a-144e-4846-814e-62658afdc2e4\" class=\"colab-df-container\">\n",
              "    <div>\n",
              "<style scoped>\n",
              "    .dataframe tbody tr th:only-of-type {\n",
              "        vertical-align: middle;\n",
              "    }\n",
              "\n",
              "    .dataframe tbody tr th {\n",
              "        vertical-align: top;\n",
              "    }\n",
              "\n",
              "    .dataframe thead th {\n",
              "        text-align: right;\n",
              "    }\n",
              "</style>\n",
              "<table border=\"1\" class=\"dataframe\">\n",
              "  <thead>\n",
              "    <tr style=\"text-align: right;\">\n",
              "      <th></th>\n",
              "      <th>Umur</th>\n",
              "      <th>Pendapatan-per-bulan</th>\n",
              "      <th>skor-pengeluaran</th>\n",
              "    </tr>\n",
              "  </thead>\n",
              "  <tbody>\n",
              "    <tr>\n",
              "      <th>Umur</th>\n",
              "      <td>1.000000</td>\n",
              "      <td>0.034652</td>\n",
              "      <td>-0.348655</td>\n",
              "    </tr>\n",
              "    <tr>\n",
              "      <th>Pendapatan-per-bulan</th>\n",
              "      <td>0.034652</td>\n",
              "      <td>1.000000</td>\n",
              "      <td>0.009489</td>\n",
              "    </tr>\n",
              "    <tr>\n",
              "      <th>skor-pengeluaran</th>\n",
              "      <td>-0.348655</td>\n",
              "      <td>0.009489</td>\n",
              "      <td>1.000000</td>\n",
              "    </tr>\n",
              "  </tbody>\n",
              "</table>\n",
              "</div>\n",
              "    <div class=\"colab-df-buttons\">\n",
              "\n",
              "  <div class=\"colab-df-container\">\n",
              "    <button class=\"colab-df-convert\" onclick=\"convertToInteractive('df-3659ef1a-144e-4846-814e-62658afdc2e4')\"\n",
              "            title=\"Convert this dataframe to an interactive table.\"\n",
              "            style=\"display:none;\">\n",
              "\n",
              "  <svg xmlns=\"http://www.w3.org/2000/svg\" height=\"24px\" viewBox=\"0 -960 960 960\">\n",
              "    <path d=\"M120-120v-720h720v720H120Zm60-500h600v-160H180v160Zm220 220h160v-160H400v160Zm0 220h160v-160H400v160ZM180-400h160v-160H180v160Zm440 0h160v-160H620v160ZM180-180h160v-160H180v160Zm440 0h160v-160H620v160Z\"/>\n",
              "  </svg>\n",
              "    </button>\n",
              "\n",
              "  <style>\n",
              "    .colab-df-container {\n",
              "      display:flex;\n",
              "      gap: 12px;\n",
              "    }\n",
              "\n",
              "    .colab-df-convert {\n",
              "      background-color: #E8F0FE;\n",
              "      border: none;\n",
              "      border-radius: 50%;\n",
              "      cursor: pointer;\n",
              "      display: none;\n",
              "      fill: #1967D2;\n",
              "      height: 32px;\n",
              "      padding: 0 0 0 0;\n",
              "      width: 32px;\n",
              "    }\n",
              "\n",
              "    .colab-df-convert:hover {\n",
              "      background-color: #E2EBFA;\n",
              "      box-shadow: 0px 1px 2px rgba(60, 64, 67, 0.3), 0px 1px 3px 1px rgba(60, 64, 67, 0.15);\n",
              "      fill: #174EA6;\n",
              "    }\n",
              "\n",
              "    .colab-df-buttons div {\n",
              "      margin-bottom: 4px;\n",
              "    }\n",
              "\n",
              "    [theme=dark] .colab-df-convert {\n",
              "      background-color: #3B4455;\n",
              "      fill: #D2E3FC;\n",
              "    }\n",
              "\n",
              "    [theme=dark] .colab-df-convert:hover {\n",
              "      background-color: #434B5C;\n",
              "      box-shadow: 0px 1px 3px 1px rgba(0, 0, 0, 0.15);\n",
              "      filter: drop-shadow(0px 1px 2px rgba(0, 0, 0, 0.3));\n",
              "      fill: #FFFFFF;\n",
              "    }\n",
              "  </style>\n",
              "\n",
              "    <script>\n",
              "      const buttonEl =\n",
              "        document.querySelector('#df-3659ef1a-144e-4846-814e-62658afdc2e4 button.colab-df-convert');\n",
              "      buttonEl.style.display =\n",
              "        google.colab.kernel.accessAllowed ? 'block' : 'none';\n",
              "\n",
              "      async function convertToInteractive(key) {\n",
              "        const element = document.querySelector('#df-3659ef1a-144e-4846-814e-62658afdc2e4');\n",
              "        const dataTable =\n",
              "          await google.colab.kernel.invokeFunction('convertToInteractive',\n",
              "                                                    [key], {});\n",
              "        if (!dataTable) return;\n",
              "\n",
              "        const docLinkHtml = 'Like what you see? Visit the ' +\n",
              "          '<a target=\"_blank\" href=https://colab.research.google.com/notebooks/data_table.ipynb>data table notebook</a>'\n",
              "          + ' to learn more about interactive tables.';\n",
              "        element.innerHTML = '';\n",
              "        dataTable['output_type'] = 'display_data';\n",
              "        await google.colab.output.renderOutput(dataTable, element);\n",
              "        const docLink = document.createElement('div');\n",
              "        docLink.innerHTML = docLinkHtml;\n",
              "        element.appendChild(docLink);\n",
              "      }\n",
              "    </script>\n",
              "  </div>\n",
              "\n",
              "\n",
              "<div id=\"df-a5e810e4-9b58-4b74-86b1-7bd4300ac89d\">\n",
              "  <button class=\"colab-df-quickchart\" onclick=\"quickchart('df-a5e810e4-9b58-4b74-86b1-7bd4300ac89d')\"\n",
              "            title=\"Suggest charts\"\n",
              "            style=\"display:none;\">\n",
              "\n",
              "<svg xmlns=\"http://www.w3.org/2000/svg\" height=\"24px\"viewBox=\"0 0 24 24\"\n",
              "     width=\"24px\">\n",
              "    <g>\n",
              "        <path d=\"M19 3H5c-1.1 0-2 .9-2 2v14c0 1.1.9 2 2 2h14c1.1 0 2-.9 2-2V5c0-1.1-.9-2-2-2zM9 17H7v-7h2v7zm4 0h-2V7h2v10zm4 0h-2v-4h2v4z\"/>\n",
              "    </g>\n",
              "</svg>\n",
              "  </button>\n",
              "\n",
              "<style>\n",
              "  .colab-df-quickchart {\n",
              "      --bg-color: #E8F0FE;\n",
              "      --fill-color: #1967D2;\n",
              "      --hover-bg-color: #E2EBFA;\n",
              "      --hover-fill-color: #174EA6;\n",
              "      --disabled-fill-color: #AAA;\n",
              "      --disabled-bg-color: #DDD;\n",
              "  }\n",
              "\n",
              "  [theme=dark] .colab-df-quickchart {\n",
              "      --bg-color: #3B4455;\n",
              "      --fill-color: #D2E3FC;\n",
              "      --hover-bg-color: #434B5C;\n",
              "      --hover-fill-color: #FFFFFF;\n",
              "      --disabled-bg-color: #3B4455;\n",
              "      --disabled-fill-color: #666;\n",
              "  }\n",
              "\n",
              "  .colab-df-quickchart {\n",
              "    background-color: var(--bg-color);\n",
              "    border: none;\n",
              "    border-radius: 50%;\n",
              "    cursor: pointer;\n",
              "    display: none;\n",
              "    fill: var(--fill-color);\n",
              "    height: 32px;\n",
              "    padding: 0;\n",
              "    width: 32px;\n",
              "  }\n",
              "\n",
              "  .colab-df-quickchart:hover {\n",
              "    background-color: var(--hover-bg-color);\n",
              "    box-shadow: 0 1px 2px rgba(60, 64, 67, 0.3), 0 1px 3px 1px rgba(60, 64, 67, 0.15);\n",
              "    fill: var(--button-hover-fill-color);\n",
              "  }\n",
              "\n",
              "  .colab-df-quickchart-complete:disabled,\n",
              "  .colab-df-quickchart-complete:disabled:hover {\n",
              "    background-color: var(--disabled-bg-color);\n",
              "    fill: var(--disabled-fill-color);\n",
              "    box-shadow: none;\n",
              "  }\n",
              "\n",
              "  .colab-df-spinner {\n",
              "    border: 2px solid var(--fill-color);\n",
              "    border-color: transparent;\n",
              "    border-bottom-color: var(--fill-color);\n",
              "    animation:\n",
              "      spin 1s steps(1) infinite;\n",
              "  }\n",
              "\n",
              "  @keyframes spin {\n",
              "    0% {\n",
              "      border-color: transparent;\n",
              "      border-bottom-color: var(--fill-color);\n",
              "      border-left-color: var(--fill-color);\n",
              "    }\n",
              "    20% {\n",
              "      border-color: transparent;\n",
              "      border-left-color: var(--fill-color);\n",
              "      border-top-color: var(--fill-color);\n",
              "    }\n",
              "    30% {\n",
              "      border-color: transparent;\n",
              "      border-left-color: var(--fill-color);\n",
              "      border-top-color: var(--fill-color);\n",
              "      border-right-color: var(--fill-color);\n",
              "    }\n",
              "    40% {\n",
              "      border-color: transparent;\n",
              "      border-right-color: var(--fill-color);\n",
              "      border-top-color: var(--fill-color);\n",
              "    }\n",
              "    60% {\n",
              "      border-color: transparent;\n",
              "      border-right-color: var(--fill-color);\n",
              "    }\n",
              "    80% {\n",
              "      border-color: transparent;\n",
              "      border-right-color: var(--fill-color);\n",
              "      border-bottom-color: var(--fill-color);\n",
              "    }\n",
              "    90% {\n",
              "      border-color: transparent;\n",
              "      border-bottom-color: var(--fill-color);\n",
              "    }\n",
              "  }\n",
              "</style>\n",
              "\n",
              "  <script>\n",
              "    async function quickchart(key) {\n",
              "      const quickchartButtonEl =\n",
              "        document.querySelector('#' + key + ' button');\n",
              "      quickchartButtonEl.disabled = true;  // To prevent multiple clicks.\n",
              "      quickchartButtonEl.classList.add('colab-df-spinner');\n",
              "      try {\n",
              "        const charts = await google.colab.kernel.invokeFunction(\n",
              "            'suggestCharts', [key], {});\n",
              "      } catch (error) {\n",
              "        console.error('Error during call to suggestCharts:', error);\n",
              "      }\n",
              "      quickchartButtonEl.classList.remove('colab-df-spinner');\n",
              "      quickchartButtonEl.classList.add('colab-df-quickchart-complete');\n",
              "    }\n",
              "    (() => {\n",
              "      let quickchartButtonEl =\n",
              "        document.querySelector('#df-a5e810e4-9b58-4b74-86b1-7bd4300ac89d button');\n",
              "      quickchartButtonEl.style.display =\n",
              "        google.colab.kernel.accessAllowed ? 'block' : 'none';\n",
              "    })();\n",
              "  </script>\n",
              "</div>\n",
              "\n",
              "    </div>\n",
              "  </div>\n"
            ],
            "application/vnd.google.colaboratory.intrinsic+json": {
              "type": "dataframe",
              "summary": "{\n  \"name\": \"mit\",\n  \"rows\": 3,\n  \"fields\": [\n    {\n      \"column\": \"Umur\",\n      \"properties\": {\n        \"dtype\": \"number\",\n        \"std\": 0.6949448355696733,\n        \"min\": -0.34865475022144643,\n        \"max\": 1.0,\n        \"num_unique_values\": 3,\n        \"samples\": [\n          1.0,\n          0.034652441768368916,\n          -0.34865475022144643\n        ],\n        \"semantic_type\": \"\",\n        \"description\": \"\"\n      }\n    },\n    {\n      \"column\": \"Pendapatan-per-bulan\",\n      \"properties\": {\n        \"dtype\": \"number\",\n        \"std\": 0.5647479357066857,\n        \"min\": 0.009488883228652248,\n        \"max\": 1.0,\n        \"num_unique_values\": 3,\n        \"samples\": [\n          0.034652441768368916,\n          1.0,\n          0.009488883228652248\n        ],\n        \"semantic_type\": \"\",\n        \"description\": \"\"\n      }\n    },\n    {\n      \"column\": \"skor-pengeluaran\",\n      \"properties\": {\n        \"dtype\": \"number\",\n        \"std\": 0.6985996433250513,\n        \"min\": -0.34865475022144643,\n        \"max\": 1.0,\n        \"num_unique_values\": 3,\n        \"samples\": [\n          -0.34865475022144643,\n          0.009488883228652248,\n          1.0\n        ],\n        \"semantic_type\": \"\",\n        \"description\": \"\"\n      }\n    }\n  ]\n}"
            }
          },
          "metadata": {},
          "execution_count": 34
        }
      ]
    },
    {
      "cell_type": "code",
      "source": [
        "# Mengubah nama kolom tertentu\n",
        "mit = mit.rename(columns={\n",
        "    'Pendapatan-per-bulan': 'Pendapatan Bulanan',\n",
        "    'skor-pengeluaran': 'Skor Pengeluaran',\n",
        "})\n",
        "\n",
        "# Memeriksa nama kolom baru\n",
        "print(mit.columns)\n"
      ],
      "metadata": {
        "id": "kSajkNN0xtd2",
        "colab": {
          "base_uri": "https://localhost:8080/"
        },
        "outputId": "ae76f04a-1590-466f-d318-d3a755f50131"
      },
      "execution_count": 35,
      "outputs": [
        {
          "output_type": "stream",
          "name": "stdout",
          "text": [
            "Index(['Jenis Kelamin', 'Umur', 'Pendapatan Bulanan', 'Skor Pengeluaran',\n",
            "       'Menikah', 'Kota', 'Promo', 'HariFav', 'FavFlavor'],\n",
            "      dtype='object')\n"
          ]
        }
      ]
    },
    {
      "cell_type": "code",
      "source": [
        "mit.head()"
      ],
      "metadata": {
        "id": "khH9_J6Ayxl0",
        "colab": {
          "base_uri": "https://localhost:8080/",
          "height": 206
        },
        "outputId": "40eddfbc-1910-4135-ba60-6bb7e71dfdb4"
      },
      "execution_count": 36,
      "outputs": [
        {
          "output_type": "execute_result",
          "data": {
            "text/plain": [
              "  Jenis Kelamin  Umur  Pendapatan Bulanan  Skor Pengeluaran Menikah     Kota  \\\n",
              "0        Wanita    49            13114754                52       1  Jakarta   \n",
              "1        Wanita    32            33606557                86       1    Depok   \n",
              "2          Pria    51            15983606                41       1  Jakarta   \n",
              "3          Pria    19            12704918                55       0  Jakarta   \n",
              "4        Wanita    38            20081967                42       1  Jakarta   \n",
              "\n",
              "  Promo HariFav FavFlavor  \n",
              "0   1.0   Sabtu         2  \n",
              "1   1.0  Minggu         6  \n",
              "2   2.0  Minggu         3  \n",
              "3   1.0    Rabu         7  \n",
              "4   2.0   Senin         8  "
            ],
            "text/html": [
              "\n",
              "  <div id=\"df-b577b245-2913-463e-be7c-16f56d2871a3\" class=\"colab-df-container\">\n",
              "    <div>\n",
              "<style scoped>\n",
              "    .dataframe tbody tr th:only-of-type {\n",
              "        vertical-align: middle;\n",
              "    }\n",
              "\n",
              "    .dataframe tbody tr th {\n",
              "        vertical-align: top;\n",
              "    }\n",
              "\n",
              "    .dataframe thead th {\n",
              "        text-align: right;\n",
              "    }\n",
              "</style>\n",
              "<table border=\"1\" class=\"dataframe\">\n",
              "  <thead>\n",
              "    <tr style=\"text-align: right;\">\n",
              "      <th></th>\n",
              "      <th>Jenis Kelamin</th>\n",
              "      <th>Umur</th>\n",
              "      <th>Pendapatan Bulanan</th>\n",
              "      <th>Skor Pengeluaran</th>\n",
              "      <th>Menikah</th>\n",
              "      <th>Kota</th>\n",
              "      <th>Promo</th>\n",
              "      <th>HariFav</th>\n",
              "      <th>FavFlavor</th>\n",
              "    </tr>\n",
              "  </thead>\n",
              "  <tbody>\n",
              "    <tr>\n",
              "      <th>0</th>\n",
              "      <td>Wanita</td>\n",
              "      <td>49</td>\n",
              "      <td>13114754</td>\n",
              "      <td>52</td>\n",
              "      <td>1</td>\n",
              "      <td>Jakarta</td>\n",
              "      <td>1.0</td>\n",
              "      <td>Sabtu</td>\n",
              "      <td>2</td>\n",
              "    </tr>\n",
              "    <tr>\n",
              "      <th>1</th>\n",
              "      <td>Wanita</td>\n",
              "      <td>32</td>\n",
              "      <td>33606557</td>\n",
              "      <td>86</td>\n",
              "      <td>1</td>\n",
              "      <td>Depok</td>\n",
              "      <td>1.0</td>\n",
              "      <td>Minggu</td>\n",
              "      <td>6</td>\n",
              "    </tr>\n",
              "    <tr>\n",
              "      <th>2</th>\n",
              "      <td>Pria</td>\n",
              "      <td>51</td>\n",
              "      <td>15983606</td>\n",
              "      <td>41</td>\n",
              "      <td>1</td>\n",
              "      <td>Jakarta</td>\n",
              "      <td>2.0</td>\n",
              "      <td>Minggu</td>\n",
              "      <td>3</td>\n",
              "    </tr>\n",
              "    <tr>\n",
              "      <th>3</th>\n",
              "      <td>Pria</td>\n",
              "      <td>19</td>\n",
              "      <td>12704918</td>\n",
              "      <td>55</td>\n",
              "      <td>0</td>\n",
              "      <td>Jakarta</td>\n",
              "      <td>1.0</td>\n",
              "      <td>Rabu</td>\n",
              "      <td>7</td>\n",
              "    </tr>\n",
              "    <tr>\n",
              "      <th>4</th>\n",
              "      <td>Wanita</td>\n",
              "      <td>38</td>\n",
              "      <td>20081967</td>\n",
              "      <td>42</td>\n",
              "      <td>1</td>\n",
              "      <td>Jakarta</td>\n",
              "      <td>2.0</td>\n",
              "      <td>Senin</td>\n",
              "      <td>8</td>\n",
              "    </tr>\n",
              "  </tbody>\n",
              "</table>\n",
              "</div>\n",
              "    <div class=\"colab-df-buttons\">\n",
              "\n",
              "  <div class=\"colab-df-container\">\n",
              "    <button class=\"colab-df-convert\" onclick=\"convertToInteractive('df-b577b245-2913-463e-be7c-16f56d2871a3')\"\n",
              "            title=\"Convert this dataframe to an interactive table.\"\n",
              "            style=\"display:none;\">\n",
              "\n",
              "  <svg xmlns=\"http://www.w3.org/2000/svg\" height=\"24px\" viewBox=\"0 -960 960 960\">\n",
              "    <path d=\"M120-120v-720h720v720H120Zm60-500h600v-160H180v160Zm220 220h160v-160H400v160Zm0 220h160v-160H400v160ZM180-400h160v-160H180v160Zm440 0h160v-160H620v160ZM180-180h160v-160H180v160Zm440 0h160v-160H620v160Z\"/>\n",
              "  </svg>\n",
              "    </button>\n",
              "\n",
              "  <style>\n",
              "    .colab-df-container {\n",
              "      display:flex;\n",
              "      gap: 12px;\n",
              "    }\n",
              "\n",
              "    .colab-df-convert {\n",
              "      background-color: #E8F0FE;\n",
              "      border: none;\n",
              "      border-radius: 50%;\n",
              "      cursor: pointer;\n",
              "      display: none;\n",
              "      fill: #1967D2;\n",
              "      height: 32px;\n",
              "      padding: 0 0 0 0;\n",
              "      width: 32px;\n",
              "    }\n",
              "\n",
              "    .colab-df-convert:hover {\n",
              "      background-color: #E2EBFA;\n",
              "      box-shadow: 0px 1px 2px rgba(60, 64, 67, 0.3), 0px 1px 3px 1px rgba(60, 64, 67, 0.15);\n",
              "      fill: #174EA6;\n",
              "    }\n",
              "\n",
              "    .colab-df-buttons div {\n",
              "      margin-bottom: 4px;\n",
              "    }\n",
              "\n",
              "    [theme=dark] .colab-df-convert {\n",
              "      background-color: #3B4455;\n",
              "      fill: #D2E3FC;\n",
              "    }\n",
              "\n",
              "    [theme=dark] .colab-df-convert:hover {\n",
              "      background-color: #434B5C;\n",
              "      box-shadow: 0px 1px 3px 1px rgba(0, 0, 0, 0.15);\n",
              "      filter: drop-shadow(0px 1px 2px rgba(0, 0, 0, 0.3));\n",
              "      fill: #FFFFFF;\n",
              "    }\n",
              "  </style>\n",
              "\n",
              "    <script>\n",
              "      const buttonEl =\n",
              "        document.querySelector('#df-b577b245-2913-463e-be7c-16f56d2871a3 button.colab-df-convert');\n",
              "      buttonEl.style.display =\n",
              "        google.colab.kernel.accessAllowed ? 'block' : 'none';\n",
              "\n",
              "      async function convertToInteractive(key) {\n",
              "        const element = document.querySelector('#df-b577b245-2913-463e-be7c-16f56d2871a3');\n",
              "        const dataTable =\n",
              "          await google.colab.kernel.invokeFunction('convertToInteractive',\n",
              "                                                    [key], {});\n",
              "        if (!dataTable) return;\n",
              "\n",
              "        const docLinkHtml = 'Like what you see? Visit the ' +\n",
              "          '<a target=\"_blank\" href=https://colab.research.google.com/notebooks/data_table.ipynb>data table notebook</a>'\n",
              "          + ' to learn more about interactive tables.';\n",
              "        element.innerHTML = '';\n",
              "        dataTable['output_type'] = 'display_data';\n",
              "        await google.colab.output.renderOutput(dataTable, element);\n",
              "        const docLink = document.createElement('div');\n",
              "        docLink.innerHTML = docLinkHtml;\n",
              "        element.appendChild(docLink);\n",
              "      }\n",
              "    </script>\n",
              "  </div>\n",
              "\n",
              "\n",
              "<div id=\"df-f50732e9-9090-4532-99d6-436b92d0c8c1\">\n",
              "  <button class=\"colab-df-quickchart\" onclick=\"quickchart('df-f50732e9-9090-4532-99d6-436b92d0c8c1')\"\n",
              "            title=\"Suggest charts\"\n",
              "            style=\"display:none;\">\n",
              "\n",
              "<svg xmlns=\"http://www.w3.org/2000/svg\" height=\"24px\"viewBox=\"0 0 24 24\"\n",
              "     width=\"24px\">\n",
              "    <g>\n",
              "        <path d=\"M19 3H5c-1.1 0-2 .9-2 2v14c0 1.1.9 2 2 2h14c1.1 0 2-.9 2-2V5c0-1.1-.9-2-2-2zM9 17H7v-7h2v7zm4 0h-2V7h2v10zm4 0h-2v-4h2v4z\"/>\n",
              "    </g>\n",
              "</svg>\n",
              "  </button>\n",
              "\n",
              "<style>\n",
              "  .colab-df-quickchart {\n",
              "      --bg-color: #E8F0FE;\n",
              "      --fill-color: #1967D2;\n",
              "      --hover-bg-color: #E2EBFA;\n",
              "      --hover-fill-color: #174EA6;\n",
              "      --disabled-fill-color: #AAA;\n",
              "      --disabled-bg-color: #DDD;\n",
              "  }\n",
              "\n",
              "  [theme=dark] .colab-df-quickchart {\n",
              "      --bg-color: #3B4455;\n",
              "      --fill-color: #D2E3FC;\n",
              "      --hover-bg-color: #434B5C;\n",
              "      --hover-fill-color: #FFFFFF;\n",
              "      --disabled-bg-color: #3B4455;\n",
              "      --disabled-fill-color: #666;\n",
              "  }\n",
              "\n",
              "  .colab-df-quickchart {\n",
              "    background-color: var(--bg-color);\n",
              "    border: none;\n",
              "    border-radius: 50%;\n",
              "    cursor: pointer;\n",
              "    display: none;\n",
              "    fill: var(--fill-color);\n",
              "    height: 32px;\n",
              "    padding: 0;\n",
              "    width: 32px;\n",
              "  }\n",
              "\n",
              "  .colab-df-quickchart:hover {\n",
              "    background-color: var(--hover-bg-color);\n",
              "    box-shadow: 0 1px 2px rgba(60, 64, 67, 0.3), 0 1px 3px 1px rgba(60, 64, 67, 0.15);\n",
              "    fill: var(--button-hover-fill-color);\n",
              "  }\n",
              "\n",
              "  .colab-df-quickchart-complete:disabled,\n",
              "  .colab-df-quickchart-complete:disabled:hover {\n",
              "    background-color: var(--disabled-bg-color);\n",
              "    fill: var(--disabled-fill-color);\n",
              "    box-shadow: none;\n",
              "  }\n",
              "\n",
              "  .colab-df-spinner {\n",
              "    border: 2px solid var(--fill-color);\n",
              "    border-color: transparent;\n",
              "    border-bottom-color: var(--fill-color);\n",
              "    animation:\n",
              "      spin 1s steps(1) infinite;\n",
              "  }\n",
              "\n",
              "  @keyframes spin {\n",
              "    0% {\n",
              "      border-color: transparent;\n",
              "      border-bottom-color: var(--fill-color);\n",
              "      border-left-color: var(--fill-color);\n",
              "    }\n",
              "    20% {\n",
              "      border-color: transparent;\n",
              "      border-left-color: var(--fill-color);\n",
              "      border-top-color: var(--fill-color);\n",
              "    }\n",
              "    30% {\n",
              "      border-color: transparent;\n",
              "      border-left-color: var(--fill-color);\n",
              "      border-top-color: var(--fill-color);\n",
              "      border-right-color: var(--fill-color);\n",
              "    }\n",
              "    40% {\n",
              "      border-color: transparent;\n",
              "      border-right-color: var(--fill-color);\n",
              "      border-top-color: var(--fill-color);\n",
              "    }\n",
              "    60% {\n",
              "      border-color: transparent;\n",
              "      border-right-color: var(--fill-color);\n",
              "    }\n",
              "    80% {\n",
              "      border-color: transparent;\n",
              "      border-right-color: var(--fill-color);\n",
              "      border-bottom-color: var(--fill-color);\n",
              "    }\n",
              "    90% {\n",
              "      border-color: transparent;\n",
              "      border-bottom-color: var(--fill-color);\n",
              "    }\n",
              "  }\n",
              "</style>\n",
              "\n",
              "  <script>\n",
              "    async function quickchart(key) {\n",
              "      const quickchartButtonEl =\n",
              "        document.querySelector('#' + key + ' button');\n",
              "      quickchartButtonEl.disabled = true;  // To prevent multiple clicks.\n",
              "      quickchartButtonEl.classList.add('colab-df-spinner');\n",
              "      try {\n",
              "        const charts = await google.colab.kernel.invokeFunction(\n",
              "            'suggestCharts', [key], {});\n",
              "      } catch (error) {\n",
              "        console.error('Error during call to suggestCharts:', error);\n",
              "      }\n",
              "      quickchartButtonEl.classList.remove('colab-df-spinner');\n",
              "      quickchartButtonEl.classList.add('colab-df-quickchart-complete');\n",
              "    }\n",
              "    (() => {\n",
              "      let quickchartButtonEl =\n",
              "        document.querySelector('#df-f50732e9-9090-4532-99d6-436b92d0c8c1 button');\n",
              "      quickchartButtonEl.style.display =\n",
              "        google.colab.kernel.accessAllowed ? 'block' : 'none';\n",
              "    })();\n",
              "  </script>\n",
              "</div>\n",
              "\n",
              "    </div>\n",
              "  </div>\n"
            ],
            "application/vnd.google.colaboratory.intrinsic+json": {
              "type": "dataframe",
              "variable_name": "mit",
              "summary": "{\n  \"name\": \"mit\",\n  \"rows\": 199,\n  \"fields\": [\n    {\n      \"column\": \"Jenis Kelamin\",\n      \"properties\": {\n        \"dtype\": \"category\",\n        \"num_unique_values\": 2,\n        \"samples\": [\n          \"Pria\",\n          \"Wanita\"\n        ],\n        \"semantic_type\": \"\",\n        \"description\": \"\"\n      }\n    },\n    {\n      \"column\": \"Umur\",\n      \"properties\": {\n        \"dtype\": \"number\",\n        \"std\": 11,\n        \"min\": 18,\n        \"max\": 60,\n        \"num_unique_values\": 43,\n        \"samples\": [\n          29,\n          23\n        ],\n        \"semantic_type\": \"\",\n        \"description\": \"\"\n      }\n    },\n    {\n      \"column\": \"Pendapatan Bulanan\",\n      \"properties\": {\n        \"dtype\": \"number\",\n        \"std\": 10791282,\n        \"min\": 0,\n        \"max\": 50000000,\n        \"num_unique_values\": 64,\n        \"samples\": [\n          3278688,\n          31967213\n        ],\n        \"semantic_type\": \"\",\n        \"description\": \"\"\n      }\n    },\n    {\n      \"column\": \"Skor Pengeluaran\",\n      \"properties\": {\n        \"dtype\": \"number\",\n        \"std\": 26,\n        \"min\": 1,\n        \"max\": 100,\n        \"num_unique_values\": 85,\n        \"samples\": [\n          78,\n          52\n        ],\n        \"semantic_type\": \"\",\n        \"description\": \"\"\n      }\n    },\n    {\n      \"column\": \"Menikah\",\n      \"properties\": {\n        \"dtype\": \"category\",\n        \"num_unique_values\": 2,\n        \"samples\": [\n          \"0\",\n          \"1\"\n        ],\n        \"semantic_type\": \"\",\n        \"description\": \"\"\n      }\n    },\n    {\n      \"column\": \"Kota\",\n      \"properties\": {\n        \"dtype\": \"category\",\n        \"num_unique_values\": 3,\n        \"samples\": [\n          \"Jakarta\",\n          \"Depok\"\n        ],\n        \"semantic_type\": \"\",\n        \"description\": \"\"\n      }\n    },\n    {\n      \"column\": \"Promo\",\n      \"properties\": {\n        \"dtype\": \"category\",\n        \"num_unique_values\": 4,\n        \"samples\": [\n          2.0,\n          3.0\n        ],\n        \"semantic_type\": \"\",\n        \"description\": \"\"\n      }\n    },\n    {\n      \"column\": \"HariFav\",\n      \"properties\": {\n        \"dtype\": \"category\",\n        \"num_unique_values\": 7,\n        \"samples\": [\n          \"Sabtu\",\n          \"Minggu\"\n        ],\n        \"semantic_type\": \"\",\n        \"description\": \"\"\n      }\n    },\n    {\n      \"column\": \"FavFlavor\",\n      \"properties\": {\n        \"dtype\": \"category\",\n        \"num_unique_values\": 9,\n        \"samples\": [\n          4,\n          6\n        ],\n        \"semantic_type\": \"\",\n        \"description\": \"\"\n      }\n    }\n  ]\n}"
            }
          },
          "metadata": {},
          "execution_count": 36
        }
      ]
    },
    {
      "cell_type": "markdown",
      "source": [
        "# Data Preprocessing\n",
        "\n",
        "---\n",
        "\n"
      ],
      "metadata": {
        "id": "7SsXreBkMw3z"
      }
    },
    {
      "cell_type": "markdown",
      "source": [
        "Diketahui pada tahap sebelumnya bahwa terdapat nilai *null* pada data yang menandakan data ini belum benar-benar bersih dan baik untuk dilakukan analisa lebih lanjut. Maka dari itu, akan dilakukan *data preprocessing* untuk memastikan data yang dimiliki sudah baik untuk dilakukan proses selanjutnya."
      ],
      "metadata": {
        "id": "pY_8g7LyIA4q"
      }
    },
    {
      "cell_type": "markdown",
      "source": [
        "Missing Value"
      ],
      "metadata": {
        "id": "q7cqDKbAR2ez"
      }
    },
    {
      "cell_type": "code",
      "source": [
        "mit.isnull().sum()"
      ],
      "metadata": {
        "id": "nyxe_ghOMzG1",
        "colab": {
          "base_uri": "https://localhost:8080/",
          "height": 366
        },
        "outputId": "51030112-cae5-4b9b-b283-bb1ed18e2e36"
      },
      "execution_count": 37,
      "outputs": [
        {
          "output_type": "execute_result",
          "data": {
            "text/plain": [
              "Jenis Kelamin          5\n",
              "Umur                   0\n",
              "Pendapatan Bulanan     0\n",
              "Skor Pengeluaran       0\n",
              "Menikah               14\n",
              "Kota                   0\n",
              "Promo                  6\n",
              "HariFav                0\n",
              "FavFlavor              0\n",
              "dtype: int64"
            ],
            "text/html": [
              "<div>\n",
              "<style scoped>\n",
              "    .dataframe tbody tr th:only-of-type {\n",
              "        vertical-align: middle;\n",
              "    }\n",
              "\n",
              "    .dataframe tbody tr th {\n",
              "        vertical-align: top;\n",
              "    }\n",
              "\n",
              "    .dataframe thead th {\n",
              "        text-align: right;\n",
              "    }\n",
              "</style>\n",
              "<table border=\"1\" class=\"dataframe\">\n",
              "  <thead>\n",
              "    <tr style=\"text-align: right;\">\n",
              "      <th></th>\n",
              "      <th>0</th>\n",
              "    </tr>\n",
              "  </thead>\n",
              "  <tbody>\n",
              "    <tr>\n",
              "      <th>Jenis Kelamin</th>\n",
              "      <td>5</td>\n",
              "    </tr>\n",
              "    <tr>\n",
              "      <th>Umur</th>\n",
              "      <td>0</td>\n",
              "    </tr>\n",
              "    <tr>\n",
              "      <th>Pendapatan Bulanan</th>\n",
              "      <td>0</td>\n",
              "    </tr>\n",
              "    <tr>\n",
              "      <th>Skor Pengeluaran</th>\n",
              "      <td>0</td>\n",
              "    </tr>\n",
              "    <tr>\n",
              "      <th>Menikah</th>\n",
              "      <td>14</td>\n",
              "    </tr>\n",
              "    <tr>\n",
              "      <th>Kota</th>\n",
              "      <td>0</td>\n",
              "    </tr>\n",
              "    <tr>\n",
              "      <th>Promo</th>\n",
              "      <td>6</td>\n",
              "    </tr>\n",
              "    <tr>\n",
              "      <th>HariFav</th>\n",
              "      <td>0</td>\n",
              "    </tr>\n",
              "    <tr>\n",
              "      <th>FavFlavor</th>\n",
              "      <td>0</td>\n",
              "    </tr>\n",
              "  </tbody>\n",
              "</table>\n",
              "</div><br><label><b>dtype:</b> int64</label>"
            ]
          },
          "metadata": {},
          "execution_count": 37
        }
      ]
    },
    {
      "cell_type": "code",
      "source": [
        "mit.dropna(subset = ['Jenis Kelamin', 'Menikah', 'Promo'], inplace = True)"
      ],
      "metadata": {
        "id": "KniRpU9Yw4NA"
      },
      "execution_count": 38,
      "outputs": []
    },
    {
      "cell_type": "markdown",
      "source": [
        "Terdapat missing value pada variabel :\n",
        "1.   Jenis kelamin\n",
        "2.   Menikah\n",
        "3.   Promo\n",
        "\n",
        "Karena jumlah missing value pada ketiga variabel di atas terbilang cukup sedikit maka dapat diatasi dengan menghapus missing value tersebut.\n",
        "\n",
        "\n",
        "\n"
      ],
      "metadata": {
        "id": "0F6n4nu5MjlB"
      }
    },
    {
      "cell_type": "code",
      "source": [
        "mit.isnull().sum()"
      ],
      "metadata": {
        "id": "ulSBO_ph1hdH",
        "colab": {
          "base_uri": "https://localhost:8080/",
          "height": 366
        },
        "outputId": "6bc4b21b-73d6-4e4b-99d6-06c6b56a65a3"
      },
      "execution_count": 39,
      "outputs": [
        {
          "output_type": "execute_result",
          "data": {
            "text/plain": [
              "Jenis Kelamin         0\n",
              "Umur                  0\n",
              "Pendapatan Bulanan    0\n",
              "Skor Pengeluaran      0\n",
              "Menikah               0\n",
              "Kota                  0\n",
              "Promo                 0\n",
              "HariFav               0\n",
              "FavFlavor             0\n",
              "dtype: int64"
            ],
            "text/html": [
              "<div>\n",
              "<style scoped>\n",
              "    .dataframe tbody tr th:only-of-type {\n",
              "        vertical-align: middle;\n",
              "    }\n",
              "\n",
              "    .dataframe tbody tr th {\n",
              "        vertical-align: top;\n",
              "    }\n",
              "\n",
              "    .dataframe thead th {\n",
              "        text-align: right;\n",
              "    }\n",
              "</style>\n",
              "<table border=\"1\" class=\"dataframe\">\n",
              "  <thead>\n",
              "    <tr style=\"text-align: right;\">\n",
              "      <th></th>\n",
              "      <th>0</th>\n",
              "    </tr>\n",
              "  </thead>\n",
              "  <tbody>\n",
              "    <tr>\n",
              "      <th>Jenis Kelamin</th>\n",
              "      <td>0</td>\n",
              "    </tr>\n",
              "    <tr>\n",
              "      <th>Umur</th>\n",
              "      <td>0</td>\n",
              "    </tr>\n",
              "    <tr>\n",
              "      <th>Pendapatan Bulanan</th>\n",
              "      <td>0</td>\n",
              "    </tr>\n",
              "    <tr>\n",
              "      <th>Skor Pengeluaran</th>\n",
              "      <td>0</td>\n",
              "    </tr>\n",
              "    <tr>\n",
              "      <th>Menikah</th>\n",
              "      <td>0</td>\n",
              "    </tr>\n",
              "    <tr>\n",
              "      <th>Kota</th>\n",
              "      <td>0</td>\n",
              "    </tr>\n",
              "    <tr>\n",
              "      <th>Promo</th>\n",
              "      <td>0</td>\n",
              "    </tr>\n",
              "    <tr>\n",
              "      <th>HariFav</th>\n",
              "      <td>0</td>\n",
              "    </tr>\n",
              "    <tr>\n",
              "      <th>FavFlavor</th>\n",
              "      <td>0</td>\n",
              "    </tr>\n",
              "  </tbody>\n",
              "</table>\n",
              "</div><br><label><b>dtype:</b> int64</label>"
            ]
          },
          "metadata": {},
          "execution_count": 39
        }
      ]
    },
    {
      "cell_type": "code",
      "source": [
        "print(mit['Jenis Kelamin'].unique())  # Untuk satu kolom"
      ],
      "metadata": {
        "id": "Xs-du28crezN",
        "colab": {
          "base_uri": "https://localhost:8080/"
        },
        "outputId": "8c37ad63-bbde-4b07-9569-031e6dcb1c67"
      },
      "execution_count": 40,
      "outputs": [
        {
          "output_type": "stream",
          "name": "stdout",
          "text": [
            "['Wanita', 'Pria']\n",
            "Categories (2, object): ['Pria', 'Wanita']\n"
          ]
        }
      ]
    },
    {
      "cell_type": "code",
      "source": [
        "mit.shape"
      ],
      "metadata": {
        "id": "mirMnCoe1kP_",
        "colab": {
          "base_uri": "https://localhost:8080/"
        },
        "outputId": "109badd2-5c6f-487e-f1e3-8fbc228b6c0f"
      },
      "execution_count": 41,
      "outputs": [
        {
          "output_type": "execute_result",
          "data": {
            "text/plain": [
              "(175, 9)"
            ]
          },
          "metadata": {},
          "execution_count": 41
        }
      ]
    },
    {
      "cell_type": "markdown",
      "source": [
        "Duplicated Data"
      ],
      "metadata": {
        "id": "Oov7VSPWVJMk"
      }
    },
    {
      "cell_type": "markdown",
      "source": [],
      "metadata": {
        "id": "Dk2FQWSYz1tG"
      }
    },
    {
      "cell_type": "code",
      "source": [
        "mit.duplicated().sum()"
      ],
      "metadata": {
        "id": "t-WLLvyxVLOp",
        "colab": {
          "base_uri": "https://localhost:8080/"
        },
        "outputId": "f5b50ffc-42fa-437c-a63a-a1129751a51d"
      },
      "execution_count": 42,
      "outputs": [
        {
          "output_type": "execute_result",
          "data": {
            "text/plain": [
              "0"
            ]
          },
          "metadata": {},
          "execution_count": 42
        }
      ]
    },
    {
      "cell_type": "markdown",
      "source": [
        "Statistika Deskriptif"
      ],
      "metadata": {
        "id": "n1z8ILxe2RXh"
      }
    },
    {
      "cell_type": "code",
      "source": [
        "# Descriptive statistics untuk melihat distribusi data setelah menangani missing value\n",
        "print(\"\\nDescriptive Statistics:\")\n",
        "print(mit.describe())"
      ],
      "metadata": {
        "id": "YzgAdlGu2hFV",
        "colab": {
          "base_uri": "https://localhost:8080/"
        },
        "outputId": "5c21a5c4-fe53-4e77-a458-4ef25d185895"
      },
      "execution_count": 43,
      "outputs": [
        {
          "output_type": "stream",
          "name": "stdout",
          "text": [
            "\n",
            "Descriptive Statistics:\n",
            "             Umur  Pendapatan Bulanan  Skor Pengeluaran\n",
            "count  175.000000        1.750000e+02        175.000000\n",
            "mean    37.337143        1.859251e+07         50.502857\n",
            "std     12.067604        1.061583e+07         26.065760\n",
            "min     18.000000        0.000000e+00          1.000000\n",
            "25%     27.500000        1.106557e+07         34.500000\n",
            "50%     36.000000        1.885246e+07         51.000000\n",
            "75%     47.000000        2.540984e+07         73.000000\n",
            "max     60.000000        5.000000e+07         99.000000\n"
          ]
        }
      ]
    },
    {
      "cell_type": "markdown",
      "source": [
        "# Eksplorasi Data"
      ],
      "metadata": {
        "id": "JL6zNtKQLM07"
      }
    },
    {
      "cell_type": "markdown",
      "source": [
        "Pada tahap sebelumnya sudah dilakukan memasukkan data, melihat informasi dasar dari data, dan *data preprocessing*.\n",
        "\n",
        "Selanjutnya perlu dilakukan eksplorasi data untuk lebih mengenal dataset yang akan digunakan. Akan dilakukan eksplorasi untuk data numerik dan juga data kategorik."
      ],
      "metadata": {
        "id": "rC2Pn-1cHfni"
      }
    },
    {
      "cell_type": "markdown",
      "source": [
        "## Eksplorasi Data Numerik"
      ],
      "metadata": {
        "id": "IgSwh7TmLPz6"
      }
    },
    {
      "cell_type": "code",
      "source": [
        "# Melihat hubungan antara umur dan skor pengeluaran\n",
        "sns.scatterplot(x='Umur', y='Skor Pengeluaran', data=mit)\n",
        "plt.title('Hubungan Umur dengan Skor Pengeluaran')\n",
        "plt.xlabel('Umur')\n",
        "plt.ylabel('Skor Pengeluaran')\n",
        "plt.show()"
      ],
      "metadata": {
        "id": "JlqjZ1Ci5Qwk",
        "colab": {
          "base_uri": "https://localhost:8080/",
          "height": 472
        },
        "outputId": "865a32ed-e955-46de-8fbb-f29791aee073"
      },
      "execution_count": 44,
      "outputs": [
        {
          "output_type": "display_data",
          "data": {
            "text/plain": [
              "<Figure size 640x480 with 1 Axes>"
            ],
            "image/png": "[encoded data removed]"
          },
          "metadata": {}
        }
      ]
    },
    {
      "cell_type": "markdown",
      "source": [
        "Grafik scatter plot di atas menunjukkan hubungan antara variabel Umur dan Skor Pengeluaran. Berdasarkan sebaran data, tidak terdapat pola hubungan linier yang jelas antara kedua variabel tersebut.\n",
        "*   Untuk orang dengan umur di bawah 30 tahun, terdapat lebih banyak variasi skor pengeluaran (tersebar dari skor rendah hingga tinggi, sekitar 0 hingga 100).\n",
        "*   Umur di antara 30 dan 50 tahun juga memiliki variasi yang besar, tetapi terlihat lebih terpusat di kisaran skor pengeluaran menengah hingga tinggi (sekitar 40 hingga 100).\n",
        "*   Untuk umur di atas 50 tahun, terlihat kecenderungan skor pengeluaran yang lebih rendah, dengan beberapa individu yang tetap memiliki pengeluaran tinggi."
      ],
      "metadata": {
        "id": "KyeHGHGYbEOh"
      }
    },
    {
      "cell_type": "code",
      "source": [
        "# Melihat hubungan antara umur dan Pendapatan Bulanan\n",
        "sns.scatterplot(x='Umur', y='Pendapatan Bulanan', data=mit)\n",
        "plt.title('Hubungan Umur dengan Pendapatan Bulanan')\n",
        "plt.xlabel('Umur')\n",
        "plt.ylabel('Pendapatan Bulanan')\n",
        "plt.show()\n"
      ],
      "metadata": {
        "id": "VA3X5t0F6H7D",
        "colab": {
          "base_uri": "https://localhost:8080/",
          "height": 472
        },
        "outputId": "abeb27ec-19ba-41bc-fa44-b26caa817c1b"
      },
      "execution_count": 45,
      "outputs": [
        {
          "output_type": "display_data",
          "data": {
            "text/plain": [
              "<Figure size 640x480 with 1 Axes>"
            ],
            "image/png": "[encoded data removed]"
          },
          "metadata": {}
        }
      ]
    },
    {
      "cell_type": "markdown",
      "source": [
        "Grafik scatter plot di atas menggambarkan hubungan antara variabel Umur dan Pendapatan Bulanan. Dari sebaran data yang terlihat, tidak terdapat pola hubungan linier yang signifikan antara kedua variabel tersebut.\n",
        "*   Kelompok Usia Muda (20-30 tahun)\n",
        "  *   Variasi pendapatan cukup besar, dari pendapatan rendah hingga menengah.\n",
        "  *   Beberapa individu memiliki pendapatan yang tinggi, namun jumlahnya tidak banyak.\n",
        "\n",
        "*   Kelompok Usia Menengah (30-40 tahun):\n",
        "  *   Pendapatan lebih bervariasi, dengan distribusi pendapatan cenderung lebih tinggi dibandingkan kelompok usia muda.\n",
        "  *   Sebagian besar individu berada dalam kisaran pendapatan menengah hingga tinggi.\n",
        "\n",
        "*   Kelompok Usia Tua (50-60 tahun):\n",
        "  *   Pendapatan cenderung lebih terkonsentrasi pada kisaran menengah.\n",
        "  *   Variasi pendapatan lebih kecil dibandingkan kelompok usia muda dan menengah."
      ],
      "metadata": {
        "id": "pQuUxfbFbQRT"
      }
    },
    {
      "cell_type": "markdown",
      "source": [
        "Sebagai langkah berikutnya, dilakukan visualisasi data numerik menggunakan boxplot dan distribusi untuk melihat pola dan variasi dari variabel Umur, Pendapatan Bulanan, dan Skor Pengeluaran."
      ],
      "metadata": {
        "id": "PKmeU7DxbYCP"
      }
    },
    {
      "cell_type": "code",
      "source": [
        "kolom_num = ['Umur', 'Pendapatan Bulanan', 'Skor Pengeluaran']"
      ],
      "metadata": {
        "id": "D2XK5XT21tC8"
      },
      "execution_count": 46,
      "outputs": []
    },
    {
      "cell_type": "code",
      "source": [
        "sns.set(style='white')\n",
        "plt.clf()\n",
        "\n",
        "# Fungsi untuk membuat plot\n",
        "def observasi_num(features):\n",
        "    fig, axs = plt.subplots(3, 2, figsize=(10, 9))\n",
        "    for i, kol in enumerate(features):\n",
        "\t    p1=sns.boxplot(mit[kol], ax = axs[i][0])\n",
        "\t    p2=sns.distplot(mit[kol], ax = axs[i][1])\n",
        "\t    axs[i][0].set_title('mean = %.2f\\n median = %.2f\\n std = %.2f'%(mit[kol].mean(), mit[kol].median(), mit[kol].std()))\n",
        "    plt.setp(axs)\n",
        "    plt.tight_layout()\n",
        "    plt.show()\n",
        "\n",
        "# Memanggil fungsi untuk membuat Plot untuk data numerik\n",
        "observasi_num(kolom_num)"
      ],
      "metadata": {
        "id": "iygOgPaILcXZ",
        "colab": {
          "base_uri": "https://localhost:8080/",
          "height": 1000
        },
        "outputId": "0065953a-9aa4-47be-ad6f-2827df45ab6e"
      },
      "execution_count": 47,
      "outputs": [
        {
          "output_type": "stream",
          "name": "stdout",
          "text": [
            "  adjustable: {'box', 'datalim'}\n",
            "  agg_filter: a filter function, which takes a (m, n, 3) float array and a dpi value, and returns a (m, n, 3) array and two offsets from the bottom left corner of the image\n",
            "  alpha: scalar or None\n",
            "  anchor: (float, float) or {'C', 'SW', 'S', 'SE', 'E', 'NE', ...}\n",
            "  animated: bool\n",
            "  aspect: {'auto', 'equal'} or float\n",
            "  autoscale_on: bool\n",
            "  autoscalex_on: unknown\n",
            "  autoscaley_on: unknown\n",
            "  axes_locator: Callable[[Axes, Renderer], Bbox]\n",
            "  axisbelow: bool or 'line'\n",
            "  box_aspect: float or None\n",
            "  clip_box: `.Bbox`\n",
            "  clip_on: bool\n",
            "  clip_path: Patch or (Path, Transform) or None\n",
            "  facecolor or fc: color\n",
            "  figure: `.Figure`\n",
            "  frame_on: bool\n",
            "  gid: str\n",
            "  in_layout: bool\n",
            "  label: object\n",
            "  mouseover: bool\n",
            "  navigate: bool\n",
            "  navigate_mode: unknown\n",
            "  path_effects: `.AbstractPathEffect`\n",
            "  picker: None or bool or float or callable\n",
            "  position: [left, bottom, width, height] or `~matplotlib.transforms.Bbox`\n",
            "  prop_cycle: unknown\n",
            "  rasterization_zorder: float or None\n",
            "  rasterized: bool\n",
            "  sketch_params: (scale: float, length: float, randomness: float)\n",
            "  snap: bool or None\n",
            "  subplotspec: unknown\n",
            "  title: str\n",
            "  transform: `.Transform`\n",
            "  url: str\n",
            "  visible: bool\n",
            "  xbound: unknown\n",
            "  xlabel: str\n",
            "  xlim: (bottom: float, top: float)\n",
            "  xmargin: float greater than -0.5\n",
            "  xscale: unknown\n",
            "  xticklabels: unknown\n",
            "  xticks: unknown\n",
            "  ybound: unknown\n",
            "  ylabel: str\n",
            "  ylim: (bottom: float, top: float)\n",
            "  ymargin: float greater than -0.5\n",
            "  yscale: unknown\n",
            "  yticklabels: unknown\n",
            "  yticks: unknown\n",
            "  zorder: float\n"
          ]
        },
        {
          "output_type": "display_data",
          "data": {
            "text/plain": [
              "<Figure size 640x480 with 0 Axes>"
            ]
          },
          "metadata": {}
        },
        {
          "output_type": "display_data",
          "data": {
            "text/plain": [
              "<Figure size 1000x900 with 6 Axes>"
            ],
            "image/png": "[encoded data removed]"
          },
          "metadata": {}
        }
      ]
    },
    {
      "cell_type": "markdown",
      "source": [
        "Dapat dilihat bahwa:\n",
        "*   Umur:\n",
        "\n",
        "  Rata-rata pelanggan MixItUp berusia sekitar 37 tahun, dengan mayoritas berusia 20 hingga 40 tahun. Loyalitas produk tampak merata di kelompok usia ini, menunjukkan daya tarik yang luas bagi konsumen dewasa.\n",
        "\n",
        "*   Pendapatan Bulanan:\n",
        "\n",
        "  Rata-rata pendapatan pelanggan sekitar 18 juta, dengan variasi besar. MixItUp berhasil menarik pelanggan dari berbagai tingkat pendapatan, termasuk konsumen berdaya beli tinggi yang lebih loyal dan sering membeli.\n",
        "\n",
        "*   Skor Pengeluaran:\n",
        "\n",
        "  Skor pengeluaran menunjukkan loyalitas pelanggan yang cukup baik, dengan rata-rata skor di kisaran 50-70. Ini mengindikasikan bahwa sebagian besar pelanggan setia, melakukan pembelian berulang, dan loyalitas tersebar di seluruh kelompok ekonomi."
      ],
      "metadata": {
        "id": "GJpucYC22oRg"
      }
    },
    {
      "cell_type": "markdown",
      "source": [
        "## Eksplorasi Data Kategorik"
      ],
      "metadata": {
        "id": "DNpK8xrDLS1p"
      }
    },
    {
      "cell_type": "code",
      "source": [
        "kolom_kat = ['Jenis Kelamin','Menikah','Kota', 'Promo', 'HariFav', 'FavFlavor']"
      ],
      "metadata": {
        "id": "xf9XTL8h3Yss"
      },
      "execution_count": 48,
      "outputs": []
    },
    {
      "cell_type": "code",
      "source": [
        "import matplotlib.pyplot as plt\n",
        "import seaborn as sns\n",
        "\n",
        "# Mengatur gaya seaborn\n",
        "sns.set(style='white')\n",
        "plt.clf()\n",
        "\n",
        "# Membuat canvas\n",
        "fig, axs = plt.subplots(6, 1, figsize=(12, 15))\n",
        "\n",
        "# Mengganti df dengan mit\n",
        "for i, kol2 in enumerate(kolom_kat):\n",
        "    # Membuat Plot dengan palet warna\n",
        "    sns.countplot(x=kol2, data=mit, order=mit[kol2].value_counts().index, ax=axs[i], palette='Set2')\n",
        "    axs[i].set_title('\\nCount Plot %s\\n' % (kol2), fontsize=15)\n",
        "\n",
        "    # Memberikan anotasi\n",
        "    for p in axs[i].patches:\n",
        "        axs[i].annotate(format(p.get_height(), '.0f'),\n",
        "                        (p.get_x() + p.get_width() / 2., p.get_height()),\n",
        "                        ha='center',\n",
        "                        va='center',\n",
        "                        xytext=(0, 10),\n",
        "                        textcoords='offset points')\n",
        "\n",
        "    # Mengatur label x-tick\n",
        "    axs[i].set_xticklabels(axs[i].get_xticklabels(), rotation=45, ha='right')\n",
        "\n",
        "    # Mengatur tampilan plot\n",
        "    sns.despine(right=True, top=True, left=True)\n",
        "    axs[i].axes.yaxis.set_visible(False)\n",
        "\n",
        "    # Menyesuaikan tata letak untuk plot individual\n",
        "    plt.tight_layout()\n",
        "\n",
        "# Tampilkan plot\n",
        "plt.show()\n"
      ],
      "metadata": {
        "id": "X_MqZbZkDQ3L",
        "colab": {
          "base_uri": "https://localhost:8080/",
          "height": 1000
        },
        "outputId": "0ccb5bf2-5696-43d0-9463-d4e928d0b677"
      },
      "execution_count": 49,
      "outputs": [
        {
          "output_type": "display_data",
          "data": {
            "text/plain": [
              "<Figure size 640x480 with 0 Axes>"
            ]
          },
          "metadata": {}
        },
        {
          "output_type": "display_data",
          "data": {
            "text/plain": [
              "<Figure size 1200x1500 with 6 Axes>"
            ],
            "image/png": "[encoded data removed]"
          },
          "metadata": {}
        }
      ]
    },
    {
      "cell_type": "markdown",
      "source": [
        "Berdasarkan output didapat:\n",
        "\n",
        "*   Jenis Kelamin: Mayoritas pelanggan adalah wanita,\n",
        "menunjukkan daya tarik produk MixItUp yang lebih kuat di kalangan wanita.\n",
        "\n",
        "*   Menikah: Sebagian besar pelanggan adalah orang yang sudah menikah, yang menunjukkan bahwa MixItUp mungkin lebih populer di kalangan keluarga atau pasangan.\n",
        "\n",
        "*   Kota: Pelanggan MixItUp tersebar di beberapa kota dengan konsentrasi terbesar di Jakarta, diikuti oleh Depok dan Tangerang.\n",
        "\n",
        "*   Promo: Sebagian besar pelanggan aktif memanfaatkan promo, menunjukkan bahwa promosi memainkan peran penting dalam mendorong pembelian.\n",
        "\n",
        "*   Hari Favorit: Pelanggan cenderung lebih banyak berbelanja di awal minggu dan akhir pekan, dengan hari Senin dan Sabtu sebagai hari terfavorit.\n",
        "\n",
        "*   Rasa Favorit (FavFlavor): Vanilla adalah rasa favorit, diikuti oleh Strawberry, tetapi varian rasa lainnya juga tetap diminati oleh pelanggan.\n",
        "\n",
        "Dari output diatas didapat beberapa rekomendasi, yaitu :\n",
        "1. Untuk meningkatkan jumlah pelanggan wanita, perusahaan dapat menciptakan ruang yang Instagramable di toko-toko mereka, yang akan menarik minat pelanggan wanita untuk berkunjung dan berbagi pengalaman mereka di media sosial. Sementara itu, untuk menarik lebih banyak pelanggan pria, MixItUp bisa mempertimbangkan untuk menambahkan varian es krim dengan rasa kopi yang mungkin lebih menarik bagi pria, serta menyediakan area merokok yang nyaman untuk mereka.\n",
        "2. Karena sebagian besar pelanggan MixItUp sudah menikah, memperkenalkan paket keluarga atau bundling es krim untuk konsumsi bersama dapat menjadi strategi yang efektif. Penawaran ini bisa mencakup porsi es krim yang lebih besar dengan harga yang lebih hemat, yang akan mendorong pembelian dalam jumlah besar dan menarik bagi segmen keluarga.\n",
        "3. Untuk meningkatkan pendaftaran program loyalitas, MixItUp dapat memberikan promo khusus atau keuntungan eksklusif bagi pelanggan yang memiliki kartu loyalitas, seperti diskon tambahan atau hadiah spesial. Strategi ini akan menarik lebih banyak pelanggan untuk mendaftar program tersebut, sekaligus mendorong penggunaan kartu loyalitas dalam transaksi mereka.\n",
        "4. Mengatasi promo yang jarang digunakan oleh pelanggan dapat dilakukan dengan cara memperkuat promosi di berbagai media, termasuk media sosial dan melalui pemberitahuan langsung di toko. Pelayan bisa diberi tugas untuk secara aktif memberi tahu pelanggan tentang promo yang tersedia saat mereka datang ke toko. Selain itu, membuat iklan promosi yang lebih menarik dapat meningkatkan kesadaran pelanggan terhadap promo yang ada dan menggerakkan mereka untuk lebih memanfaatkannya.\n",
        "5. Untuk meningkatkan penggunaan kartu loyalitas di hari-hari selain Senin, MixItUp bisa memperkenalkan promo khusus di hari-hari tertentu, terutama di hari yang lebih sepi seperti Rabu dan Jumat. Dengan cara ini, pelanggan akan terdorong untuk memanfaatkan kartu loyalitas mereka lebih sering di sepanjang minggu.\n",
        "6. Vanilla merupakan rasa favorit pelanggan, tetapi untuk meningkatkan penjualan rasa lain, MixItUp bisa meluncurkan promo khusus untuk rasa tertentu yang kurang populer. Alternatif lainnya adalah membuat paket hemat yang mencampurkan es krim rasa Vanilla dengan rasa-rasa lainnya, sehingga pelanggan terdorong untuk mencoba varian baru sambil tetap menikmati rasa favorit mereka.\n"
      ],
      "metadata": {
        "id": "kmWZD3CQ8HMo"
      }
    },
    {
      "cell_type": "code",
      "source": [
        "# Count plot dengan pewarnaan berdasarkan gender\n",
        "sns.countplot(x='Kota', hue='Jenis Kelamin', data=mit, palette='Set2')\n",
        "plt.title('Distribusi Jenis Kelamin di Setiap Kota')\n",
        "plt.xlabel('Kota')\n",
        "plt.ylabel('Jenis Kelamin')\n",
        "plt.show()"
      ],
      "metadata": {
        "id": "gNuVRAq9g1tI",
        "colab": {
          "base_uri": "https://localhost:8080/",
          "height": 480
        },
        "outputId": "ffddecde-1509-428f-cc61-82b197673d54"
      },
      "execution_count": 50,
      "outputs": [
        {
          "output_type": "display_data",
          "data": {
            "text/plain": [
              "<Figure size 640x480 with 1 Axes>"
            ],
            "image/png": "[encoded data removed]"
          },
          "metadata": {}
        }
      ]
    },
    {
      "cell_type": "markdown",
      "source": [
        "Berdasarkan grafik distribusi jenis kelamin di setiap kota, Wanita mendominasi pelanggan MixItUp di Jakarta, meskipun distribusi di Depok dan Tangerang juga menunjukkan proporsi pelanggan pria yang cukup besar."
      ],
      "metadata": {
        "id": "INsTnJ2kc9u3"
      }
    },
    {
      "cell_type": "markdown",
      "source": [
        "## Eksplorasi Data Numerik dan Kategorik"
      ],
      "metadata": {
        "id": "EQ7kLDsW4xqt"
      }
    },
    {
      "cell_type": "code",
      "source": [
        "# Bar plot rata-rata Pendapatan Bulanan berdasarkan Kota\n",
        "mit.groupby('Kota')['Pendapatan Bulanan'].mean().plot(kind='bar', colormap='viridis')\n",
        "plt.title('Rata-Rata Pendapatan Bulanan per Kota')\n",
        "plt.xlabel('Kota')\n",
        "plt.ylabel('Rata-Rata Pendapatan Bulanan')\n",
        "plt.show()"
      ],
      "metadata": {
        "id": "g_z0gK62Gpfm",
        "colab": {
          "base_uri": "https://localhost:8080/",
          "height": 545
        },
        "outputId": "51586884-9679-4cfc-c604-5da11a21d620"
      },
      "execution_count": 51,
      "outputs": [
        {
          "output_type": "display_data",
          "data": {
            "text/plain": [
              "<Figure size 640x480 with 1 Axes>"
            ],
            "image/png": "[encoded data removed]"
          },
          "metadata": {}
        }
      ]
    },
    {
      "cell_type": "markdown",
      "source": [
        "Grafik menunjukkan bahwa pelanggan di Depok dan Tangerang memiliki rata-rata pendapatan bulanan lebih tinggi (sekitar 20 juta) dibandingkan dengan Jakarta (sekitar 15 juta). Meskipun Jakarta memiliki basis pelanggan terbesar, daya beli rata-rata di Depok dan Tangerang lebih tinggi.\n",
        "\n",
        "**Rekomendasi:**\n",
        "\n",
        "Untuk Jakarta, MixItUp dapat memperkenalkan produk atau paket yang lebih terjangkau untuk menarik konsumen dengan daya beli yang lebih rendah. Di sisi lain, di Depok dan Tangerang, perusahaan bisa menawarkan produk premium atau eksklusif yang menargetkan pelanggan dengan pendapatan yang lebih tinggi."
      ],
      "metadata": {
        "id": "mSM2kGJ6dPN2"
      }
    },
    {
      "cell_type": "code",
      "source": [
        "# Bar plot rata-rata Skor Pengeluaran berdasarkan Kota\n",
        "mit.groupby('Kota')['Skor Pengeluaran'].mean().plot(kind='bar', color='lightgreen')\n",
        "plt.title('Rata-Rata Skor Pengeluaran per Kota')\n",
        "plt.xlabel('Kota')\n",
        "plt.ylabel('Rata-Rata Skor Pengeluaran')\n",
        "plt.show()\n"
      ],
      "metadata": {
        "id": "V97KNVET5O-_",
        "colab": {
          "base_uri": "https://localhost:8080/",
          "height": 545
        },
        "outputId": "b552c554-7183-4955-e13b-26ab43ad38d8"
      },
      "execution_count": 52,
      "outputs": [
        {
          "output_type": "display_data",
          "data": {
            "text/plain": [
              "<Figure size 640x480 with 1 Axes>"
            ],
            "image/png": "[encoded data removed]"
          },
          "metadata": {}
        }
      ]
    },
    {
      "cell_type": "markdown",
      "source": [
        "Skor Pengeluaran paling banyak di kota Depok yang berarti banyak customer yang menghabiskan uangnya untuk membeli MixlTup di depok."
      ],
      "metadata": {
        "id": "giOljF0mxQGj"
      }
    },
    {
      "cell_type": "markdown",
      "source": [
        "# Standarisasi Kolom Numerik\n",
        "\n"
      ],
      "metadata": {
        "id": "i8BEDbflLZqJ"
      }
    },
    {
      "cell_type": "code",
      "source": [
        "from sklearn.preprocessing import StandardScaler\n",
        "import pandas as pd\n",
        "\n",
        "# Statistik sebelum Standarisasi\n",
        "print('Statistik sebelum Standarisasi\\n')\n",
        "print(mit[kolom_num].describe().round(1))\n",
        "\n",
        "# Standarisasi\n",
        "mit_std = StandardScaler().fit_transform(mit[kolom_num])\n",
        "\n",
        "# Membuat DataFrame\n",
        "mit_std = pd.DataFrame(data=mit_std, index=mit.index, columns=mit[kolom_num].columns)\n",
        "\n",
        "# Menampilkan contoh isi data dan summary statistik\n",
        "print('\\nHasil Standarisasi\\n')\n",
        "print(mit_std.head())\n",
        "\n",
        "print('\\nStatistik Hasil Standarisasi\\n')\n",
        "print(mit_std.describe().round(0))\n"
      ],
      "metadata": {
        "id": "SuPQ3ikfhO6-",
        "colab": {
          "base_uri": "https://localhost:8080/"
        },
        "outputId": "b5e02ef7-927d-4307-af9f-fa4568b657e3"
      },
      "execution_count": 53,
      "outputs": [
        {
          "output_type": "stream",
          "name": "stdout",
          "text": [
            "Statistik sebelum Standarisasi\n",
            "\n",
            "        Umur  Pendapatan Bulanan  Skor Pengeluaran\n",
            "count  175.0               175.0             175.0\n",
            "mean    37.3          18592505.4              50.5\n",
            "std     12.1          10615829.6              26.1\n",
            "min     18.0                 0.0               1.0\n",
            "25%     27.5          11065573.0              34.5\n",
            "50%     36.0          18852459.0              51.0\n",
            "75%     47.0          25409836.0              73.0\n",
            "max     60.0          50000000.0              99.0\n",
            "\n",
            "Hasil Standarisasi\n",
            "\n",
            "       Umur  Pendapatan Bulanan  Skor Pengeluaran\n",
            "0  0.969233           -0.517479          0.057602\n",
            "1 -0.443539            1.418366          1.365738\n",
            "2  1.135442           -0.246461         -0.365619\n",
            "3 -1.523895           -0.556196          0.173026\n",
            "4  0.055086            0.140708         -0.327144\n",
            "\n",
            "Statistik Hasil Standarisasi\n",
            "\n",
            "        Umur  Pendapatan Bulanan  Skor Pengeluaran\n",
            "count  175.0               175.0             175.0\n",
            "mean    -0.0                 0.0              -0.0\n",
            "std      1.0                 1.0               1.0\n",
            "min     -2.0                -2.0              -2.0\n",
            "25%     -1.0                -1.0              -1.0\n",
            "50%     -0.0                 0.0               0.0\n",
            "75%      1.0                 1.0               1.0\n",
            "max      2.0                 3.0               2.0\n"
          ]
        }
      ]
    },
    {
      "cell_type": "markdown",
      "source": [
        "Dapat dilihat setelah dilakukan standardisasi nilai mean dan standard deviasi setiap variabel menjadi 0 dan 1. Hal ini menunjukan bahwa data kita sudah dalam skala yang sama."
      ],
      "metadata": {
        "id": "4xvl2eEpfkOP"
      }
    },
    {
      "cell_type": "code",
      "source": [
        "# Menggabungkan data frame\n",
        "mit2 = mit_std.merge(mit, left_index = True, right_index=True, how = 'left')\n",
        "print(mit2.head())\n",
        "\n",
        "# Check the column names of mit2\n",
        "print(mit2.columns)\n",
        "\n",
        "# Menghapus salah satu kolom dengan nama yang sama\n",
        "# Replace 'Umur_y' with the actual column name from mit2.columns output\n",
        "mit2.drop(columns=['Umur_y'], inplace=True)  # Menghapus kolom Umur yang asli, bukan Umur_y\n",
        "mit2.rename(columns={'Umur_x': 'Umur'}, inplace=True) # Rename Umur_x to Umur\n",
        "\n",
        "#Similarly, for other columns, first check the actual column names using mit2.columns\n",
        "# and then adjust the drop and rename statements accordingly.\n",
        "mit2.drop(columns=['Pendapatan Bulanan_y'], inplace=True)\n",
        "mit2.rename(columns={'Pendapatan Bulanan_x': 'Pendapatan Bulanan'}, inplace=True)\n",
        "mit2.drop(columns=['Skor Pengeluaran_y'], inplace=True)\n",
        "mit2.rename(columns={'Skor Pengeluaran_x': 'Skor Pengeluaran'}, inplace=True)"
      ],
      "metadata": {
        "colab": {
          "base_uri": "https://localhost:8080/"
        },
        "id": "fBHE4vUR7GB1",
        "outputId": "a88d039e-1682-4d96-fcfc-410a32d6d512"
      },
      "execution_count": 54,
      "outputs": [
        {
          "output_type": "stream",
          "name": "stdout",
          "text": [
            "     Umur_x  Pendapatan Bulanan_x  Skor Pengeluaran_x Jenis Kelamin  Umur_y  \\\n",
            "0  0.969233             -0.517479            0.057602        Wanita      49   \n",
            "1 -0.443539              1.418366            1.365738        Wanita      32   \n",
            "2  1.135442             -0.246461           -0.365619          Pria      51   \n",
            "3 -1.523895             -0.556196            0.173026          Pria      19   \n",
            "4  0.055086              0.140708           -0.327144        Wanita      38   \n",
            "\n",
            "   Pendapatan Bulanan_y  Skor Pengeluaran_y Menikah     Kota Promo HariFav  \\\n",
            "0              13114754                  52       1  Jakarta   1.0   Sabtu   \n",
            "1              33606557                  86       1    Depok   1.0  Minggu   \n",
            "2              15983606                  41       1  Jakarta   2.0  Minggu   \n",
            "3              12704918                  55       0  Jakarta   1.0    Rabu   \n",
            "4              20081967                  42       1  Jakarta   2.0   Senin   \n",
            "\n",
            "  FavFlavor  \n",
            "0         2  \n",
            "1         6  \n",
            "2         3  \n",
            "3         7  \n",
            "4         8  \n",
            "Index(['Umur_x', 'Pendapatan Bulanan_x', 'Skor Pengeluaran_x', 'Jenis Kelamin',\n",
            "       'Umur_y', 'Pendapatan Bulanan_y', 'Skor Pengeluaran_y', 'Menikah',\n",
            "       'Kota', 'Promo', 'HariFav', 'FavFlavor'],\n",
            "      dtype='object')\n"
          ]
        }
      ]
    },
    {
      "cell_type": "code",
      "source": [
        "print(mit2.head())"
      ],
      "metadata": {
        "colab": {
          "base_uri": "https://localhost:8080/"
        },
        "id": "fX3gN_dU8NZ7",
        "outputId": "df4bcd99-e503-48c8-f0f0-1a8d64fb6f99"
      },
      "execution_count": 55,
      "outputs": [
        {
          "output_type": "stream",
          "name": "stdout",
          "text": [
            "       Umur  Pendapatan Bulanan  Skor Pengeluaran Jenis Kelamin Menikah  \\\n",
            "0  0.969233           -0.517479          0.057602        Wanita       1   \n",
            "1 -0.443539            1.418366          1.365738        Wanita       1   \n",
            "2  1.135442           -0.246461         -0.365619          Pria       1   \n",
            "3 -1.523895           -0.556196          0.173026          Pria       0   \n",
            "4  0.055086            0.140708         -0.327144        Wanita       1   \n",
            "\n",
            "      Kota Promo HariFav FavFlavor  \n",
            "0  Jakarta   1.0   Sabtu         2  \n",
            "1    Depok   1.0  Minggu         6  \n",
            "2  Jakarta   2.0  Minggu         3  \n",
            "3  Jakarta   1.0    Rabu         7  \n",
            "4  Jakarta   2.0   Senin         8  \n"
          ]
        }
      ]
    },
    {
      "cell_type": "markdown",
      "source": [
        "# Konversi Kategorik Data dengan Label\n"
      ],
      "metadata": {
        "id": "cZKJdQ-MLqqT"
      }
    },
    {
      "cell_type": "code",
      "source": [
        "# Membuat salinan data frame\n",
        "mit_encode = mit[kolom_kat].copy()\n",
        "\n",
        "# Melakukan labelEncoder untuk semua kolom kategorik\n",
        "for col in kolom_kat:\n",
        "    mit_encode[col] = LabelEncoder().fit_transform(mit_encode[col])\n",
        "\n",
        "# Menampilkan data\n",
        "print(mit_encode.head(10))"
      ],
      "metadata": {
        "id": "Q_3Co_4MiSyY",
        "colab": {
          "base_uri": "https://localhost:8080/"
        },
        "outputId": "187c8062-de1c-4340-caad-a8dd799f3cd3"
      },
      "execution_count": 56,
      "outputs": [
        {
          "output_type": "stream",
          "name": "stdout",
          "text": [
            "   Jenis Kelamin  Menikah  Kota  Promo  HariFav  FavFlavor\n",
            "0              1        1     1      1        4          2\n",
            "1              1        1     0      1        2          6\n",
            "2              0        1     1      2        2          3\n",
            "3              0        0     1      1        3          7\n",
            "4              1        1     1      2        6          8\n",
            "5              1        1     0      0        6          0\n",
            "6              0        1     1      1        6          5\n",
            "7              1        1     0      1        6          3\n",
            "8              1        1     1      2        5          6\n",
            "9              1        1     1      2        6          4\n"
          ]
        }
      ]
    },
    {
      "cell_type": "markdown",
      "source": [
        "# Persiapan Data Model"
      ],
      "metadata": {
        "id": "Xz9mAu4KLvwR"
      }
    },
    {
      "cell_type": "code",
      "source": [
        "# Menggabungkan data frame\n",
        "mit_model = mit_encode.merge(mit_std, left_index = True, right_index=True, how = 'left')\n",
        "print(mit_model.head())"
      ],
      "metadata": {
        "id": "jwL2nKc2mZ6h",
        "colab": {
          "base_uri": "https://localhost:8080/"
        },
        "outputId": "4ece4742-3e85-45bb-8448-d8d58993772c"
      },
      "execution_count": 57,
      "outputs": [
        {
          "output_type": "stream",
          "name": "stdout",
          "text": [
            "   Jenis Kelamin  Menikah  Kota  Promo  HariFav  FavFlavor      Umur  \\\n",
            "0              1        1     1      1        4          2  0.969233   \n",
            "1              1        1     0      1        2          6 -0.443539   \n",
            "2              0        1     1      2        2          3  1.135442   \n",
            "3              0        0     1      1        3          7 -1.523895   \n",
            "4              1        1     1      2        6          8  0.055086   \n",
            "\n",
            "   Pendapatan Bulanan  Skor Pengeluaran  \n",
            "0           -0.517479          0.057602  \n",
            "1            1.418366          1.365738  \n",
            "2           -0.246461         -0.365619  \n",
            "3           -0.556196          0.173026  \n",
            "4            0.140708         -0.327144  \n"
          ]
        }
      ]
    },
    {
      "cell_type": "code",
      "source": [
        "mit.head()"
      ],
      "metadata": {
        "colab": {
          "base_uri": "https://localhost:8080/",
          "height": 206
        },
        "id": "YtpKNeiN44W5",
        "outputId": "98e2a5ed-cf1d-458e-b9b1-39022748a199"
      },
      "execution_count": 58,
      "outputs": [
        {
          "output_type": "execute_result",
          "data": {
            "text/plain": [
              "  Jenis Kelamin  Umur  Pendapatan Bulanan  Skor Pengeluaran Menikah     Kota  \\\n",
              "0        Wanita    49            13114754                52       1  Jakarta   \n",
              "1        Wanita    32            33606557                86       1    Depok   \n",
              "2          Pria    51            15983606                41       1  Jakarta   \n",
              "3          Pria    19            12704918                55       0  Jakarta   \n",
              "4        Wanita    38            20081967                42       1  Jakarta   \n",
              "\n",
              "  Promo HariFav FavFlavor  \n",
              "0   1.0   Sabtu         2  \n",
              "1   1.0  Minggu         6  \n",
              "2   2.0  Minggu         3  \n",
              "3   1.0    Rabu         7  \n",
              "4   2.0   Senin         8  "
            ],
            "text/html": [
              "\n",
              "  <div id=\"df-d1d1da5f-6e0b-4a7f-8cf1-9c3ee5047c04\" class=\"colab-df-container\">\n",
              "    <div>\n",
              "<style scoped>\n",
              "    .dataframe tbody tr th:only-of-type {\n",
              "        vertical-align: middle;\n",
              "    }\n",
              "\n",
              "    .dataframe tbody tr th {\n",
              "        vertical-align: top;\n",
              "    }\n",
              "\n",
              "    .dataframe thead th {\n",
              "        text-align: right;\n",
              "    }\n",
              "</style>\n",
              "<table border=\"1\" class=\"dataframe\">\n",
              "  <thead>\n",
              "    <tr style=\"text-align: right;\">\n",
              "      <th></th>\n",
              "      <th>Jenis Kelamin</th>\n",
              "      <th>Umur</th>\n",
              "      <th>Pendapatan Bulanan</th>\n",
              "      <th>Skor Pengeluaran</th>\n",
              "      <th>Menikah</th>\n",
              "      <th>Kota</th>\n",
              "      <th>Promo</th>\n",
              "      <th>HariFav</th>\n",
              "      <th>FavFlavor</th>\n",
              "    </tr>\n",
              "  </thead>\n",
              "  <tbody>\n",
              "    <tr>\n",
              "      <th>0</th>\n",
              "      <td>Wanita</td>\n",
              "      <td>49</td>\n",
              "      <td>13114754</td>\n",
              "      <td>52</td>\n",
              "      <td>1</td>\n",
              "      <td>Jakarta</td>\n",
              "      <td>1.0</td>\n",
              "      <td>Sabtu</td>\n",
              "      <td>2</td>\n",
              "    </tr>\n",
              "    <tr>\n",
              "      <th>1</th>\n",
              "      <td>Wanita</td>\n",
              "      <td>32</td>\n",
              "      <td>33606557</td>\n",
              "      <td>86</td>\n",
              "      <td>1</td>\n",
              "      <td>Depok</td>\n",
              "      <td>1.0</td>\n",
              "      <td>Minggu</td>\n",
              "      <td>6</td>\n",
              "    </tr>\n",
              "    <tr>\n",
              "      <th>2</th>\n",
              "      <td>Pria</td>\n",
              "      <td>51</td>\n",
              "      <td>15983606</td>\n",
              "      <td>41</td>\n",
              "      <td>1</td>\n",
              "      <td>Jakarta</td>\n",
              "      <td>2.0</td>\n",
              "      <td>Minggu</td>\n",
              "      <td>3</td>\n",
              "    </tr>\n",
              "    <tr>\n",
              "      <th>3</th>\n",
              "      <td>Pria</td>\n",
              "      <td>19</td>\n",
              "      <td>12704918</td>\n",
              "      <td>55</td>\n",
              "      <td>0</td>\n",
              "      <td>Jakarta</td>\n",
              "      <td>1.0</td>\n",
              "      <td>Rabu</td>\n",
              "      <td>7</td>\n",
              "    </tr>\n",
              "    <tr>\n",
              "      <th>4</th>\n",
              "      <td>Wanita</td>\n",
              "      <td>38</td>\n",
              "      <td>20081967</td>\n",
              "      <td>42</td>\n",
              "      <td>1</td>\n",
              "      <td>Jakarta</td>\n",
              "      <td>2.0</td>\n",
              "      <td>Senin</td>\n",
              "      <td>8</td>\n",
              "    </tr>\n",
              "  </tbody>\n",
              "</table>\n",
              "</div>\n",
              "    <div class=\"colab-df-buttons\">\n",
              "\n",
              "  <div class=\"colab-df-container\">\n",
              "    <button class=\"colab-df-convert\" onclick=\"convertToInteractive('df-d1d1da5f-6e0b-4a7f-8cf1-9c3ee5047c04')\"\n",
              "            title=\"Convert this dataframe to an interactive table.\"\n",
              "            style=\"display:none;\">\n",
              "\n",
              "  <svg xmlns=\"http://www.w3.org/2000/svg\" height=\"24px\" viewBox=\"0 -960 960 960\">\n",
              "    <path d=\"M120-120v-720h720v720H120Zm60-500h600v-160H180v160Zm220 220h160v-160H400v160Zm0 220h160v-160H400v160ZM180-400h160v-160H180v160Zm440 0h160v-160H620v160ZM180-180h160v-160H180v160Zm440 0h160v-160H620v160Z\"/>\n",
              "  </svg>\n",
              "    </button>\n",
              "\n",
              "  <style>\n",
              "    .colab-df-container {\n",
              "      display:flex;\n",
              "      gap: 12px;\n",
              "    }\n",
              "\n",
              "    .colab-df-convert {\n",
              "      background-color: #E8F0FE;\n",
              "      border: none;\n",
              "      border-radius: 50%;\n",
              "      cursor: pointer;\n",
              "      display: none;\n",
              "      fill: #1967D2;\n",
              "      height: 32px;\n",
              "      padding: 0 0 0 0;\n",
              "      width: 32px;\n",
              "    }\n",
              "\n",
              "    .colab-df-convert:hover {\n",
              "      background-color: #E2EBFA;\n",
              "      box-shadow: 0px 1px 2px rgba(60, 64, 67, 0.3), 0px 1px 3px 1px rgba(60, 64, 67, 0.15);\n",
              "      fill: #174EA6;\n",
              "    }\n",
              "\n",
              "    .colab-df-buttons div {\n",
              "      margin-bottom: 4px;\n",
              "    }\n",
              "\n",
              "    [theme=dark] .colab-df-convert {\n",
              "      background-color: #3B4455;\n",
              "      fill: #D2E3FC;\n",
              "    }\n",
              "\n",
              "    [theme=dark] .colab-df-convert:hover {\n",
              "      background-color: #434B5C;\n",
              "      box-shadow: 0px 1px 3px 1px rgba(0, 0, 0, 0.15);\n",
              "      filter: drop-shadow(0px 1px 2px rgba(0, 0, 0, 0.3));\n",
              "      fill: #FFFFFF;\n",
              "    }\n",
              "  </style>\n",
              "\n",
              "    <script>\n",
              "      const buttonEl =\n",
              "        document.querySelector('#df-d1d1da5f-6e0b-4a7f-8cf1-9c3ee5047c04 button.colab-df-convert');\n",
              "      buttonEl.style.display =\n",
              "        google.colab.kernel.accessAllowed ? 'block' : 'none';\n",
              "\n",
              "      async function convertToInteractive(key) {\n",
              "        const element = document.querySelector('#df-d1d1da5f-6e0b-4a7f-8cf1-9c3ee5047c04');\n",
              "        const dataTable =\n",
              "          await google.colab.kernel.invokeFunction('convertToInteractive',\n",
              "                                                    [key], {});\n",
              "        if (!dataTable) return;\n",
              "\n",
              "        const docLinkHtml = 'Like what you see? Visit the ' +\n",
              "          '<a target=\"_blank\" href=https://colab.research.google.com/notebooks/data_table.ipynb>data table notebook</a>'\n",
              "          + ' to learn more about interactive tables.';\n",
              "        element.innerHTML = '';\n",
              "        dataTable['output_type'] = 'display_data';\n",
              "        await google.colab.output.renderOutput(dataTable, element);\n",
              "        const docLink = document.createElement('div');\n",
              "        docLink.innerHTML = docLinkHtml;\n",
              "        element.appendChild(docLink);\n",
              "      }\n",
              "    </script>\n",
              "  </div>\n",
              "\n",
              "\n",
              "<div id=\"df-b1122eaa-dab5-4b7e-80bc-6be073606784\">\n",
              "  <button class=\"colab-df-quickchart\" onclick=\"quickchart('df-b1122eaa-dab5-4b7e-80bc-6be073606784')\"\n",
              "            title=\"Suggest charts\"\n",
              "            style=\"display:none;\">\n",
              "\n",
              "<svg xmlns=\"http://www.w3.org/2000/svg\" height=\"24px\"viewBox=\"0 0 24 24\"\n",
              "     width=\"24px\">\n",
              "    <g>\n",
              "        <path d=\"M19 3H5c-1.1 0-2 .9-2 2v14c0 1.1.9 2 2 2h14c1.1 0 2-.9 2-2V5c0-1.1-.9-2-2-2zM9 17H7v-7h2v7zm4 0h-2V7h2v10zm4 0h-2v-4h2v4z\"/>\n",
              "    </g>\n",
              "</svg>\n",
              "  </button>\n",
              "\n",
              "<style>\n",
              "  .colab-df-quickchart {\n",
              "      --bg-color: #E8F0FE;\n",
              "      --fill-color: #1967D2;\n",
              "      --hover-bg-color: #E2EBFA;\n",
              "      --hover-fill-color: #174EA6;\n",
              "      --disabled-fill-color: #AAA;\n",
              "      --disabled-bg-color: #DDD;\n",
              "  }\n",
              "\n",
              "  [theme=dark] .colab-df-quickchart {\n",
              "      --bg-color: #3B4455;\n",
              "      --fill-color: #D2E3FC;\n",
              "      --hover-bg-color: #434B5C;\n",
              "      --hover-fill-color: #FFFFFF;\n",
              "      --disabled-bg-color: #3B4455;\n",
              "      --disabled-fill-color: #666;\n",
              "  }\n",
              "\n",
              "  .colab-df-quickchart {\n",
              "    background-color: var(--bg-color);\n",
              "    border: none;\n",
              "    border-radius: 50%;\n",
              "    cursor: pointer;\n",
              "    display: none;\n",
              "    fill: var(--fill-color);\n",
              "    height: 32px;\n",
              "    padding: 0;\n",
              "    width: 32px;\n",
              "  }\n",
              "\n",
              "  .colab-df-quickchart:hover {\n",
              "    background-color: var(--hover-bg-color);\n",
              "    box-shadow: 0 1px 2px rgba(60, 64, 67, 0.3), 0 1px 3px 1px rgba(60, 64, 67, 0.15);\n",
              "    fill: var(--button-hover-fill-color);\n",
              "  }\n",
              "\n",
              "  .colab-df-quickchart-complete:disabled,\n",
              "  .colab-df-quickchart-complete:disabled:hover {\n",
              "    background-color: var(--disabled-bg-color);\n",
              "    fill: var(--disabled-fill-color);\n",
              "    box-shadow: none;\n",
              "  }\n",
              "\n",
              "  .colab-df-spinner {\n",
              "    border: 2px solid var(--fill-color);\n",
              "    border-color: transparent;\n",
              "    border-bottom-color: var(--fill-color);\n",
              "    animation:\n",
              "      spin 1s steps(1) infinite;\n",
              "  }\n",
              "\n",
              "  @keyframes spin {\n",
              "    0% {\n",
              "      border-color: transparent;\n",
              "      border-bottom-color: var(--fill-color);\n",
              "      border-left-color: var(--fill-color);\n",
              "    }\n",
              "    20% {\n",
              "      border-color: transparent;\n",
              "      border-left-color: var(--fill-color);\n",
              "      border-top-color: var(--fill-color);\n",
              "    }\n",
              "    30% {\n",
              "      border-color: transparent;\n",
              "      border-left-color: var(--fill-color);\n",
              "      border-top-color: var(--fill-color);\n",
              "      border-right-color: var(--fill-color);\n",
              "    }\n",
              "    40% {\n",
              "      border-color: transparent;\n",
              "      border-right-color: var(--fill-color);\n",
              "      border-top-color: var(--fill-color);\n",
              "    }\n",
              "    60% {\n",
              "      border-color: transparent;\n",
              "      border-right-color: var(--fill-color);\n",
              "    }\n",
              "    80% {\n",
              "      border-color: transparent;\n",
              "      border-right-color: var(--fill-color);\n",
              "      border-bottom-color: var(--fill-color);\n",
              "    }\n",
              "    90% {\n",
              "      border-color: transparent;\n",
              "      border-bottom-color: var(--fill-color);\n",
              "    }\n",
              "  }\n",
              "</style>\n",
              "\n",
              "  <script>\n",
              "    async function quickchart(key) {\n",
              "      const quickchartButtonEl =\n",
              "        document.querySelector('#' + key + ' button');\n",
              "      quickchartButtonEl.disabled = true;  // To prevent multiple clicks.\n",
              "      quickchartButtonEl.classList.add('colab-df-spinner');\n",
              "      try {\n",
              "        const charts = await google.colab.kernel.invokeFunction(\n",
              "            'suggestCharts', [key], {});\n",
              "      } catch (error) {\n",
              "        console.error('Error during call to suggestCharts:', error);\n",
              "      }\n",
              "      quickchartButtonEl.classList.remove('colab-df-spinner');\n",
              "      quickchartButtonEl.classList.add('colab-df-quickchart-complete');\n",
              "    }\n",
              "    (() => {\n",
              "      let quickchartButtonEl =\n",
              "        document.querySelector('#df-b1122eaa-dab5-4b7e-80bc-6be073606784 button');\n",
              "      quickchartButtonEl.style.display =\n",
              "        google.colab.kernel.accessAllowed ? 'block' : 'none';\n",
              "    })();\n",
              "  </script>\n",
              "</div>\n",
              "\n",
              "    </div>\n",
              "  </div>\n"
            ],
            "application/vnd.google.colaboratory.intrinsic+json": {
              "type": "dataframe",
              "variable_name": "mit",
              "summary": "{\n  \"name\": \"mit\",\n  \"rows\": 175,\n  \"fields\": [\n    {\n      \"column\": \"Jenis Kelamin\",\n      \"properties\": {\n        \"dtype\": \"category\",\n        \"num_unique_values\": 2,\n        \"samples\": [\n          \"Pria\",\n          \"Wanita\"\n        ],\n        \"semantic_type\": \"\",\n        \"description\": \"\"\n      }\n    },\n    {\n      \"column\": \"Umur\",\n      \"properties\": {\n        \"dtype\": \"number\",\n        \"std\": 12,\n        \"min\": 18,\n        \"max\": 60,\n        \"num_unique_values\": 43,\n        \"samples\": [\n          43,\n          48\n        ],\n        \"semantic_type\": \"\",\n        \"description\": \"\"\n      }\n    },\n    {\n      \"column\": \"Pendapatan Bulanan\",\n      \"properties\": {\n        \"dtype\": \"number\",\n        \"std\": 10615829,\n        \"min\": 0,\n        \"max\": 50000000,\n        \"num_unique_values\": 64,\n        \"samples\": [\n          22540983,\n          18032786\n        ],\n        \"semantic_type\": \"\",\n        \"description\": \"\"\n      }\n    },\n    {\n      \"column\": \"Skor Pengeluaran\",\n      \"properties\": {\n        \"dtype\": \"number\",\n        \"std\": 26,\n        \"min\": 1,\n        \"max\": 99,\n        \"num_unique_values\": 82,\n        \"samples\": [\n          48,\n          52\n        ],\n        \"semantic_type\": \"\",\n        \"description\": \"\"\n      }\n    },\n    {\n      \"column\": \"Menikah\",\n      \"properties\": {\n        \"dtype\": \"category\",\n        \"num_unique_values\": 2,\n        \"samples\": [\n          \"0\",\n          \"1\"\n        ],\n        \"semantic_type\": \"\",\n        \"description\": \"\"\n      }\n    },\n    {\n      \"column\": \"Kota\",\n      \"properties\": {\n        \"dtype\": \"category\",\n        \"num_unique_values\": 3,\n        \"samples\": [\n          \"Jakarta\",\n          \"Depok\"\n        ],\n        \"semantic_type\": \"\",\n        \"description\": \"\"\n      }\n    },\n    {\n      \"column\": \"Promo\",\n      \"properties\": {\n        \"dtype\": \"category\",\n        \"num_unique_values\": 4,\n        \"samples\": [\n          2.0,\n          3.0\n        ],\n        \"semantic_type\": \"\",\n        \"description\": \"\"\n      }\n    },\n    {\n      \"column\": \"HariFav\",\n      \"properties\": {\n        \"dtype\": \"category\",\n        \"num_unique_values\": 7,\n        \"samples\": [\n          \"Sabtu\",\n          \"Minggu\"\n        ],\n        \"semantic_type\": \"\",\n        \"description\": \"\"\n      }\n    },\n    {\n      \"column\": \"FavFlavor\",\n      \"properties\": {\n        \"dtype\": \"category\",\n        \"num_unique_values\": 9,\n        \"samples\": [\n          4,\n          6\n        ],\n        \"semantic_type\": \"\",\n        \"description\": \"\"\n      }\n    }\n  ]\n}"
            }
          },
          "metadata": {},
          "execution_count": 58
        }
      ]
    },
    {
      "cell_type": "code",
      "source": [
        "mit_model.info()"
      ],
      "metadata": {
        "id": "tikDin23wq7f",
        "colab": {
          "base_uri": "https://localhost:8080/"
        },
        "outputId": "796a44f4-d04f-4fa1-8e66-902143ac0f85"
      },
      "execution_count": 59,
      "outputs": [
        {
          "output_type": "stream",
          "name": "stdout",
          "text": [
            "<class 'pandas.core.frame.DataFrame'>\n",
            "Index: 175 entries, 0 to 199\n",
            "Data columns (total 9 columns):\n",
            " #   Column              Non-Null Count  Dtype  \n",
            "---  ------              --------------  -----  \n",
            " 0   Jenis Kelamin       175 non-null    int64  \n",
            " 1   Menikah             175 non-null    int64  \n",
            " 2   Kota                175 non-null    int64  \n",
            " 3   Promo               175 non-null    int64  \n",
            " 4   HariFav             175 non-null    int64  \n",
            " 5   FavFlavor           175 non-null    int64  \n",
            " 6   Umur                175 non-null    float64\n",
            " 7   Pendapatan Bulanan  175 non-null    float64\n",
            " 8   Skor Pengeluaran    175 non-null    float64\n",
            "dtypes: float64(3), int64(6)\n",
            "memory usage: 13.7 KB\n"
          ]
        }
      ]
    },
    {
      "cell_type": "markdown",
      "source": [
        "# Clustering"
      ],
      "metadata": {
        "id": "1glExH_OKV4r"
      }
    },
    {
      "cell_type": "markdown",
      "source": [
        "Mencari Jumlah Cluster yang Optimal"
      ],
      "metadata": {
        "id": "Yt7jig6ZrUVx"
      }
    },
    {
      "cell_type": "markdown",
      "source": [
        "Salah satu parameter penting yang harus dimasukkan pada algoritma kprototype adalah jumlah cluster yang diinginkan. Oleh karena itu, kamu perlu mencari jumlah cluster yang optimal. Salah satu cara untuk mendapatkan nilai optimal tersebut adalah dengan menggunakan bantuan 'elbow plot'.\n",
        "\n",
        "Elbow plot ini dapat dibuat dengan cara memvisualisasikan total jarak seluruh data kita ke pusat cluster-nya. Selanjutnya kita memilih titik siku dari pola yang terbentuk dan menjadikannya sebagai jumlah cluster kita.\n"
      ],
      "metadata": {
        "id": "U4gJbgHMY0U_"
      }
    },
    {
      "cell_type": "markdown",
      "source": [
        "**Cluster 0**: Customer berusia di bawah 37 tahun dengan pendapatan bulanan di antara Rp 18.000.000 kurang lebih. Rata-rata skor pengeluaran mereka di bawah 50.\n",
        "\n",
        "**Cluster 1**: Sebagian besar customer berusia di atas 37 tahun dengan  mayoritas pendapatan bulanan di bawah Rp 18.000.000. Rata-rata skor pengeluaran mereka di bawah 50.\n",
        "\n",
        "**Cluster 2**: Mayoritas customer berusia di bawah 37 tahun dengan pendapatan bulanan di atas Rp 18.000.000. Rata-rata skor pengeluaran mereka di atas 50.\n",
        "\n",
        "**Cluster 3**: Sebagian besar customer berusia di atas 37 tahun dengan pendapatan bulanan di bawah Rp 18.000.000. Rata-rata skor pengeluaran mereka di abtara 50 kurang lebih.\n",
        "\n",
        "**Cluster 4**: Mayoritas customer berusia di atas 37 tahun dengan pendapatan bulanan di atas Rp 18.000.000. Rata-rata skor pengeluaran mereka di bawah 50.\n",
        "\n",
        "**Cluster 5**: Sebagian besar customer berusia di bawah 37 tahun dengan pendapatan bulanan di bawah Rp 18.000.000. Rata-rata skor pengeluaran mereka di atas 50."
      ],
      "metadata": {
        "id": "aqqn8GAzHEK6"
      }
    },
    {
      "cell_type": "markdown",
      "source": [
        "## Prototypes"
      ],
      "metadata": {
        "id": "bxt9okKvpEZC"
      }
    },
    {
      "cell_type": "markdown",
      "source": [
        "Membuat Model"
      ],
      "metadata": {
        "id": "IUSRowtbr7sB"
      }
    },
    {
      "cell_type": "code",
      "source": [
        "# Melakukan Iterasi untuk mendapatkan nilai Cost\n",
        "cost = {}\n",
        "for k in range(1,10):\n",
        "  kproto = KPrototypes(n_clusters = k, random_state = 75)\n",
        "  kproto.fit_predict(mit_model, categorical = [0,1,2,3,4,5])\n",
        "  cost[k] = kproto.cost_\n",
        "\n",
        "# Memvisualisasikan Elbow Plot\n",
        "sns.pointplot(x = list(cost.keys()), y = list(cost.values()))\n",
        "plt.grid()\n",
        "plt.show()"
      ],
      "metadata": {
        "colab": {
          "base_uri": "https://localhost:8080/",
          "height": 434
        },
        "id": "ejHTyTiF6BRp",
        "outputId": "fc929cda-7637-4dcd-da74-df8b8c3a83c7"
      },
      "execution_count": 60,
      "outputs": [
        {
          "output_type": "display_data",
          "data": {
            "text/plain": [
              "<Figure size 640x480 with 1 Axes>"
            ],
            "image/png": "[encoded data removed]"
          },
          "metadata": {}
        }
      ]
    },
    {
      "cell_type": "markdown",
      "source": [
        "Dari output diatas, garis mengalami patahan yang membentuk elbow atau siku pada saat k = 4 5 6. Maka dengan menggunakan metode ini diperoleh k optimal pada saat berada di k = 4. Untuk menjadi pembanding, dilakukan uji yang lainnya.Berdasarkan output di atas didapat nilai k yang optimal"
      ],
      "metadata": {
        "id": "eh5fY2qt_h0B"
      }
    },
    {
      "cell_type": "code",
      "source": [
        "kproto = KPrototypes(n_clusters = 4, random_state = 75)\n",
        "kproto = kproto.fit(mit_model, categorical = [0,1,2,3,4,5])\n",
        "\n",
        "#Save Model\n",
        "pickle.dump(kproto, open('cluster.pkl', 'wb'))"
      ],
      "metadata": {
        "id": "FYyAxQTJsedA"
      },
      "execution_count": 61,
      "outputs": []
    },
    {
      "cell_type": "code",
      "source": [
        "mit_model.head()"
      ],
      "metadata": {
        "colab": {
          "base_uri": "https://localhost:8080/",
          "height": 206
        },
        "id": "UK-NO83B3kS-",
        "outputId": "c8244c31-368a-4fa8-bd11-bef40ba20175"
      },
      "execution_count": 62,
      "outputs": [
        {
          "output_type": "execute_result",
          "data": {
            "text/plain": [
              "   Jenis Kelamin  Menikah  Kota  Promo  HariFav  FavFlavor      Umur  \\\n",
              "0              1        1     1      1        4          2  0.969233   \n",
              "1              1        1     0      1        2          6 -0.443539   \n",
              "2              0        1     1      2        2          3  1.135442   \n",
              "3              0        0     1      1        3          7 -1.523895   \n",
              "4              1        1     1      2        6          8  0.055086   \n",
              "\n",
              "   Pendapatan Bulanan  Skor Pengeluaran  \n",
              "0           -0.517479          0.057602  \n",
              "1            1.418366          1.365738  \n",
              "2           -0.246461         -0.365619  \n",
              "3           -0.556196          0.173026  \n",
              "4            0.140708         -0.327144  "
            ],
            "text/html": [
              "\n",
              "  <div id=\"df-0f8eb129-932e-4624-80e1-22a432abc9c3\" class=\"colab-df-container\">\n",
              "    <div>\n",
              "<style scoped>\n",
              "    .dataframe tbody tr th:only-of-type {\n",
              "        vertical-align: middle;\n",
              "    }\n",
              "\n",
              "    .dataframe tbody tr th {\n",
              "        vertical-align: top;\n",
              "    }\n",
              "\n",
              "    .dataframe thead th {\n",
              "        text-align: right;\n",
              "    }\n",
              "</style>\n",
              "<table border=\"1\" class=\"dataframe\">\n",
              "  <thead>\n",
              "    <tr style=\"text-align: right;\">\n",
              "      <th></th>\n",
              "      <th>Jenis Kelamin</th>\n",
              "      <th>Menikah</th>\n",
              "      <th>Kota</th>\n",
              "      <th>Promo</th>\n",
              "      <th>HariFav</th>\n",
              "      <th>FavFlavor</th>\n",
              "      <th>Umur</th>\n",
              "      <th>Pendapatan Bulanan</th>\n",
              "      <th>Skor Pengeluaran</th>\n",
              "    </tr>\n",
              "  </thead>\n",
              "  <tbody>\n",
              "    <tr>\n",
              "      <th>0</th>\n",
              "      <td>1</td>\n",
              "      <td>1</td>\n",
              "      <td>1</td>\n",
              "      <td>1</td>\n",
              "      <td>4</td>\n",
              "      <td>2</td>\n",
              "      <td>0.969233</td>\n",
              "      <td>-0.517479</td>\n",
              "      <td>0.057602</td>\n",
              "    </tr>\n",
              "    <tr>\n",
              "      <th>1</th>\n",
              "      <td>1</td>\n",
              "      <td>1</td>\n",
              "      <td>0</td>\n",
              "      <td>1</td>\n",
              "      <td>2</td>\n",
              "      <td>6</td>\n",
              "      <td>-0.443539</td>\n",
              "      <td>1.418366</td>\n",
              "      <td>1.365738</td>\n",
              "    </tr>\n",
              "    <tr>\n",
              "      <th>2</th>\n",
              "      <td>0</td>\n",
              "      <td>1</td>\n",
              "      <td>1</td>\n",
              "      <td>2</td>\n",
              "      <td>2</td>\n",
              "      <td>3</td>\n",
              "      <td>1.135442</td>\n",
              "      <td>-0.246461</td>\n",
              "      <td>-0.365619</td>\n",
              "    </tr>\n",
              "    <tr>\n",
              "      <th>3</th>\n",
              "      <td>0</td>\n",
              "      <td>0</td>\n",
              "      <td>1</td>\n",
              "      <td>1</td>\n",
              "      <td>3</td>\n",
              "      <td>7</td>\n",
              "      <td>-1.523895</td>\n",
              "      <td>-0.556196</td>\n",
              "      <td>0.173026</td>\n",
              "    </tr>\n",
              "    <tr>\n",
              "      <th>4</th>\n",
              "      <td>1</td>\n",
              "      <td>1</td>\n",
              "      <td>1</td>\n",
              "      <td>2</td>\n",
              "      <td>6</td>\n",
              "      <td>8</td>\n",
              "      <td>0.055086</td>\n",
              "      <td>0.140708</td>\n",
              "      <td>-0.327144</td>\n",
              "    </tr>\n",
              "  </tbody>\n",
              "</table>\n",
              "</div>\n",
              "    <div class=\"colab-df-buttons\">\n",
              "\n",
              "  <div class=\"colab-df-container\">\n",
              "    <button class=\"colab-df-convert\" onclick=\"convertToInteractive('df-0f8eb129-932e-4624-80e1-22a432abc9c3')\"\n",
              "            title=\"Convert this dataframe to an interactive table.\"\n",
              "            style=\"display:none;\">\n",
              "\n",
              "  <svg xmlns=\"http://www.w3.org/2000/svg\" height=\"24px\" viewBox=\"0 -960 960 960\">\n",
              "    <path d=\"M120-120v-720h720v720H120Zm60-500h600v-160H180v160Zm220 220h160v-160H400v160Zm0 220h160v-160H400v160ZM180-400h160v-160H180v160Zm440 0h160v-160H620v160ZM180-180h160v-160H180v160Zm440 0h160v-160H620v160Z\"/>\n",
              "  </svg>\n",
              "    </button>\n",
              "\n",
              "  <style>\n",
              "    .colab-df-container {\n",
              "      display:flex;\n",
              "      gap: 12px;\n",
              "    }\n",
              "\n",
              "    .colab-df-convert {\n",
              "      background-color: #E8F0FE;\n",
              "      border: none;\n",
              "      border-radius: 50%;\n",
              "      cursor: pointer;\n",
              "      display: none;\n",
              "      fill: #1967D2;\n",
              "      height: 32px;\n",
              "      padding: 0 0 0 0;\n",
              "      width: 32px;\n",
              "    }\n",
              "\n",
              "    .colab-df-convert:hover {\n",
              "      background-color: #E2EBFA;\n",
              "      box-shadow: 0px 1px 2px rgba(60, 64, 67, 0.3), 0px 1px 3px 1px rgba(60, 64, 67, 0.15);\n",
              "      fill: #174EA6;\n",
              "    }\n",
              "\n",
              "    .colab-df-buttons div {\n",
              "      margin-bottom: 4px;\n",
              "    }\n",
              "\n",
              "    [theme=dark] .colab-df-convert {\n",
              "      background-color: #3B4455;\n",
              "      fill: #D2E3FC;\n",
              "    }\n",
              "\n",
              "    [theme=dark] .colab-df-convert:hover {\n",
              "      background-color: #434B5C;\n",
              "      box-shadow: 0px 1px 3px 1px rgba(0, 0, 0, 0.15);\n",
              "      filter: drop-shadow(0px 1px 2px rgba(0, 0, 0, 0.3));\n",
              "      fill: #FFFFFF;\n",
              "    }\n",
              "  </style>\n",
              "\n",
              "    <script>\n",
              "      const buttonEl =\n",
              "        document.querySelector('#df-0f8eb129-932e-4624-80e1-22a432abc9c3 button.colab-df-convert');\n",
              "      buttonEl.style.display =\n",
              "        google.colab.kernel.accessAllowed ? 'block' : 'none';\n",
              "\n",
              "      async function convertToInteractive(key) {\n",
              "        const element = document.querySelector('#df-0f8eb129-932e-4624-80e1-22a432abc9c3');\n",
              "        const dataTable =\n",
              "          await google.colab.kernel.invokeFunction('convertToInteractive',\n",
              "                                                    [key], {});\n",
              "        if (!dataTable) return;\n",
              "\n",
              "        const docLinkHtml = 'Like what you see? Visit the ' +\n",
              "          '<a target=\"_blank\" href=https://colab.research.google.com/notebooks/data_table.ipynb>data table notebook</a>'\n",
              "          + ' to learn more about interactive tables.';\n",
              "        element.innerHTML = '';\n",
              "        dataTable['output_type'] = 'display_data';\n",
              "        await google.colab.output.renderOutput(dataTable, element);\n",
              "        const docLink = document.createElement('div');\n",
              "        docLink.innerHTML = docLinkHtml;\n",
              "        element.appendChild(docLink);\n",
              "      }\n",
              "    </script>\n",
              "  </div>\n",
              "\n",
              "\n",
              "<div id=\"df-838419ba-c334-4fe4-8210-b08ed67ac671\">\n",
              "  <button class=\"colab-df-quickchart\" onclick=\"quickchart('df-838419ba-c334-4fe4-8210-b08ed67ac671')\"\n",
              "            title=\"Suggest charts\"\n",
              "            style=\"display:none;\">\n",
              "\n",
              "<svg xmlns=\"http://www.w3.org/2000/svg\" height=\"24px\"viewBox=\"0 0 24 24\"\n",
              "     width=\"24px\">\n",
              "    <g>\n",
              "        <path d=\"M19 3H5c-1.1 0-2 .9-2 2v14c0 1.1.9 2 2 2h14c1.1 0 2-.9 2-2V5c0-1.1-.9-2-2-2zM9 17H7v-7h2v7zm4 0h-2V7h2v10zm4 0h-2v-4h2v4z\"/>\n",
              "    </g>\n",
              "</svg>\n",
              "  </button>\n",
              "\n",
              "<style>\n",
              "  .colab-df-quickchart {\n",
              "      --bg-color: #E8F0FE;\n",
              "      --fill-color: #1967D2;\n",
              "      --hover-bg-color: #E2EBFA;\n",
              "      --hover-fill-color: #174EA6;\n",
              "      --disabled-fill-color: #AAA;\n",
              "      --disabled-bg-color: #DDD;\n",
              "  }\n",
              "\n",
              "  [theme=dark] .colab-df-quickchart {\n",
              "      --bg-color: #3B4455;\n",
              "      --fill-color: #D2E3FC;\n",
              "      --hover-bg-color: #434B5C;\n",
              "      --hover-fill-color: #FFFFFF;\n",
              "      --disabled-bg-color: #3B4455;\n",
              "      --disabled-fill-color: #666;\n",
              "  }\n",
              "\n",
              "  .colab-df-quickchart {\n",
              "    background-color: var(--bg-color);\n",
              "    border: none;\n",
              "    border-radius: 50%;\n",
              "    cursor: pointer;\n",
              "    display: none;\n",
              "    fill: var(--fill-color);\n",
              "    height: 32px;\n",
              "    padding: 0;\n",
              "    width: 32px;\n",
              "  }\n",
              "\n",
              "  .colab-df-quickchart:hover {\n",
              "    background-color: var(--hover-bg-color);\n",
              "    box-shadow: 0 1px 2px rgba(60, 64, 67, 0.3), 0 1px 3px 1px rgba(60, 64, 67, 0.15);\n",
              "    fill: var(--button-hover-fill-color);\n",
              "  }\n",
              "\n",
              "  .colab-df-quickchart-complete:disabled,\n",
              "  .colab-df-quickchart-complete:disabled:hover {\n",
              "    background-color: var(--disabled-bg-color);\n",
              "    fill: var(--disabled-fill-color);\n",
              "    box-shadow: none;\n",
              "  }\n",
              "\n",
              "  .colab-df-spinner {\n",
              "    border: 2px solid var(--fill-color);\n",
              "    border-color: transparent;\n",
              "    border-bottom-color: var(--fill-color);\n",
              "    animation:\n",
              "      spin 1s steps(1) infinite;\n",
              "  }\n",
              "\n",
              "  @keyframes spin {\n",
              "    0% {\n",
              "      border-color: transparent;\n",
              "      border-bottom-color: var(--fill-color);\n",
              "      border-left-color: var(--fill-color);\n",
              "    }\n",
              "    20% {\n",
              "      border-color: transparent;\n",
              "      border-left-color: var(--fill-color);\n",
              "      border-top-color: var(--fill-color);\n",
              "    }\n",
              "    30% {\n",
              "      border-color: transparent;\n",
              "      border-left-color: var(--fill-color);\n",
              "      border-top-color: var(--fill-color);\n",
              "      border-right-color: var(--fill-color);\n",
              "    }\n",
              "    40% {\n",
              "      border-color: transparent;\n",
              "      border-right-color: var(--fill-color);\n",
              "      border-top-color: var(--fill-color);\n",
              "    }\n",
              "    60% {\n",
              "      border-color: transparent;\n",
              "      border-right-color: var(--fill-color);\n",
              "    }\n",
              "    80% {\n",
              "      border-color: transparent;\n",
              "      border-right-color: var(--fill-color);\n",
              "      border-bottom-color: var(--fill-color);\n",
              "    }\n",
              "    90% {\n",
              "      border-color: transparent;\n",
              "      border-bottom-color: var(--fill-color);\n",
              "    }\n",
              "  }\n",
              "</style>\n",
              "\n",
              "  <script>\n",
              "    async function quickchart(key) {\n",
              "      const quickchartButtonEl =\n",
              "        document.querySelector('#' + key + ' button');\n",
              "      quickchartButtonEl.disabled = true;  // To prevent multiple clicks.\n",
              "      quickchartButtonEl.classList.add('colab-df-spinner');\n",
              "      try {\n",
              "        const charts = await google.colab.kernel.invokeFunction(\n",
              "            'suggestCharts', [key], {});\n",
              "      } catch (error) {\n",
              "        console.error('Error during call to suggestCharts:', error);\n",
              "      }\n",
              "      quickchartButtonEl.classList.remove('colab-df-spinner');\n",
              "      quickchartButtonEl.classList.add('colab-df-quickchart-complete');\n",
              "    }\n",
              "    (() => {\n",
              "      let quickchartButtonEl =\n",
              "        document.querySelector('#df-838419ba-c334-4fe4-8210-b08ed67ac671 button');\n",
              "      quickchartButtonEl.style.display =\n",
              "        google.colab.kernel.accessAllowed ? 'block' : 'none';\n",
              "    })();\n",
              "  </script>\n",
              "</div>\n",
              "\n",
              "    </div>\n",
              "  </div>\n"
            ],
            "application/vnd.google.colaboratory.intrinsic+json": {
              "type": "dataframe",
              "variable_name": "mit_model",
              "summary": "{\n  \"name\": \"mit_model\",\n  \"rows\": 175,\n  \"fields\": [\n    {\n      \"column\": \"Jenis Kelamin\",\n      \"properties\": {\n        \"dtype\": \"number\",\n        \"std\": 0,\n        \"min\": 0,\n        \"max\": 1,\n        \"num_unique_values\": 2,\n        \"samples\": [\n          0,\n          1\n        ],\n        \"semantic_type\": \"\",\n        \"description\": \"\"\n      }\n    },\n    {\n      \"column\": \"Menikah\",\n      \"properties\": {\n        \"dtype\": \"number\",\n        \"std\": 0,\n        \"min\": 0,\n        \"max\": 1,\n        \"num_unique_values\": 2,\n        \"samples\": [\n          0,\n          1\n        ],\n        \"semantic_type\": \"\",\n        \"description\": \"\"\n      }\n    },\n    {\n      \"column\": \"Kota\",\n      \"properties\": {\n        \"dtype\": \"number\",\n        \"std\": 0,\n        \"min\": 0,\n        \"max\": 2,\n        \"num_unique_values\": 3,\n        \"samples\": [\n          1,\n          0\n        ],\n        \"semantic_type\": \"\",\n        \"description\": \"\"\n      }\n    },\n    {\n      \"column\": \"Promo\",\n      \"properties\": {\n        \"dtype\": \"number\",\n        \"std\": 0,\n        \"min\": 0,\n        \"max\": 3,\n        \"num_unique_values\": 4,\n        \"samples\": [\n          2,\n          3\n        ],\n        \"semantic_type\": \"\",\n        \"description\": \"\"\n      }\n    },\n    {\n      \"column\": \"HariFav\",\n      \"properties\": {\n        \"dtype\": \"number\",\n        \"std\": 1,\n        \"min\": 0,\n        \"max\": 6,\n        \"num_unique_values\": 7,\n        \"samples\": [\n          4,\n          2\n        ],\n        \"semantic_type\": \"\",\n        \"description\": \"\"\n      }\n    },\n    {\n      \"column\": \"FavFlavor\",\n      \"properties\": {\n        \"dtype\": \"number\",\n        \"std\": 2,\n        \"min\": 0,\n        \"max\": 8,\n        \"num_unique_values\": 9,\n        \"samples\": [\n          4,\n          6\n        ],\n        \"semantic_type\": \"\",\n        \"description\": \"\"\n      }\n    },\n    {\n      \"column\": \"Umur\",\n      \"properties\": {\n        \"dtype\": \"number\",\n        \"std\": 1.0028694463571919,\n        \"min\": -1.6069992121475416,\n        \"max\": 1.8833802823218526,\n        \"num_unique_values\": 43,\n        \"samples\": [\n          0.47060762979852644,\n          0.88612899818774\n        ],\n        \"semantic_type\": \"\",\n        \"description\": \"\"\n      }\n    },\n    {\n      \"column\": \"Pendapatan Bulanan\",\n      \"properties\": {\n        \"dtype\": \"number\",\n        \"std\": 1.0028694463571923,\n        \"min\": -1.7564200161781356,\n        \"max\": 2.9670424162660454,\n        \"num_unique_values\": 64,\n        \"samples\": [\n          0.3730097116391231,\n          -0.052876271712028126\n        ],\n        \"semantic_type\": \"\",\n        \"description\": \"\"\n      }\n    },\n    {\n      \"column\": \"Skor Pengeluaran\",\n      \"properties\": {\n        \"dtype\": \"number\",\n        \"std\": 1.002869446357193,\n        \"min\": -1.904602168112608,\n        \"max\": 1.86590772258706,\n        \"num_unique_values\": 82,\n        \"samples\": [\n          -0.09629640420562427,\n          0.05760195868007646\n        ],\n        \"semantic_type\": \"\",\n        \"description\": \"\"\n      }\n    }\n  ]\n}"
            }
          },
          "metadata": {},
          "execution_count": 62
        }
      ]
    },
    {
      "cell_type": "markdown",
      "source": [
        "Menggunakan Model"
      ],
      "metadata": {
        "id": "k1UYCi-fr9pi"
      }
    },
    {
      "cell_type": "code",
      "source": [
        "# Menentukan segmen tiap pelanggan\n",
        "clusters = kproto.predict(mit_model, categorical = [0,1,2,3,4,5])\n",
        "print('Segmen Pelanggan: {}\\n'.format(clusters))\n",
        "\n",
        "# Menggabungkan data awal dan segmen pelanggan\n",
        "mit_final =mit2.copy()\n",
        "mit_final['cluster'] = clusters\n",
        "print(mit_final.head(15))"
      ],
      "metadata": {
        "id": "RD_SnVTBsd0-",
        "colab": {
          "base_uri": "https://localhost:8080/"
        },
        "outputId": "9fea0c3d-1669-47a1-9628-94c747a80785"
      },
      "execution_count": 63,
      "outputs": [
        {
          "output_type": "stream",
          "name": "stdout",
          "text": [
            "Segmen Pelanggan: [2 3 2 0 2 3 0 0 0 0 3 1 2 2 1 3 2 0 0 2 1 3 0 2 2 0 3 0 3 3 0 1 0 3 2 0 2\n",
            " 0 1 3 2 0 2 0 2 0 2 1 2 2 2 2 1 2 0 2 2 2 2 3 2 0 3 2 2 2 1 0 1 2 3 3 0 3\n",
            " 2 1 2 2 2 0 2 3 1 2 1 1 2 2 0 2 1 2 2 0 0 0 0 0 3 0 2 2 1 2 3 2 2 1 1 1 0\n",
            " 2 1 2 1 0 1 1 3 0 0 3 0 1 1 3 0 2 0 2 1 1 0 3 0 2 3 3 2 3 0 3 2 3 2 3 3 0\n",
            " 3 0 1 2 0 3 1 1 0 0 3 3 1 0 1 2 0 2 2 0 3 2 0 2 3 0 2]\n",
            "\n",
            "        Umur  Pendapatan Bulanan  Skor Pengeluaran Jenis Kelamin Menikah  \\\n",
            "0   0.969233           -0.517479          0.057602        Wanita       1   \n",
            "1  -0.443539            1.418366          1.365738        Wanita       1   \n",
            "2   1.135442           -0.246461         -0.365619          Pria       1   \n",
            "3  -1.523895           -0.556196          0.173026          Pria       0   \n",
            "4   0.055086            0.140708         -0.327144        Wanita       1   \n",
            "5  -0.360435            0.992480          1.712009        Wanita       1   \n",
            "6  -0.859061            0.256859          0.211500          Pria       1   \n",
            "7  -1.108374           -1.562836          1.019467        Wanita       1   \n",
            "8  -0.443539           -0.478762         -0.134771        Wanita       1   \n",
            "9  -1.357686            0.063275         -0.327144        Wanita       1   \n",
            "11 -0.111122            1.031197          1.596586          Pria       1   \n",
            "12  0.719920            1.457083         -1.365958          Pria       1   \n",
            "13  1.883380           -1.175667         -1.789178          Pria       1   \n",
            "14  1.717172           -1.562836         -1.365958        Wanita       1   \n",
            "16  0.803025            0.682745         -1.327483        Wanita       1   \n",
            "\n",
            "         Kota Promo HariFav FavFlavor  cluster  \n",
            "0     Jakarta   1.0   Sabtu         2        2  \n",
            "1       Depok   1.0  Minggu         6        3  \n",
            "2     Jakarta   2.0  Minggu         3        2  \n",
            "3     Jakarta   1.0    Rabu         7        0  \n",
            "4     Jakarta   2.0   Senin         8        2  \n",
            "5       Depok   0.0   Senin         0        3  \n",
            "6     Jakarta   1.0   Senin         5        0  \n",
            "7       Depok   1.0   Senin         3        0  \n",
            "8     Jakarta   2.0  Selasa         6        0  \n",
            "9     Jakarta   2.0   Senin         4        0  \n",
            "11      Depok   0.0   Jumat         0        3  \n",
            "12  Tangerang   3.0  Selasa         7        1  \n",
            "13  Tangerang   3.0   Sabtu         4        2  \n",
            "14  Tangerang   3.0   Sabtu         8        2  \n",
            "16  Tangerang   3.0   Sabtu         1        1  \n"
          ]
        }
      ]
    },
    {
      "cell_type": "markdown",
      "source": [
        "Menampilkan Cluster Tiap Pelanggan"
      ],
      "metadata": {
        "id": "empm0Eq7sAUG"
      }
    },
    {
      "cell_type": "markdown",
      "source": [
        "Setelah digabungkan data awal pelanggan dan cluster-nya, perlu untuk menampilkan dan mengobservasi hasilnya untuk membantu dalam memberi nama tiap cluster berdasarkan karakteristiknya."
      ],
      "metadata": {
        "id": "gf9mSVE6Yhlk"
      }
    },
    {
      "cell_type": "code",
      "source": [
        "# Menampilkan data pelanggan berdasarkan clusternya\n",
        "for i in range (0,5):\n",
        "    print('\\nPelanggan Cluster: {}\\n'.format(i))\n",
        "    print(mit_final[mit_final['cluster'] == i])"
      ],
      "metadata": {
        "id": "9LrEg3azsdG9",
        "colab": {
          "base_uri": "https://localhost:8080/"
        },
        "outputId": "95851c28-c9c4-4e31-ea91-2e386291bad1"
      },
      "execution_count": 64,
      "outputs": [
        {
          "output_type": "stream",
          "name": "stdout",
          "text": [
            "\n",
            "Pelanggan Cluster: 0\n",
            "\n",
            "         Umur  Pendapatan Bulanan  Skor Pengeluaran Jenis Kelamin Menikah  \\\n",
            "3   -1.523895           -0.556196          0.173026          Pria       0   \n",
            "6   -0.859061            0.256859          0.211500          Pria       1   \n",
            "7   -1.108374           -1.562836          1.019467        Wanita       1   \n",
            "8   -0.443539           -0.478762         -0.134771        Wanita       1   \n",
            "9   -1.357686            0.063275         -0.327144        Wanita       1   \n",
            "20  -1.274582           -1.562836          1.096416          Pria       0   \n",
            "21  -1.606999           -0.478762          0.326924          Pria       0   \n",
            "25  -1.357686           -0.246461          0.249975        Wanita       0   \n",
            "28  -1.440791           -0.904648          0.942518        Wanita       0   \n",
            "30  -1.108374           -0.865931          1.596586          Pria       1   \n",
            "34  -1.191478            0.063275         -0.365619        Wanita       1   \n",
            "36  -0.859061           -0.014159         -0.019347        Wanita       1   \n",
            "39  -1.523895            0.101991          0.134551        Wanita       0   \n",
            "41  -0.360435           -0.711064          0.365399          Pria       1   \n",
            "46  -1.606999            0.179425         -0.096296        Wanita       0   \n",
            "49  -0.277331           -0.091593          0.365399        Wanita       1   \n",
            "51  -1.191478           -1.717703          1.019467        Wanita       1   \n",
            "60  -0.859061           -0.788497         -0.134771        Wanita       1   \n",
            "68  -1.440791           -1.717703         -1.712229        Wanita       0   \n",
            "74  -1.108374           -0.827214          0.557772        Wanita       1   \n",
            "79  -0.194227           -1.253100          0.403873          Pria       1   \n",
            "87  -0.775956            0.605311         -0.404093        Wanita       1   \n",
            "99  -0.692852           -0.788497         -0.327144        Wanita       1   \n",
            "106 -0.194227           -1.601552          1.865908        Wanita       1   \n",
            "107 -1.523895            0.179425         -0.019347        Wanita       0   \n",
            "108 -0.443539           -0.014159         -0.327144        Wanita       1   \n",
            "109 -1.440791           -1.524119          0.596246          Pria       0   \n",
            "110 -1.357686           -1.175667          0.865568        Wanita       1   \n",
            "112 -1.191478           -0.246461          0.057602        Wanita       0   \n",
            "125 -0.692852           -1.253100          1.211840          Pria       1   \n",
            "131 -1.606999           -1.059516          1.596586          Pria       0   \n",
            "138 -1.440791            0.024558         -0.057822          Pria       0   \n",
            "139 -0.609748           -1.601552          0.827094        Wanita       1   \n",
            "142 -1.025269           -1.407968          0.865568          Pria       1   \n",
            "146 -1.523895           -0.478762          0.326924          Pria       0   \n",
            "148 -1.357686           -1.059516          1.173365        Wanita       0   \n",
            "153 -0.942165            0.063275          0.173026          Pria       1   \n",
            "155 -0.194227           -1.446685          1.827433        Wanita       1   \n",
            "161 -1.523895            0.140708         -0.173246          Pria       0   \n",
            "168 -1.108374           -0.014159          0.057602          Pria       1   \n",
            "170 -0.859061           -0.556196          0.019127        Wanita       1   \n",
            "173 -0.942165           -0.246461          0.134551          Pria       1   \n",
            "177 -0.609748           -1.020799          0.865568        Wanita       0   \n",
            "178 -1.274582           -0.130310          0.173026        Wanita       0   \n",
            "183 -1.191478           -1.214383          1.404213        Wanita       0   \n",
            "187 -1.523895           -1.756420         -0.442568          Pria       0   \n",
            "191 -1.274582           -1.678986          0.980992        Wanita       1   \n",
            "195 -0.526644           -1.369251          0.865568          Pria       1   \n",
            "198 -1.191478           -1.640269          1.673535        Wanita       1   \n",
            "\n",
            "          Kota Promo HariFav FavFlavor  cluster  \n",
            "3      Jakarta   1.0    Rabu         7        0  \n",
            "6      Jakarta   1.0   Senin         5        0  \n",
            "7        Depok   1.0   Senin         3        0  \n",
            "8      Jakarta   2.0  Selasa         6        0  \n",
            "9      Jakarta   2.0   Senin         4        0  \n",
            "20       Depok   1.0   Senin         6        0  \n",
            "21     Jakarta   1.0  Selasa         4        0  \n",
            "25     Jakarta   1.0   Senin         0        0  \n",
            "28       Depok   1.0   Senin         4        0  \n",
            "30       Depok   0.0  Selasa         0        0  \n",
            "34     Jakarta   2.0   Senin         1        0  \n",
            "36     Jakarta   1.0   Senin         0        0  \n",
            "39     Jakarta   1.0   Senin         4        0  \n",
            "41     Jakarta   1.0   Senin         0        0  \n",
            "46     Jakarta   2.0  Selasa         0        0  \n",
            "49     Jakarta   1.0   Senin         1        0  \n",
            "51       Depok   1.0  Selasa         2        0  \n",
            "60     Jakarta   2.0   Senin         5        0  \n",
            "68   Tangerang   3.0   Senin         0        0  \n",
            "74       Depok   1.0  Selasa         6        0  \n",
            "79     Jakarta   1.0  Selasa         4        0  \n",
            "87     Jakarta   2.0   Senin         5        0  \n",
            "99     Jakarta   2.0   Jumat         5        0  \n",
            "106      Depok   0.0   Sabtu         0        0  \n",
            "107    Jakarta   1.0   Senin         8        0  \n",
            "108    Jakarta   2.0   Senin         7        0  \n",
            "109      Depok   1.0   Kamis         7        0  \n",
            "110      Depok   1.0   Senin         5        0  \n",
            "112    Jakarta   1.0   Senin         7        0  \n",
            "125      Depok   1.0   Senin         1        0  \n",
            "131      Depok   0.0  Selasa         0        0  \n",
            "138    Jakarta   2.0   Senin         5        0  \n",
            "139      Depok   1.0   Senin         3        0  \n",
            "142      Depok   1.0   Senin         6        0  \n",
            "146    Jakarta   1.0   Senin         5        0  \n",
            "148      Depok   1.0   Senin         8        0  \n",
            "153    Jakarta   1.0    Rabu         0        0  \n",
            "155      Depok   0.0   Sabtu         0        0  \n",
            "161    Jakarta   2.0   Senin         8        0  \n",
            "168    Jakarta   1.0  Selasa         8        0  \n",
            "170    Jakarta   1.0   Senin         4        0  \n",
            "173    Jakarta   1.0   Senin         5        0  \n",
            "177      Depok   1.0   Senin         7        0  \n",
            "178    Jakarta   1.0   Senin         8        0  \n",
            "183      Depok   1.0   Senin         7        0  \n",
            "187    Jakarta   2.0   Senin         3        0  \n",
            "191      Depok   1.0   Senin         0        0  \n",
            "195      Depok   1.0   Senin         0        0  \n",
            "198      Depok   0.0  Selasa         0        0  \n",
            "\n",
            "Pelanggan Cluster: 1\n",
            "\n",
            "         Umur  Pendapatan Bulanan  Skor Pengeluaran Jenis Kelamin Menikah  \\\n",
            "12   0.719920            1.457083         -1.365958          Pria       1   \n",
            "16   0.803025            0.682745         -1.327483        Wanita       1   \n",
            "23   0.553712            0.489160         -1.673755        Wanita       1   \n",
            "35  -1.523895            0.798896         -1.750704          Pria       0   \n",
            "43  -0.028018            1.418366         -0.711890        Wanita       1   \n",
            "53   0.886129            0.644028         -0.557991          Pria       1   \n",
            "58   0.304399            1.495800         -0.442568        Wanita       1   \n",
            "73   1.384755            1.573234         -1.019687        Wanita       1   \n",
            "75   0.636816            2.541156         -0.865788        Wanita       1   \n",
            "83  -1.025269            0.450444         -0.634941        Wanita       0   \n",
            "91   1.800276            0.411727         -1.519856          Pria       1   \n",
            "93   0.221295            1.031197         -1.442907          Pria       1   \n",
            "94   1.717172            1.069914         -1.365958          Pria       1   \n",
            "101 -0.277331            0.682745         -1.096636        Wanita       1   \n",
            "115  0.803025            0.411727         -1.596805          Pria       1   \n",
            "122 -0.277331            1.650668         -1.058161        Wanita       1   \n",
            "123 -1.523895            0.527877         -1.558331          Pria       0   \n",
            "124  0.304399            1.650668         -1.289009        Wanita       1   \n",
            "128 -1.191478            0.373010         -0.827314        Wanita       1   \n",
            "130  0.553712            0.682745         -1.173585        Wanita       1   \n",
            "133 -1.440791            0.489160         -1.750704          Pria       0   \n",
            "136  0.470608            0.411727         -0.596466          Pria       1   \n",
            "143  0.387503            0.992480         -1.173585          Pria       1   \n",
            "144 -0.277331            0.682745         -1.904602          Pria       1   \n",
            "150 -0.028018            0.682745         -1.904602          Pria       1   \n",
            "152  1.800276            1.263499         -1.404432          Pria       1   \n",
            "171  1.634067            0.566594         -1.750704        Wanita       1   \n",
            "175  0.470608            0.682745         -1.289009          Pria       1   \n",
            "176 -1.025269            0.644028         -1.481382          Pria       1   \n",
            "182  0.803025            2.308855         -1.327483        Wanita       1   \n",
            "184 -0.360435            2.037837         -1.635280          Pria       1   \n",
            "\n",
            "          Kota Promo HariFav FavFlavor  cluster  \n",
            "12   Tangerang   3.0  Selasa         7        1  \n",
            "16   Tangerang   3.0   Sabtu         1        1  \n",
            "23   Tangerang   3.0   Sabtu         2        1  \n",
            "35   Tangerang   3.0   Senin         5        1  \n",
            "43   Tangerang   3.0   Senin         2        1  \n",
            "53     Jakarta   2.0   Sabtu         2        1  \n",
            "58     Jakarta   2.0  Minggu         4        1  \n",
            "73   Tangerang   3.0   Sabtu         2        1  \n",
            "75   Tangerang   3.0  Minggu         6        1  \n",
            "83   Tangerang   3.0   Senin         4        1  \n",
            "91   Tangerang   3.0  Minggu         7        1  \n",
            "93   Tangerang   3.0   Senin         1        1  \n",
            "94   Tangerang   3.0   Sabtu         0        1  \n",
            "101  Tangerang   3.0   Jumat         0        1  \n",
            "115  Tangerang   3.0   Sabtu         4        1  \n",
            "122  Tangerang   3.0   Senin         1        1  \n",
            "123  Tangerang   3.0  Selasa         5        1  \n",
            "124  Tangerang   3.0   Sabtu         3        1  \n",
            "128  Tangerang   3.0  Selasa         8        1  \n",
            "130  Tangerang   3.0   Sabtu         8        1  \n",
            "133  Tangerang   3.0   Senin         6        1  \n",
            "136  Tangerang   2.0  Selasa         7        1  \n",
            "143  Tangerang   3.0  Minggu         7        1  \n",
            "144  Tangerang   3.0   Senin         0        1  \n",
            "150  Tangerang   3.0   Senin         1        1  \n",
            "152  Tangerang   3.0  Minggu         5        1  \n",
            "171  Tangerang   3.0  Minggu         8        1  \n",
            "175  Tangerang   3.0   Senin         5        1  \n",
            "176  Tangerang   3.0   Senin         8        1  \n",
            "182  Tangerang   3.0   Sabtu         2        1  \n",
            "184  Tangerang   3.0   Senin         3        1  \n",
            "\n",
            "Pelanggan Cluster: 2\n",
            "\n",
            "         Umur  Pendapatan Bulanan  Skor Pengeluaran Jenis Kelamin Menikah  \\\n",
            "0    0.969233           -0.517479          0.057602        Wanita       1   \n",
            "2    1.135442           -0.246461         -0.365619          Pria       1   \n",
            "4    0.055086            0.140708         -0.327144        Wanita       1   \n",
            "13   1.883380           -1.175667         -1.789178          Pria       1   \n",
            "14   1.717172           -1.562836         -1.365958        Wanita       1   \n",
            "18   0.636816           -1.253100         -0.711890        Wanita       1   \n",
            "22   1.800276           -0.672347          0.365399          Pria       1   \n",
            "26  -0.194227           -1.640269         -1.712229        Wanita       1   \n",
            "27   0.055086           -0.246461          0.173026          Pria       1   \n",
            "38   0.886129           -0.014159         -0.057822          Pria       1   \n",
            "40  -0.028018           -1.562836         -1.442907          Pria       1   \n",
            "45   1.800276           -0.246461         -0.134771          Pria       1   \n",
            "48   0.221295           -0.014159         -0.404093        Wanita       1   \n",
            "50   0.969233            0.063275          0.211500          Pria       1   \n",
            "52   0.969233            0.179425          0.326924        Wanita       1   \n",
            "54   0.803025           -0.672347         -0.365619          Pria       1   \n",
            "55   0.553712           -1.601552         -1.827653          Pria       1   \n",
            "56   0.886129            0.101991         -0.096296          Pria       1   \n",
            "57   0.221295           -1.214383         -0.750364        Wanita       1   \n",
            "59   0.886129           -0.827214         -0.557991          Pria       1   \n",
            "61   0.719920            0.101991          0.057602          Pria       1   \n",
            "62   1.301650           -0.556196         -0.173246          Pria       1   \n",
            "63   1.384755           -0.517479          0.326924        Wanita       1   \n",
            "65   0.221295           -0.246461         -0.096296          Pria       1   \n",
            "67   1.883380           -0.401328         -0.057822        Wanita       1   \n",
            "70   0.969233           -0.711064          0.057602        Wanita       1   \n",
            "71   0.969233           -1.059516         -1.404432        Wanita       1   \n",
            "72   0.886129           -0.246461         -0.173246          Pria       1   \n",
            "76   1.301650           -0.478762         -0.096296        Wanita       1   \n",
            "81   1.467859           -0.130310          0.288450        Wanita       1   \n",
            "84   1.052338           -0.788497          0.173026        Wanita       1   \n",
            "85   0.719920           -0.246461         -0.250195        Wanita       1   \n",
            "86   0.387503           -1.020799         -1.289009        Wanita       1   \n",
            "88   0.636816           -0.246461          0.096077        Wanita       1   \n",
            "92   0.886129            0.024558         -0.327144          Pria       1   \n",
            "96   1.883380           -0.401328          0.211500        Wanita       1   \n",
            "98   0.221295            0.334293          0.288450        Wanita       1   \n",
            "100  0.470608           -0.478762         -0.019347        Wanita       1   \n",
            "103  0.387503            0.179425         -0.288669        Wanita       1   \n",
            "104  1.384755           -1.253100         -1.404432        Wanita       1   \n",
            "113  1.218546           -1.446685         -0.827314          Pria       1   \n",
            "114  0.803025            0.101991         -0.019347        Wanita       1   \n",
            "116  1.218546            0.063275          0.326924          Pria       1   \n",
            "120  1.301650           -1.059516         -1.789178          Pria       1   \n",
            "121  1.052338           -0.672347         -0.211720        Wanita       1   \n",
            "127  0.470608           -0.478762          0.019127          Pria       1   \n",
            "129  1.467859            0.101991         -0.288669          Pria       1   \n",
            "147  0.803025           -0.440045         -0.327144        Wanita       1   \n",
            "149  1.550963            0.721462         -0.596466        Wanita       1   \n",
            "156 -0.111122           -0.904648         -0.942737        Wanita       1   \n",
            "159  0.636816           -0.865931         -0.596466        Wanita       1   \n",
            "163  1.717172           -0.440045          0.173026          Pria       1   \n",
            "165  1.384755           -0.052876          0.173026        Wanita       1   \n",
            "172  1.052338           -0.091593         -0.173246        Wanita       1   \n",
            "186  0.719920           -1.369251         -1.750704        Wanita       1   \n",
            "188  1.550963           -0.633630         -0.173246          Pria       1   \n",
            "189  1.634067           -0.556196          0.211500          Pria       1   \n",
            "193  1.384755            0.101991         -0.173246          Pria       1   \n",
            "196  1.634067           -0.246461          0.019127          Pria       1   \n",
            "199  1.052338           -1.601552         -1.404432          Pria       1   \n",
            "\n",
            "          Kota Promo HariFav FavFlavor  cluster  \n",
            "0      Jakarta   1.0   Sabtu         2        2  \n",
            "2      Jakarta   2.0  Minggu         3        2  \n",
            "4      Jakarta   2.0   Senin         8        2  \n",
            "13   Tangerang   3.0   Sabtu         4        2  \n",
            "14   Tangerang   3.0   Sabtu         8        2  \n",
            "18   Tangerang   3.0   Sabtu         3        2  \n",
            "22     Jakarta   1.0   Sabtu         2        2  \n",
            "26   Tangerang   3.0  Selasa         1        2  \n",
            "27     Jakarta   1.0   Sabtu         1        2  \n",
            "38     Jakarta   1.0   Sabtu         6        2  \n",
            "40   Tangerang   3.0   Senin         0        2  \n",
            "45     Jakarta   2.0  Minggu         8        2  \n",
            "48     Jakarta   2.0    Rabu         8        2  \n",
            "50     Jakarta   1.0   Sabtu         6        2  \n",
            "52     Jakarta   1.0   Sabtu         6        2  \n",
            "54     Jakarta   2.0  Minggu         2        2  \n",
            "55   Tangerang   3.0   Sabtu         2        2  \n",
            "56     Jakarta   2.0  Minggu         3        2  \n",
            "57   Tangerang   3.0  Selasa         1        2  \n",
            "59     Jakarta   2.0   Sabtu         1        2  \n",
            "61     Jakarta   1.0   Kamis         1        2  \n",
            "62     Jakarta   2.0  Minggu         2        2  \n",
            "63     Jakarta   1.0  Minggu         7        2  \n",
            "65     Jakarta   2.0   Kamis         1        2  \n",
            "67     Jakarta   1.0   Sabtu         7        2  \n",
            "70     Jakarta   1.0  Minggu         0        2  \n",
            "71   Tangerang   3.0   Sabtu         3        2  \n",
            "72     Jakarta   2.0  Minggu         0        2  \n",
            "76     Jakarta   2.0  Minggu         4        2  \n",
            "81     Jakarta   1.0   Sabtu         3        2  \n",
            "84     Jakarta   1.0   Sabtu         2        2  \n",
            "85     Jakarta   2.0    Rabu         6        2  \n",
            "86   Tangerang   3.0   Sabtu         4        2  \n",
            "88     Jakarta   1.0   Sabtu         3        2  \n",
            "92     Jakarta   2.0  Minggu         1        2  \n",
            "96     Jakarta   1.0  Minggu         7        2  \n",
            "98     Jakarta   1.0   Sabtu         2        2  \n",
            "100    Jakarta   1.0    Rabu         1        2  \n",
            "103    Jakarta   2.0   Sabtu         4        2  \n",
            "104  Tangerang   3.0   Sabtu         4        2  \n",
            "113  Tangerang   3.0   Sabtu         0        2  \n",
            "114    Jakarta   1.0   Sabtu         3        2  \n",
            "116    Jakarta   1.0   Sabtu         8        2  \n",
            "120  Tangerang   3.0  Minggu         3        2  \n",
            "121    Jakarta   2.0  Minggu         7        2  \n",
            "127    Jakarta   1.0   Kamis         6        2  \n",
            "129    Jakarta   2.0  Minggu         5        2  \n",
            "147    Jakarta   2.0  Minggu         0        2  \n",
            "149    Jakarta   2.0   Sabtu         8        2  \n",
            "156  Tangerang   3.0   Sabtu         3        2  \n",
            "159    Jakarta   2.0  Minggu         0        2  \n",
            "163    Jakarta   1.0   Sabtu         4        2  \n",
            "165    Jakarta   1.0  Minggu         3        2  \n",
            "172    Jakarta   2.0   Sabtu         1        2  \n",
            "186  Tangerang   3.0   Senin         7        2  \n",
            "188    Jakarta   2.0   Sabtu         4        2  \n",
            "189    Jakarta   1.0  Minggu         8        2  \n",
            "193    Jakarta   2.0   Sabtu         3        2  \n",
            "196    Jakarta   1.0  Minggu         5        2  \n",
            "199  Tangerang   3.0  Minggu         6        2  \n",
            "\n",
            "Pelanggan Cluster: 3\n",
            "\n",
            "         Umur  Pendapatan Bulanan  Skor Pengeluaran Jenis Kelamin Menikah  \\\n",
            "1   -0.443539            1.418366          1.365738        Wanita       1   \n",
            "5   -0.360435            0.992480          1.712009        Wanita       1   \n",
            "11  -0.111122            1.031197          1.596586          Pria       1   \n",
            "17  -0.443539            0.605311          1.404213        Wanita       1   \n",
            "24   0.138191            0.411727          0.942518          Pria       1   \n",
            "29  -0.609748            0.682745          0.865568        Wanita       1   \n",
            "31  -0.859061            1.069914          0.711670          Pria       1   \n",
            "32  -0.111122            0.953763          0.942518        Wanita       1   \n",
            "37  -0.859061            0.682745          1.481162        Wanita       1   \n",
            "44  -0.443539            1.650668          0.711670        Wanita       1   \n",
            "66  -0.609748            2.967042          1.250314          Pria       1   \n",
            "69  -0.775956            1.573234          0.673195          Pria       1   \n",
            "77   0.055086            2.037837          1.558111        Wanita       1   \n",
            "78   0.221295            0.411727          1.712009          Pria       1   \n",
            "80  -0.277331            0.682745          1.519636          Pria       1   \n",
            "89  -0.775956            0.644028          1.788959          Pria       1   \n",
            "111  0.138191            0.334293          1.558111          Pria       1   \n",
            "118 -0.692852            1.457083          1.442687        Wanita       1   \n",
            "137 -0.194227            0.527877          0.827094        Wanita       1   \n",
            "141 -0.526644            0.450444          0.788619        Wanita       1   \n",
            "145  0.055086            0.411727          0.942518          Pria       1   \n",
            "154 -0.194227            1.263499          1.519636          Pria       1   \n",
            "157  0.055086            0.682745          0.980992        Wanita       1   \n",
            "158 -0.775956            1.031197          0.942518          Pria       1   \n",
            "160 -0.443539            0.566594          1.635060          Pria       1   \n",
            "162 -0.692852            0.489160          1.442687        Wanita       1   \n",
            "164 -0.692852            0.721462          1.250314        Wanita       1   \n",
            "166 -0.609748            0.682745          1.057941        Wanita       1   \n",
            "167 -0.443539            1.031197          0.480822          Pria       1   \n",
            "169 -0.443539            2.541156          0.904043          Pria       1   \n",
            "174 -0.111122            1.650668          1.327263        Wanita       1   \n",
            "179 -0.443539            0.489160          0.865568          Pria       1   \n",
            "181 -0.443539            0.644028          0.904043        Wanita       1   \n",
            "192 -0.526644            0.373010          1.019467        Wanita       1   \n",
            "197 -0.194227            2.308855          1.096416        Wanita       1   \n",
            "\n",
            "        Kota Promo HariFav FavFlavor  cluster  \n",
            "1      Depok   1.0  Minggu         6        3  \n",
            "5      Depok   0.0   Senin         0        3  \n",
            "11     Depok   0.0   Jumat         0        3  \n",
            "17     Depok   1.0   Kamis         8        3  \n",
            "24     Depok   1.0   Sabtu         8        3  \n",
            "29     Depok   1.0  Selasa         8        3  \n",
            "31     Depok   1.0   Kamis         0        3  \n",
            "32     Depok   1.0  Minggu         6        3  \n",
            "37     Depok   1.0   Senin         0        3  \n",
            "44     Depok   1.0   Sabtu         1        3  \n",
            "66     Depok   1.0   Sabtu         3        3  \n",
            "69     Depok   1.0   Senin         8        3  \n",
            "77     Depok   0.0  Minggu         0        3  \n",
            "78     Depok   0.0   Sabtu         0        3  \n",
            "80     Depok   1.0   Senin         0        3  \n",
            "89     Depok   0.0   Senin         0        3  \n",
            "111    Depok   0.0   Sabtu         0        3  \n",
            "118    Depok   1.0  Selasa         0        3  \n",
            "137    Depok   1.0   Senin         4        3  \n",
            "141    Depok   1.0   Senin         2        3  \n",
            "145    Depok   1.0   Sabtu         7        3  \n",
            "154    Depok   0.0  Selasa         0        3  \n",
            "157    Depok   1.0   Sabtu         1        3  \n",
            "158    Depok   1.0   Senin         5        3  \n",
            "160    Depok   0.0   Senin         0        3  \n",
            "162    Depok   1.0   Senin         0        3  \n",
            "164    Depok   1.0   Senin         2        3  \n",
            "166    Depok   1.0   Sabtu         5        3  \n",
            "167  Jakarta   1.0   Sabtu         5        3  \n",
            "169    Depok   1.0  Minggu         3        3  \n",
            "174    Depok   1.0   Senin         4        3  \n",
            "179    Depok   1.0  Minggu         1        3  \n",
            "181    Depok   1.0   Sabtu         2        3  \n",
            "192    Depok   1.0   Senin         4        3  \n",
            "197    Depok   1.0   Senin         7        3  \n",
            "\n",
            "Pelanggan Cluster: 4\n",
            "\n",
            "Empty DataFrame\n",
            "Columns: [Umur, Pendapatan Bulanan, Skor Pengeluaran, Jenis Kelamin, Menikah, Kota, Promo, HariFav, FavFlavor, cluster]\n",
            "Index: []\n"
          ]
        }
      ]
    },
    {
      "cell_type": "markdown",
      "source": [
        "Visualisasi Hasil Clustering - Box Plot"
      ],
      "metadata": {
        "id": "9xizk5iYsEeG"
      }
    },
    {
      "cell_type": "markdown",
      "source": [
        "Membuat visualisasi hasil clustering untuk dapat memudahkan kamu melakukan penamaan di tiap-tiap cluster."
      ],
      "metadata": {
        "id": "SX9HR5U3YbTP"
      }
    },
    {
      "cell_type": "code",
      "source": [
        "for i in kolom_num:\n",
        "    plt.figure(figsize=(14,8))\n",
        "    ax = sns.boxplot(x = 'cluster',y = i, data = mit_final)\n",
        "    plt.title('\\nBox Plot {}\\n'.format(i), fontsize=12)\n",
        "    plt.show()"
      ],
      "metadata": {
        "id": "iGXtGwEmscZU",
        "colab": {
          "base_uri": "https://localhost:8080/",
          "height": 1000
        },
        "outputId": "022ae851-1791-465d-d81d-a4760456bbfc"
      },
      "execution_count": 65,
      "outputs": [
        {
          "output_type": "display_data",
          "data": {
            "text/plain": [
              "<Figure size 1400x800 with 1 Axes>"
            ],
            "image/png": "[encoded data removed]"
          },
          "metadata": {}
        },
        {
          "output_type": "display_data",
          "data": {
            "text/plain": [
              "<Figure size 1400x800 with 1 Axes>"
            ],
            "image/png": "[encoded data removed]"
          },
          "metadata": {}
        },
        {
          "output_type": "display_data",
          "data": {
            "text/plain": [
              "<Figure size 1400x800 with 1 Axes>"
            ],
            "image/png": "[encoded data removed]"
          },
          "metadata": {}
        }
      ]
    },
    {
      "cell_type": "markdown",
      "source": [
        "Dari Visualisasi diatas terdapat:\n",
        "1. **Cluster 0** Umur di bawah 37 tahun dengan pendapatan bulanan di bawah Rp18.000.000 dan skor pengeluaran di atas 50.\n",
        "2. **Cluster 1** Umur mayoritas lebih dari 37 tahun dengan pendapatan bulanan di atas Rp18.000.000 dan skor pengeluaran di bawah 50.\n",
        "3. **Cluster 2** Umur lebih dari 37 tahun dengan pendapatan di bawah Rp18.000.000 dan skor pengeluaran di bawah 50.\n",
        "4. **Cluster 3** Umur kurang dari 37 tahun dengan pendapatan bulanan di atas Rp18.000.000 dan skor pengeluaran di atas 50."
      ],
      "metadata": {
        "id": "YOcnoJKLq6x8"
      }
    },
    {
      "cell_type": "markdown",
      "source": [
        "Visualisasi Hasil Clustering - Count Plot"
      ],
      "metadata": {
        "id": "vmLBjlqBsK_s"
      }
    },
    {
      "cell_type": "markdown",
      "source": [
        "Membuat visualisasi hasil clustering untuk dapat memudahkan melakukan penamaan di tiap-tiap cluster."
      ],
      "metadata": {
        "id": "H4BM3YteYVUz"
      }
    },
    {
      "cell_type": "code",
      "source": [
        "for i in kolom_kat:\n",
        "    plt.figure(figsize=(14,8))\n",
        "    ax = sns.countplot(data = mit_final, x = 'cluster', hue = i )\n",
        "    plt.title('\\nCount Plot {}\\n'.format(i), fontsize=12)\n",
        "    ax.legend(loc=\"upper center\")\n",
        "for p in ax.patches:\n",
        "    ax.annotate(format(p.get_height(), '.0f'),\n",
        "    (p.get_x() + p.get_width() / 2., p.get_height()),\n",
        "    ha = 'center',\n",
        "    va = 'center',\n",
        "    xytext = (0, 10),\n",
        "    textcoords = 'offset points')\n",
        "\n",
        "sns.despine(right = True,top = True, left = True)\n",
        "ax.axes.yaxis.set_visible(False)\n",
        "plt.show()"
      ],
      "metadata": {
        "id": "AKQljdTIsbsk",
        "colab": {
          "base_uri": "https://localhost:8080/",
          "height": 1000
        },
        "outputId": "c71caca6-3fd3-4b46-c84c-3b1756972511"
      },
      "execution_count": 66,
      "outputs": [
        {
          "output_type": "display_data",
          "data": {
            "text/plain": [
              "<Figure size 1400x800 with 1 Axes>"
            ],
            "image/png": "[encoded data removed]"
          },
          "metadata": {}
        },
        {
          "output_type": "display_data",
          "data": {
            "text/plain": [
              "<Figure size 1400x800 with 1 Axes>"
            ],
            "image/png": "[encoded data removed]"
          },
          "metadata": {}
        },
        {
          "output_type": "display_data",
          "data": {
            "text/plain": [
              "<Figure size 1400x800 with 1 Axes>"
            ],
            "image/png": "[encoded data removed]"
          },
          "metadata": {}
        },
        {
          "output_type": "display_data",
          "data": {
            "text/plain": [
              "<Figure size 1400x800 with 1 Axes>"
            ],
            "image/png": "[encoded data removed]"
          },
          "metadata": {}
        },
        {
          "output_type": "display_data",
          "data": {
            "text/plain": [
              "<Figure size 1400x800 with 1 Axes>"
            ],
            "image/png": "[encoded data removed]"
          },
          "metadata": {}
        },
        {
          "output_type": "display_data",
          "data": {
            "text/plain": [
              "<Figure size 1400x800 with 1 Axes>"
            ],
            "image/png": "[encoded data removed]"
          },
          "metadata": {}
        }
      ]
    },
    {
      "cell_type": "markdown",
      "source": [
        "**Cluster 0**: Wanita lebih banyak, sebagian besar sudah menikah. Sebagian besar dari Jakarta. Promo jarang digunakan, dan hari teramai adalah Senin. Rasa favorit: Vanilla.\n",
        "\n",
        "**Cluster 1**: Pria lebih banyak,sebagian besar sudah menikah . Sebagian besar dari Tangerang. Promo sering digunakan, dan hari teramai adalah Senin. Rasa favorit: Coconut.\n",
        "\n",
        "**Cluster 2**: Wanita lebih banyak, semua sudah menikah. Sebagian besar dari Jakarta. Promo jarang digunakan, hari teramai adalah Sabtu. Rasa favorit: Blueberry.\n",
        "\n",
        "**Cluster 3**: wanita lebih banyak,semua sudah menikah . Sebagian besar dari Depok. Promo jarang digunakan, hari teramai adalah Senin. Rasa favorit: Vanilla."
      ],
      "metadata": {
        "id": "qqZQypxir7Du"
      }
    },
    {
      "cell_type": "markdown",
      "source": [
        "Menamakan Cluster"
      ],
      "metadata": {
        "id": "lNmOLOcFsS9J"
      }
    },
    {
      "cell_type": "code",
      "source": [
        "# Mapping nama kolom\n",
        "mit_final['Segmen'] = mit_final['cluster'].map({\n",
        "0: 'Diamond Customer',\n",
        "1: 'Silver Customer',\n",
        "2: 'Bronze Customer',\n",
        "3: 'Gold Customer',\n",
        "})\n",
        "\n",
        "print(mit_final.info())\n",
        "print(mit_final.head(10))"
      ],
      "metadata": {
        "colab": {
          "base_uri": "https://localhost:8080/"
        },
        "id": "lKWfQVFS8pE5",
        "outputId": "601649d0-f9df-4f1a-e501-135fe475859e"
      },
      "execution_count": 67,
      "outputs": [
        {
          "output_type": "stream",
          "name": "stdout",
          "text": [
            "<class 'pandas.core.frame.DataFrame'>\n",
            "Index: 175 entries, 0 to 199\n",
            "Data columns (total 11 columns):\n",
            " #   Column              Non-Null Count  Dtype   \n",
            "---  ------              --------------  -----   \n",
            " 0   Umur                175 non-null    float64 \n",
            " 1   Pendapatan Bulanan  175 non-null    float64 \n",
            " 2   Skor Pengeluaran    175 non-null    float64 \n",
            " 3   Jenis Kelamin       175 non-null    category\n",
            " 4   Menikah             175 non-null    category\n",
            " 5   Kota                175 non-null    category\n",
            " 6   Promo               175 non-null    category\n",
            " 7   HariFav             175 non-null    category\n",
            " 8   FavFlavor           175 non-null    category\n",
            " 9   cluster             175 non-null    uint16  \n",
            " 10  Segmen              175 non-null    object  \n",
            "dtypes: category(6), float64(3), object(1), uint16(1)\n",
            "memory usage: 9.5+ KB\n",
            "None\n",
            "       Umur  Pendapatan Bulanan  Skor Pengeluaran Jenis Kelamin Menikah  \\\n",
            "0  0.969233           -0.517479          0.057602        Wanita       1   \n",
            "1 -0.443539            1.418366          1.365738        Wanita       1   \n",
            "2  1.135442           -0.246461         -0.365619          Pria       1   \n",
            "3 -1.523895           -0.556196          0.173026          Pria       0   \n",
            "4  0.055086            0.140708         -0.327144        Wanita       1   \n",
            "5 -0.360435            0.992480          1.712009        Wanita       1   \n",
            "6 -0.859061            0.256859          0.211500          Pria       1   \n",
            "7 -1.108374           -1.562836          1.019467        Wanita       1   \n",
            "8 -0.443539           -0.478762         -0.134771        Wanita       1   \n",
            "9 -1.357686            0.063275         -0.327144        Wanita       1   \n",
            "\n",
            "      Kota Promo HariFav FavFlavor  cluster            Segmen  \n",
            "0  Jakarta   1.0   Sabtu         2        2   Bronze Customer  \n",
            "1    Depok   1.0  Minggu         6        3     Gold Customer  \n",
            "2  Jakarta   2.0  Minggu         3        2   Bronze Customer  \n",
            "3  Jakarta   1.0    Rabu         7        0  Diamond Customer  \n",
            "4  Jakarta   2.0   Senin         8        2   Bronze Customer  \n",
            "5    Depok   0.0   Senin         0        3     Gold Customer  \n",
            "6  Jakarta   1.0   Senin         5        0  Diamond Customer  \n",
            "7    Depok   1.0   Senin         3        0  Diamond Customer  \n",
            "8  Jakarta   2.0  Selasa         6        0  Diamond Customer  \n",
            "9  Jakarta   2.0   Senin         4        0  Diamond Customer  \n"
          ]
        }
      ]
    },
    {
      "cell_type": "markdown",
      "source": [
        "\n",
        "# Kesimpulan Akhir\n",
        "\n",
        "* Diamond Customer:\n",
        "\n",
        "  Diamond Customer memiliki daya beli yang cukup tinggi, namun tidak terlalu responsif terhadap promosi diskon. Oleh karena itu, strategi yang lebih cocok untuk Diamond Customer ini adalah program loyalitas atau penawaran produk eksklusif.\n",
        "\n",
        "* Silver Customer:\n",
        "\n",
        " Silver Customer menunjukkan respons yang kuat terhadap promosi, sehingga strategi pemasaran yang berfokus pada diskon dan voucher akan sangat efektif dalam menarik dan mempertahankan Silver Customer ini.\n",
        "\n",
        "\n",
        "* Bronze Customer:\n",
        " Bronze Customer memiliki daya beli yang lebih rendah, sehingga pendekatan yang lebih cocok adalah memberikan penawaran paket hemat atau produk dengan harga yang lebih terjangkau untuk meningkatkan penjualan kepada Bronze Customer.\n",
        "\n",
        "\n",
        "* Gold Customer:\n",
        "  Gold Customer ini memiliki daya beli yang tinggi, strategi yang lebih efektif akan melibatkan produk premium atau layanan eksklusif yang menambah nilai pembelian, daripada promosi diskon.\n"
      ],
      "metadata": {
        "id": "_RIGsIBYVMqK"
      }
    },
    {
      "cell_type": "markdown",
      "source": [
        "# Rekomendasi Strategis untuk MixITup"
      ],
      "metadata": {
        "id": "OtRvQSlpIy2Q"
      }
    },
    {
      "cell_type": "markdown",
      "source": [
        "1. Fokus Promosi Berbasis Diskon untuk Silver Customer:\n",
        "\n",
        "  Kami merekomendasikan untuk meningkatkan frekuensi diskon, terutama pada hari Senin, yang merupakan hari teramai bagi kelompok ini. Strategi ini dapat menarik minat Silver Customer untuk lebih sering melakukan pembelian dengan mendorong loyalitas terhadap brand melalui promosi yang menarik.\n",
        "\n",
        "2. Program Loyalitas dan Produk Eksklusif untuk Diamond Customer dan Gold Customer\n",
        "\n",
        " Kami merekomendasikan program loyalitas berbasis poin atau membership yang menawarkan keuntungan eksklusif, seperti akses lebih awal ke produk baru, produk premium, atau layanan khusus. Ini dapat meningkatkan engagement tanpa mengandalkan potongan harga, yang terbukti kurang efektif untuk Customer Diamond dan Gold ini. Selain itu, penawaran eksklusif, seperti menu spesial hanya untuk member, dapat meningkatkan frekuensi kunjungan dan nilai pembelian.\n",
        "\n",
        "3. Penawaran Paket Hemat untuk Bronze Customer:\n",
        "\n",
        " Kami merekomendasikan penawaran paket hemat yang mencakup kombinasi beberapa produk dengan harga lebih terjangkau. Selain itu, memperkenalkan diskon spesifik pada hari teramai mereka, yaitu Sabtu, dapat meningkatkan volume penjualan. Strategi ini akan memberikan insentif bagi mereka untuk berbelanja lebih banyak dengan tetap mempertimbangkan daya beli Bronze Customer yang lebih terbatas.\n",
        "\n",
        "4. Optimalisasi Produk Berdasarkan Preferensi Rasa:\n",
        "\n",
        " Kami merekomendasikan untuk meningkatkan ketersediaan rasa Vanilla di Jakarta dan Depok untuk Diamond dan Gold Customer, lalu rasa Coconut di Tangerang untuk Silver Customer, dan rasa Blueberry di Jakarta untuk Bronze Customer.\n",
        "\n",
        "5. Menyesuaian Kapasitas dan Promosi Berdasarkan Hari Teramai:\n",
        "\n",
        " Kami merekomendasikan agar MixITup mengoptimalkan kapasitas operasional, seperti menambah staf dan persediaan di cabang-cabang pada :\n",
        " - Hari senin dan sabtu di kota Jakarta\n",
        " - Hari senin di kota Tangerang\n",
        " - Hari Senin di kota Depok\n",
        "\n",
        " agar dapat melayani lonjakan permintaan dengan lebih baik.\n",
        "\n",
        " Menawarkan promo \"Monday Madness\" untuk Diamond Customer, Gold Customer, dan Silver Customer. Serta \"Saturday Special\" untuk Bronze Customer.\n",
        "\n",
        "6. Segmentasi Pemasaran Berdasarkan Lokasi:\n",
        "\n",
        " Kami menyarankan untuk menargetkan kampanye iklan dan promosi secara geografis.\n",
        "\n",
        " Memasang iklan digital yang menargetkan Tangerang dapat difokuskan pada penawaran promosi Coconut untuk Silver Customer, sementara Jakarta dapat menjadi target utama untuk promosi Blueberry bagi Bronze Customer.\n"
      ],
      "metadata": {
        "id": "Fdl_3ifFIy7U"
      }
    },
    {
      "cell_type": "markdown",
      "source": [
        "# Kesimpulan Keseluruhan\n",
        "Dengan memahami karakteristik dan kebiasaan customer, MixITup dapat mengembangkan strategi pemasaran yang lebih efektif dan efisien. Dengan menargetkan promosi, rasa favorit, serta jadwal layanan yang disesuaikan dengan preferensi tiap customer, kita bisa meningkatkan kepuasan pelanggan sekaligus memaksimalkan penjualan di berbagai segmen.\n",
        "\n"
      ],
      "metadata": {
        "id": "nvYE-F7tG1EX"
      }
    }
  ]
}